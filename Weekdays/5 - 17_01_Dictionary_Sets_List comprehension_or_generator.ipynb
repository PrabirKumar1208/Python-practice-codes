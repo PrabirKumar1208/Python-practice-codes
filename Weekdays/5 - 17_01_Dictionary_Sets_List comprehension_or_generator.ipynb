{
 "cells": [
  {
   "cell_type": "markdown",
   "metadata": {},
   "source": [
    "### Dictionary\n",
    "##### \"\"\"\"\n",
    "- unordered data, indexing\n",
    "- Key:value pair\n",
    "- ket should be immutable python data type\n",
    "- values can be and python data type\n",
    "- duplicate keys are not allowed\"\"\""
   ]
  },
  {
   "cell_type": "code",
   "execution_count": 38,
   "metadata": {},
   "outputs": [
    {
     "data": {
      "text/plain": [
       "'{key1:val1,\\nkey2:val2,\\n...\\nkeyn:valn}'"
      ]
     },
     "execution_count": 38,
     "metadata": {},
     "output_type": "execute_result"
    }
   ],
   "source": [
    "##\n",
    "\"\"\"{key1:val1,\n",
    "key2:val2,\n",
    "...\n",
    "keyn:valn}\"\"\""
   ]
  },
  {
   "cell_type": "code",
   "execution_count": 40,
   "metadata": {},
   "outputs": [
    {
     "data": {
      "text/plain": [
       "{}"
      ]
     },
     "execution_count": 40,
     "metadata": {},
     "output_type": "execute_result"
    }
   ],
   "source": [
    "### initialise a blank dictionary\n",
    "d_={}\n",
    "dict()\n",
    "d_\n"
   ]
  },
  {
   "cell_type": "code",
   "execution_count": 4,
   "metadata": {},
   "outputs": [
    {
     "name": "stdout",
     "output_type": "stream",
     "text": [
      "<class 'dict'>\n",
      "{'a': 1, 'b': [1, 2, 3, 4, 5, 6, 7, 8, 9, 10], 'c': 'string', 'd': (1, 3, 5)}\n"
     ]
    }
   ],
   "source": [
    "dict_ = {'a':1,'b':list(range(1,11)), 'c':'string','d':tuple(range(1,6,2))}\n",
    "print (type(dict_))\n",
    "print (dict_)"
   ]
  },
  {
   "cell_type": "code",
   "execution_count": 7,
   "metadata": {},
   "outputs": [
    {
     "name": "stdout",
     "output_type": "stream",
     "text": [
      "{'a': 23}\n"
     ]
    }
   ],
   "source": [
    "dict1 = {'a':1, 'a':23}\n",
    "print (dict1)"
   ]
  },
  {
   "cell_type": "code",
   "execution_count": 8,
   "metadata": {},
   "outputs": [
    {
     "name": "stdout",
     "output_type": "stream",
     "text": [
      "{'a': 1}\n",
      "{'a': 2}\n",
      "{'a': 1, 'b': 1}\n"
     ]
    }
   ],
   "source": [
    "print ({'a':1,'a':1})\n",
    "print ({'a':1,'a':2})\n",
    "print ({'a':1,'b':1})"
   ]
  },
  {
   "cell_type": "code",
   "execution_count": null,
   "metadata": {},
   "outputs": [],
   "source": [
    "### Accessing values in dictionary\n",
    "dict_ = {'a':1,'b':list(range(1,11)), 'c':'string','d':tuple(range(1,6,2))}\n"
   ]
  },
  {
   "cell_type": "code",
   "execution_count": 12,
   "metadata": {},
   "outputs": [
    {
     "data": {
      "text/plain": [
       "'string'"
      ]
     },
     "execution_count": 12,
     "metadata": {},
     "output_type": "execute_result"
    }
   ],
   "source": [
    "dict_['c']\n"
   ]
  },
  {
   "cell_type": "code",
   "execution_count": 14,
   "metadata": {},
   "outputs": [
    {
     "name": "stdout",
     "output_type": "stream",
     "text": [
      "5\n"
     ]
    }
   ],
   "source": [
    "print (dict_['d'][-1])"
   ]
  },
  {
   "cell_type": "code",
   "execution_count": 26,
   "metadata": {},
   "outputs": [
    {
     "data": {
      "text/plain": [
       "{'name': ['A', 'B', 'C', 'D', 'E'],\n",
       " 'age': ['12', '23', '34', '22', '21'],\n",
       " 'rollno': (1, 2, 3, 4, 5),\n",
       " 'address': {'city': ['bangalore', 'chennai', 'mumbai', 'delhi', 'kolkata'],\n",
       "  'state': ['KA', 'TN', 'MH', 'DL', 'WB'],\n",
       "  'pin': [1, 2, 3, 4, 5]}}"
      ]
     },
     "execution_count": 26,
     "metadata": {},
     "output_type": "execute_result"
    }
   ],
   "source": [
    "###\n",
    "\n",
    "students = { 'name': ['A','B','C','D','E'],\n",
    "           'age': ['12','23','34','22','21'],\n",
    "            'rollno':(1,2,3,4,5),\n",
    "           'address': {'city':['bangalore','chennai','mumbai','delhi','kolkata'],\n",
    "                      'state':['KA','TN','MH','DL','WB'],\n",
    "                      'pin':[1,2,3,4,5]}}\n",
    "students"
   ]
  },
  {
   "cell_type": "code",
   "execution_count": 25,
   "metadata": {},
   "outputs": [
    {
     "name": "stdout",
     "output_type": "stream",
     "text": [
      "chennai\n"
     ]
    }
   ],
   "source": [
    "print (students['address']['city'][1])"
   ]
  },
  {
   "cell_type": "code",
   "execution_count": 31,
   "metadata": {},
   "outputs": [
    {
     "name": "stdout",
     "output_type": "stream",
     "text": [
      "3\n"
     ]
    }
   ],
   "source": [
    "print (students['rollno'][2]) ## can not change the rollno as it is a tuple, although it can be overwritten"
   ]
  },
  {
   "cell_type": "code",
   "execution_count": 32,
   "metadata": {},
   "outputs": [
    {
     "data": {
      "text/plain": [
       "{'name': ['A', 'B', 'C', 'D', 'E'],\n",
       " 'age': ['12', '23', '34', '22', '21'],\n",
       " 'rollno': (1, 2, 3, 4, 5),\n",
       " 'address': {'city': ['bangalore', 'chennai', 'mumbai', 'delhi', 'kolkata'],\n",
       "  'state': ['KA', 'TN', 'MH', 'DL', 'WB'],\n",
       "  'pin': [1, 2, 3, 4, 5]},\n",
       " 'school_name': ['ABC', 'BCD', 'CDE', 'DEF', 'EFG']}"
      ]
     },
     "execution_count": 32,
     "metadata": {},
     "output_type": "execute_result"
    }
   ],
   "source": [
    "## Add school name with new key and values\n",
    "### kay:school_name\n",
    "### value: ['ABC','BCD','CDE','DEF','EFG']\n",
    "\n",
    "students['school_name'] = ['ABC','BCD','CDE','DEF','EFG']\n",
    "students"
   ]
  },
  {
   "cell_type": "code",
   "execution_count": 35,
   "metadata": {},
   "outputs": [
    {
     "data": {
      "text/plain": [
       "{'name': ['A', 'B', 'C', 'D', 'E'],\n",
       " 'age': ['12', '23', '34', '22', '21'],\n",
       " 'rollno': (1, 2, 3, 4, 5),\n",
       " 'address': {'area': ['a', 'b', 'c', 'd', 'e'],\n",
       "  'city': ['bangalore', 'chennai', 'mumbai', 'delhi', 'kolkata'],\n",
       "  'state': ['KA', 'TN', 'MH', 'DL', 'WB'],\n",
       "  'pin': [1, 2, 3, 4, 5]},\n",
       " 'school_name': ['ABC', 'BCD', 'CDE', 'DEF', 'EFG']}"
      ]
     },
     "execution_count": 35,
     "metadata": {},
     "output_type": "execute_result"
    }
   ],
   "source": [
    "students['address'] = {'area':['a','b','c','d','e'],\n",
    "                       'city': ['bangalore', 'chennai', 'mumbai', 'delhi', 'kolkata'],\n",
    "  'state': ['KA', 'TN', 'MH', 'DL', 'WB'],\n",
    "  'pin': [1, 2, 3, 4, 5]}\n",
    "students\n"
   ]
  },
  {
   "cell_type": "code",
   "execution_count": 37,
   "metadata": {},
   "outputs": [
    {
     "data": {
      "text/plain": [
       "{'name': ['A', 'B', 'C', 'D', 'E'],\n",
       " 'age': ['12', '23', '34', '22', '21'],\n",
       " 'rollno': (1, 2, 3, 4, 5),\n",
       " 'address': {'area': ['f', 'b', 'c', 'd', 'e'],\n",
       "  'city': ['bangalore', 'chennai', 'mumbai', 'delhi', 'kolkata'],\n",
       "  'state': ['KA', 'TN', 'MH', 'DL', 'WB'],\n",
       "  'pin': [1, 2, 3, 4, 5]},\n",
       " 'school_name': ['ABC', 'BCD', 'CDE', 'DEF', 'EFG']}"
      ]
     },
     "execution_count": 37,
     "metadata": {},
     "output_type": "execute_result"
    }
   ],
   "source": [
    "students['address']['area'][0]='f'\n",
    "students"
   ]
  },
  {
   "cell_type": "code",
   "execution_count": 48,
   "metadata": {},
   "outputs": [
    {
     "name": "stdout",
     "output_type": "stream",
     "text": [
      "1 b\n",
      "2 c\n",
      "3 d\n",
      "4 e\n"
     ]
    },
    {
     "data": {
      "text/plain": [
       "{'b': 1, 'c': 2, 'd': 3, 'e': 4}"
      ]
     },
     "execution_count": 48,
     "metadata": {},
     "output_type": "execute_result"
    }
   ],
   "source": [
    "[1,2,3,4]\n",
    "['b','c','d','e']\n",
    "d={}\n",
    "for v,k in zip([1,2,3,4],['b','c','d','e']):\n",
    "    print(v,k)\n",
    "    d[k]=v\n",
    "d"
   ]
  },
  {
   "cell_type": "code",
   "execution_count": 50,
   "metadata": {},
   "outputs": [
    {
     "data": {
      "text/plain": [
       "{'b': 1, 'c': 2, 'd': 3, 'e': 4}"
      ]
     },
     "execution_count": 50,
     "metadata": {},
     "output_type": "execute_result"
    }
   ],
   "source": [
    "dict(zip(['b','c','d','e'],[1,2,3,4]))"
   ]
  },
  {
   "cell_type": "code",
   "execution_count": 52,
   "metadata": {},
   "outputs": [
    {
     "name": "stdout",
     "output_type": "stream",
     "text": [
      "name ['A', 'B', 'C', 'D', 'E']\n",
      "age ['12', '23', '34', '22', '21']\n",
      "rollno (1, 2, 3, 4, 5)\n",
      "address {'area': ['f', 'b', 'c', 'd', 'e'], 'city': ['bangalore', 'chennai', 'mumbai', 'delhi', 'kolkata'], 'state': ['KA', 'TN', 'MH', 'DL', 'WB'], 'pin': [1, 2, 3, 4, 5]}\n",
      "school_name ['ABC', 'BCD', 'CDE', 'DEF', 'EFG']\n"
     ]
    }
   ],
   "source": [
    "### Looping through dictionary\n",
    "for k,v in students.items():\n",
    "    print(k,v)"
   ]
  },
  {
   "cell_type": "code",
   "execution_count": 55,
   "metadata": {},
   "outputs": [
    {
     "name": "stdout",
     "output_type": "stream",
     "text": [
      "name\n",
      "age\n",
      "rollno\n",
      "address\n",
      "school_name\n"
     ]
    }
   ],
   "source": [
    "for k in students.keys():\n",
    "    print(k)"
   ]
  },
  {
   "cell_type": "code",
   "execution_count": 57,
   "metadata": {},
   "outputs": [
    {
     "name": "stdout",
     "output_type": "stream",
     "text": [
      "['A', 'B', 'C', 'D', 'E']\n",
      "['12', '23', '34', '22', '21']\n",
      "(1, 2, 3, 4, 5)\n",
      "{'area': ['f', 'b', 'c', 'd', 'e'], 'city': ['bangalore', 'chennai', 'mumbai', 'delhi', 'kolkata'], 'state': ['KA', 'TN', 'MH', 'DL', 'WB'], 'pin': [1, 2, 3, 4, 5]}\n",
      "['ABC', 'BCD', 'CDE', 'DEF', 'EFG']\n"
     ]
    }
   ],
   "source": [
    "for v in students.values():\n",
    "    print(v)"
   ]
  },
  {
   "cell_type": "markdown",
   "metadata": {},
   "source": [
    "## Sets\n",
    "    - unordered\n",
    "    - unindexed\n",
    "    - duplicate members are not allowed\n",
    "    "
   ]
  },
  {
   "cell_type": "code",
   "execution_count": 58,
   "metadata": {},
   "outputs": [
    {
     "name": "stdout",
     "output_type": "stream",
     "text": [
      "<class 'list'>\n"
     ]
    }
   ],
   "source": [
    "set1 = list(range(1,20))\n",
    "print(type(set1))"
   ]
  },
  {
   "cell_type": "code",
   "execution_count": 60,
   "metadata": {},
   "outputs": [
    {
     "name": "stdout",
     "output_type": "stream",
     "text": [
      "{1, 2, 3, 4, 5, 6, 7, 8, 9, 10, 11, 12, 13, 14, 15, 16, 17, 18, 19}\n",
      "<class 'set'>\n"
     ]
    }
   ],
   "source": [
    "print(set(set1))\n",
    "print(type(set(set1)))"
   ]
  },
  {
   "cell_type": "code",
   "execution_count": 68,
   "metadata": {},
   "outputs": [
    {
     "name": "stdout",
     "output_type": "stream",
     "text": [
      "{1, 2, 3, 4, 5, 6, 7, 8, 9, 10, 11, 12, 13, 14, 15, 16, 17, 18, 19, 20}\n",
      "{15, 16, 17, 18, 19, 20, 21, 22, 23, 24, 25, 26, 27, 28, 29, 30}\n"
     ]
    }
   ],
   "source": [
    "s1 = set(range(1,21))\n",
    "s2 = set(range(15,31))\n",
    "print(s1)\n",
    "print(s2)"
   ]
  },
  {
   "cell_type": "code",
   "execution_count": 73,
   "metadata": {},
   "outputs": [
    {
     "name": "stdout",
     "output_type": "stream",
     "text": [
      "{1, 2, 3, 4, 5, 6, 7, 8, 9, 10, 11, 12, 13, 14}\n",
      "{1, 2, 3, 4, 5, 6, 7, 8, 9, 10, 11, 12, 13, 14, 15, 16, 17, 18, 19, 20}\n"
     ]
    }
   ],
   "source": [
    "### differences\n",
    "print (s1.difference(s2))\n",
    "print(s1)"
   ]
  },
  {
   "cell_type": "code",
   "execution_count": 74,
   "metadata": {},
   "outputs": [
    {
     "name": "stdout",
     "output_type": "stream",
     "text": [
      "None\n",
      "{1, 2, 3, 4, 5, 6, 7, 8, 9, 10, 11, 12, 13, 14}\n"
     ]
    }
   ],
   "source": [
    "## difference_update\n",
    "print(s1.difference_update(s2))\n",
    "print(s1)"
   ]
  },
  {
   "cell_type": "code",
   "execution_count": 75,
   "metadata": {},
   "outputs": [
    {
     "name": "stdout",
     "output_type": "stream",
     "text": [
      "{1, 2, 3, 4, 5, 6, 7, 8, 9, 10, 11, 12, 13, 14, 15, 16, 17, 18, 19, 20}\n",
      "{15, 16, 17, 18, 19, 20, 21, 22, 23, 24, 25, 26, 27, 28, 29, 30}\n"
     ]
    }
   ],
   "source": [
    "s1 = set(range(1,21))\n",
    "s2 = set(range(15,31))\n",
    "print(s1)\n",
    "print(s2)"
   ]
  },
  {
   "cell_type": "code",
   "execution_count": 76,
   "metadata": {},
   "outputs": [
    {
     "name": "stdout",
     "output_type": "stream",
     "text": [
      "{15, 16, 17, 18, 19, 20}\n"
     ]
    }
   ],
   "source": [
    "print(s1.intersection(s2))"
   ]
  },
  {
   "cell_type": "code",
   "execution_count": 77,
   "metadata": {},
   "outputs": [
    {
     "data": {
      "text/plain": [
       "{1,\n",
       " 2,\n",
       " 3,\n",
       " 4,\n",
       " 5,\n",
       " 6,\n",
       " 7,\n",
       " 8,\n",
       " 9,\n",
       " 10,\n",
       " 11,\n",
       " 12,\n",
       " 13,\n",
       " 14,\n",
       " 15,\n",
       " 16,\n",
       " 17,\n",
       " 18,\n",
       " 19,\n",
       " 20,\n",
       " 21,\n",
       " 22,\n",
       " 23,\n",
       " 24,\n",
       " 25,\n",
       " 26,\n",
       " 27,\n",
       " 28,\n",
       " 29,\n",
       " 30}"
      ]
     },
     "execution_count": 77,
     "metadata": {},
     "output_type": "execute_result"
    }
   ],
   "source": [
    "s1.union(s2)"
   ]
  },
  {
   "cell_type": "code",
   "execution_count": 83,
   "metadata": {},
   "outputs": [
    {
     "name": "stdout",
     "output_type": "stream",
     "text": [
      "<class 'set'>\n"
     ]
    }
   ],
   "source": [
    "## Duplicate value ??? set does not support duplicate value\n",
    "s4 = {1,1,1,2,3,4}\n",
    "print (type(s4))\n"
   ]
  },
  {
   "cell_type": "code",
   "execution_count": 86,
   "metadata": {},
   "outputs": [
    {
     "name": "stdout",
     "output_type": "stream",
     "text": [
      "1\n",
      "{2, 3, 4}\n"
     ]
    }
   ],
   "source": [
    "s4 = {1,1,1,2,3,4}\n",
    "print(s4.pop())\n",
    "print(s4)"
   ]
  },
  {
   "cell_type": "code",
   "execution_count": 92,
   "metadata": {},
   "outputs": [
    {
     "name": "stdout",
     "output_type": "stream",
     "text": [
      "{'a', 'b'}\n",
      "('a', 'b')\n",
      "['a', 'b']\n"
     ]
    }
   ],
   "source": [
    "s = {'a','b','c'}\n",
    "result = s.intersection(set(['a','b','e']))\n",
    "print (result)\n",
    "print(tuple(result))\n",
    "print(list(result))"
   ]
  },
  {
   "cell_type": "markdown",
   "metadata": {},
   "source": [
    "# ## List comprehension/generator"
   ]
  },
  {
   "cell_type": "code",
   "execution_count": 94,
   "metadata": {},
   "outputs": [],
   "source": [
    "###\n",
    "syntax  #  [<ouput expression> for <variable> in <iterable> (<conditions>)]"
   ]
  },
  {
   "cell_type": "code",
   "execution_count": 99,
   "metadata": {},
   "outputs": [],
   "source": [
    "### generate a list of integer from 1 to 10\n",
    "\n",
    "list_ = []\n",
    "for e in range(1,11):\n",
    "    list_.append(e)\n",
    "print(list_)"
   ]
  },
  {
   "cell_type": "code",
   "execution_count": 101,
   "metadata": {},
   "outputs": [
    {
     "data": {
      "text/plain": [
       "[1, 2, 3, 4, 5, 6, 7, 8, 9, 10]"
      ]
     },
     "execution_count": 101,
     "metadata": {},
     "output_type": "execute_result"
    }
   ],
   "source": [
    "[i for i in range(1,11)]"
   ]
  },
  {
   "cell_type": "code",
   "execution_count": 104,
   "metadata": {},
   "outputs": [
    {
     "name": "stdout",
     "output_type": "stream",
     "text": [
      "[1, 4, 9, 16, 25, 36, 49, 64, 81, 100]\n"
     ]
    }
   ],
   "source": [
    "squared_list = [i**2 for i in range(1,11)]\n",
    "print(squared_list)"
   ]
  },
  {
   "cell_type": "code",
   "execution_count": 117,
   "metadata": {},
   "outputs": [
    {
     "name": "stdout",
     "output_type": "stream",
     "text": [
      "[4, 16, 36, 64, 100, 144, 196, 256, 324, 400]\n"
     ]
    }
   ],
   "source": [
    "squared_list = [i**2 for i in range(2,21) if i%2==0]\n",
    "print(squared_list)"
   ]
  },
  {
   "cell_type": "code",
   "execution_count": 118,
   "metadata": {},
   "outputs": [
    {
     "name": "stdout",
     "output_type": "stream",
     "text": [
      "2 4\n",
      "4 16\n",
      "6 36\n",
      "8 64\n",
      "10 100\n",
      "12 144\n",
      "14 196\n",
      "16 256\n",
      "18 324\n",
      "20 400\n"
     ]
    }
   ],
   "source": [
    "for e in range(1,21):\n",
    "    if e%2==0:\n",
    "        print(e,e**2)"
   ]
  },
  {
   "cell_type": "code",
   "execution_count": 120,
   "metadata": {},
   "outputs": [
    {
     "name": "stdout",
     "output_type": "stream",
     "text": [
      "[[4, 2], [16, 4], [36, 6], [64, 8], [100, 10], [144, 12], [196, 14], [256, 16], [324, 18], [400, 20]]\n"
     ]
    }
   ],
   "source": [
    "squared_list = [[i**2,i] for i in range(2,21) if i%2==0]\n",
    "print(squared_list)"
   ]
  },
  {
   "cell_type": "code",
   "execution_count": 129,
   "metadata": {},
   "outputs": [
    {
     "data": {
      "text/plain": [
       "[(4, 2),\n",
       " (16, 4),\n",
       " (36, 6),\n",
       " (64, 8),\n",
       " (100, 10),\n",
       " (144, 12),\n",
       " (196, 14),\n",
       " (256, 16),\n",
       " (324, 18),\n",
       " (400, 20)]"
      ]
     },
     "execution_count": 129,
     "metadata": {},
     "output_type": "execute_result"
    }
   ],
   "source": [
    "[(i**2,i) for i in range(2,21) if i%2==0]\n"
   ]
  },
  {
   "cell_type": "code",
   "execution_count": 138,
   "metadata": {},
   "outputs": [
    {
     "name": "stdout",
     "output_type": "stream",
     "text": [
      "2\n",
      "4\n",
      "6\n"
     ]
    }
   ],
   "source": [
    "for i in range(1,4):\n",
    "    for j in range(2,4):\n",
    "        if j%2==0:\n",
    "            print (i*j)"
   ]
  },
  {
   "cell_type": "code",
   "execution_count": 132,
   "metadata": {},
   "outputs": [
    {
     "data": {
      "text/plain": [
       "[2, 4, 6]"
      ]
     },
     "execution_count": 132,
     "metadata": {},
     "output_type": "execute_result"
    }
   ],
   "source": [
    "[i*j for i in range(1,4) for j in range(2,4) if j%2==0]"
   ]
  },
  {
   "cell_type": "markdown",
   "metadata": {},
   "source": [
    "## List Generator"
   ]
  },
  {
   "cell_type": "code",
   "execution_count": 1,
   "metadata": {},
   "outputs": [
    {
     "data": {
      "text/plain": [
       "[2, 4, 6]"
      ]
     },
     "execution_count": 1,
     "metadata": {},
     "output_type": "execute_result"
    }
   ],
   "source": [
    "[i*j for i in range(1,4) for j in range(2,4) if j%2==0]"
   ]
  },
  {
   "cell_type": "code",
   "execution_count": 142,
   "metadata": {},
   "outputs": [
    {
     "data": {
      "text/plain": [
       "<generator object <genexpr> at 0x0000012BE3E20648>"
      ]
     },
     "execution_count": 142,
     "metadata": {},
     "output_type": "execute_result"
    }
   ],
   "source": [
    "(i*j for i in range(1,4) for j in range(2,4) if j%2==0)"
   ]
  },
  {
   "cell_type": "code",
   "execution_count": 143,
   "metadata": {},
   "outputs": [
    {
     "data": {
      "text/plain": [
       "[2, 4, 6]"
      ]
     },
     "execution_count": 143,
     "metadata": {},
     "output_type": "execute_result"
    }
   ],
   "source": [
    "list((i*j for i in range(1,4) for j in range(2,4) if j%2==0))"
   ]
  },
  {
   "cell_type": "code",
   "execution_count": 146,
   "metadata": {},
   "outputs": [
    {
     "name": "stdout",
     "output_type": "stream",
     "text": [
      "2\n",
      "4\n",
      "6\n"
     ]
    }
   ],
   "source": [
    "for i in (i*j for i in range(1,4) for j in range(2,4) if j%2==0):\n",
    "    print(i)"
   ]
  },
  {
   "cell_type": "code",
   "execution_count": null,
   "metadata": {},
   "outputs": [],
   "source": []
  },
  {
   "cell_type": "code",
   "execution_count": null,
   "metadata": {},
   "outputs": [],
   "source": []
  },
  {
   "cell_type": "code",
   "execution_count": null,
   "metadata": {},
   "outputs": [],
   "source": []
  }
 ],
 "metadata": {
  "kernelspec": {
   "display_name": "Python 3",
   "language": "python",
   "name": "python3"
  },
  "language_info": {
   "codemirror_mode": {
    "name": "ipython",
    "version": 3
   },
   "file_extension": ".py",
   "mimetype": "text/x-python",
   "name": "python",
   "nbconvert_exporter": "python",
   "pygments_lexer": "ipython3",
   "version": "3.7.4"
  }
 },
 "nbformat": 4,
 "nbformat_minor": 2
}
