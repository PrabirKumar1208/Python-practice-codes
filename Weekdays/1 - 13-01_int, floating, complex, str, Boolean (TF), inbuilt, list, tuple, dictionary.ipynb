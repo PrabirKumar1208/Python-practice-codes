{
 "cells": [
  {
   "cell_type": "code",
   "execution_count": null,
   "metadata": {},
   "outputs": [],
   "source": [
    "print (), min, max, for,while, if, else, ord(), str, int, float"
   ]
  },
  {
   "cell_type": "code",
   "execution_count": null,
   "metadata": {},
   "outputs": [],
   "source": [
    "Val = 2.0"
   ]
  },
  {
   "cell_type": "markdown",
   "metadata": {},
   "source": [
    "# Data types\n",
    "## int, floating, complex, str, Boolean (T/F), inbuilt, list, tuple, dictionary\n"
   ]
  },
  {
   "cell_type": "code",
   "execution_count": null,
   "metadata": {},
   "outputs": [],
   "source": []
  },
  {
   "cell_type": "code",
   "execution_count": null,
   "metadata": {},
   "outputs": [],
   "source": [
    "int_ = 5\n",
    "float_ = 3.0\n",
    "string_ = 'mystring'\n",
    "complex_ = 2+3j\n",
    "print (type(int_))\n",
    "print (type(float_))\n",
    "print (type(string_))\n",
    "print (type(complex_))"
   ]
  },
  {
   "cell_type": "code",
   "execution_count": null,
   "metadata": {},
   "outputs": [],
   "source": [
    "int_ = 'mystring'\n",
    "float_ = 3.0\n",
    "string_ = 5\n",
    "complex_ = 2+3j\n",
    "# display var value and type\n",
    "print (int_, type(int_))\n",
    "print (float_, type(float_))\n",
    "print (string_, type(string_))\n",
    "print (complex_, type(complex_))"
   ]
  },
  {
   "cell_type": "code",
   "execution_count": 5,
   "metadata": {},
   "outputs": [
    {
     "name": "stdout",
     "output_type": "stream",
     "text": [
      "<class 'int'>\n",
      "8\n"
     ]
    }
   ],
   "source": [
    "val1 = 3\n",
    "val2 = 5\n",
    "temp = val1+val2\n",
    "print (type(temp))\n",
    "print (val1 + val2)"
   ]
  },
  {
   "cell_type": "code",
   "execution_count": null,
   "metadata": {},
   "outputs": [],
   "source": [
    "##\n",
    "str1 = ' '\n",
    "str2 = \" \"\n",
    "str3 = \"\"\" \"\"\"\n",
    "str4 = ' ' ' ' ' '\n",
    "print (type (str1))\n",
    "print (type (str2))\n",
    "print (type (str3))\n",
    "print (type (str4))"
   ]
  },
  {
   "cell_type": "code",
   "execution_count": null,
   "metadata": {},
   "outputs": [],
   "source": [
    "##\n",
    "str1 = ' '\n",
    "str2 = \" \"\n",
    "str3 = \"\"\" \"\"\"\n",
    "str4 = ' ' ' ' ' '\n",
    "print (str1, type (str1))\n",
    "print (str2, type (str2))\n",
    "print (str3, type (str3))\n",
    "print (str4, type (str4))"
   ]
  },
  {
   "cell_type": "code",
   "execution_count": null,
   "metadata": {},
   "outputs": [],
   "source": [
    "she is going home.\n",
    "and will come tomorrow"
   ]
  },
  {
   "cell_type": "code",
   "execution_count": null,
   "metadata": {},
   "outputs": [],
   "source": [
    "##\n",
    "#str1 = 'she's going home.'\n",
    "str2 = \"she's going home.\"\n",
    "str3 = \"\"\"she's going home.\"\"\"\n",
    "str4 = '''she's going home.'''\n",
    "print (str1)\n",
    "print (str2)\n",
    "print (str3)\n",
    "print (str4)"
   ]
  },
  {
   "cell_type": "code",
   "execution_count": null,
   "metadata": {},
   "outputs": [],
   "source": [
    "##\n",
    "# str1 = 'she is going home.\n",
    "#and will come tomorrow'\n",
    "#str2 = \"she is going home.\n",
    "#and will come tomorrow\"\n",
    "str3 = \"\"\"she is going home.\n",
    "and will come tomorrow\"\"\"\n",
    "str4 = '''she is going home.\n",
    "and will come tomorrow'''\n",
    "#print (str1)\n",
    "#print (str2)\n",
    "print (str3)\n",
    "print (str4)"
   ]
  },
  {
   "cell_type": "code",
   "execution_count": null,
   "metadata": {},
   "outputs": [],
   "source": [
    "###\n",
    "str1 = 'mystring'\n",
    "print (str1[0]) # indexing/ Passing position within sqr bracket\n",
    "print (str1[2])\n",
    "print (str1[2:4])\n",
    "print (str1[0:2])"
   ]
  },
  {
   "cell_type": "code",
   "execution_count": null,
   "metadata": {},
   "outputs": [],
   "source": [
    "## in above string_replace 's' with 'a', string elements can't be changed, its called immutable, but entier string can be overwritten"
   ]
  },
  {
   "cell_type": "code",
   "execution_count": null,
   "metadata": {},
   "outputs": [],
   "source": [
    "print (str1[2])\n",
    "str1[2] = 'a'"
   ]
  },
  {
   "cell_type": "code",
   "execution_count": null,
   "metadata": {},
   "outputs": [],
   "source": [
    "str1 = 'hello'\n",
    "str2 = ' world'\n",
    "int_3 = 5\n",
    "print (str1+str2)\n",
    "#print (str1 + int_3) ## can only concatenate str (not \"int\") to str\n",
    "print (str1 + str(int_3))\n",
    "print (str1*2) # '*' will duplicate the string"
   ]
  },
  {
   "cell_type": "code",
   "execution_count": null,
   "metadata": {},
   "outputs": [],
   "source": [
    "# replace 's' with 'a'\n",
    "str1 = 'mystring'\n",
    "\n",
    "str1[0:2]+'a'+str1[3:]"
   ]
  },
  {
   "cell_type": "code",
   "execution_count": 1,
   "metadata": {},
   "outputs": [
    {
     "name": "stdout",
     "output_type": "stream",
     "text": [
      "myatring\n"
     ]
    }
   ],
   "source": [
    "# replace 's' with 'a'\n",
    "str1 = 'mystring'\n",
    "\n",
    "new_str = str1[0:2]+'a'+str1[3:]\n",
    "print (new_str)"
   ]
  },
  {
   "cell_type": "code",
   "execution_count": null,
   "metadata": {},
   "outputs": [],
   "source": []
  },
  {
   "cell_type": "code",
   "execution_count": null,
   "metadata": {},
   "outputs": [],
   "source": [
    "print (str1 [0:])\n",
    "print (str1 [-1:])"
   ]
  },
  {
   "cell_type": "code",
   "execution_count": 6,
   "metadata": {},
   "outputs": [
    {
     "name": "stdout",
     "output_type": "stream",
     "text": [
      "True\n",
      "False\n",
      "Mystring\n"
     ]
    }
   ],
   "source": [
    "# inbuilt methods supported by string object type\n",
    "## check if the string has any number or spl char\n",
    "str1 = 'mystring'\n",
    "str2 = 'mystring123.'\n",
    "print (str1.isalnum())\n",
    "print (str2.isalnum())\n",
    "print (str1.capitalize())"
   ]
  },
  {
   "cell_type": "code",
   "execution_count": 1,
   "metadata": {},
   "outputs": [
    {
     "name": "stdout",
     "output_type": "stream",
     "text": [
      "<class 'bool'>\n",
      "<class 'bool'>\n"
     ]
    }
   ],
   "source": [
    "## Boolean: True:False\n",
    "print (type(True))\n",
    "print (type(False))"
   ]
  },
  {
   "cell_type": "markdown",
   "metadata": {},
   "source": [
    "# Operators and their precedences\n",
    "## Arithmetic, Comparision/relation, logical\n"
   ]
  },
  {
   "cell_type": "code",
   "execution_count": 7,
   "metadata": {},
   "outputs": [
    {
     "name": "stdout",
     "output_type": "stream",
     "text": [
      "6\n",
      "9\n",
      "1.5\n",
      "1\n",
      "1.0\n",
      "1\n"
     ]
    }
   ],
   "source": [
    "var1 = 3\n",
    "var2 = 2\n",
    "print (var1*var2)\n",
    "print (var1**var2)\n",
    "print (var1/var2)\n",
    "print (var1//var2)\n",
    "print (3//2.0)\n",
    "print (var1%var2)"
   ]
  },
  {
   "cell_type": "markdown",
   "metadata": {},
   "source": [
    "# Comparision operators\n",
    " ### always returs bool : True ot Flase"
   ]
  },
  {
   "cell_type": "code",
   "execution_count": null,
   "metadata": {},
   "outputs": [],
   "source": [
    "var1 = 3\n",
    "var2 = 4\n",
    "print (var1==var2)\n",
    "print (var1!=var2)\n",
    "print (var1>var2)\n",
    "print (var1>=var2)\n",
    "print (var1<var2)\n",
    "print (var1<=var2)"
   ]
  },
  {
   "cell_type": "markdown",
   "metadata": {},
   "source": [
    "# Logical operators: AND, OR, NOT"
   ]
  },
  {
   "cell_type": "code",
   "execution_count": 13,
   "metadata": {},
   "outputs": [
    {
     "name": "stdout",
     "output_type": "stream",
     "text": [
      "False\n",
      "True\n",
      "True\n",
      "True\n",
      "False\n"
     ]
    }
   ],
   "source": [
    "print (not (True))\n",
    "print (not (False))\n",
    "print (not (True==False))\n",
    "print ( ( not (3!=5) or (2>1) or ((4--4) and (4!=4))))\n",
    "print ( ( not (3!=5) and (2>1) and (4--4) and (4!=4)))\n",
    "# # print (7>4) and (4<0) or (4>2) and (4>5)\n",
    "# # print ( (7>4) and (4<0) or (4>2) and (4>5))"
   ]
  },
  {
   "cell_type": "markdown",
   "metadata": {},
   "source": [
    "# Assignment OPerator\n",
    "### =, +=, -=, /=, %=, //="
   ]
  },
  {
   "cell_type": "code",
   "execution_count": null,
   "metadata": {},
   "outputs": [],
   "source": [
    "a=10\n",
    "# a = a+5\n",
    "a +=5\n",
    "print (a) #\n",
    "a -=10\n",
    "print (a)\n",
    "a *=2\n",
    "print (a)\n",
    "a %=4\n",
    "print (a)\n",
    "a /=5\n",
    "print (a)\n",
    "a //=5\n",
    "print (a)"
   ]
  },
  {
   "cell_type": "markdown",
   "metadata": {},
   "source": [
    "# identity operators: is, is not\n"
   ]
  },
  {
   "cell_type": "code",
   "execution_count": null,
   "metadata": {},
   "outputs": [],
   "source": [
    "print (3 is 4)\n",
    "print (3 is not 4)"
   ]
  },
  {
   "cell_type": "markdown",
   "metadata": {},
   "source": [
    "# Membership Operators: in, not in "
   ]
  },
  {
   "cell_type": "code",
   "execution_count": null,
   "metadata": {},
   "outputs": [],
   "source": [
    "print (5 in [3,4,5,6,7])\n",
    "print (5 in [3,4,6,7])"
   ]
  },
  {
   "cell_type": "code",
   "execution_count": null,
   "metadata": {},
   "outputs": [],
   "source": [
    "'bangalore' in ['bangalore','chennai','mumbai', 'delhi']"
   ]
  },
  {
   "cell_type": "code",
   "execution_count": null,
   "metadata": {},
   "outputs": [],
   "source": [
    "'bangalore' not in ['bangalore','chennai','mumbai', 'delhi']"
   ]
  },
  {
   "cell_type": "code",
   "execution_count": null,
   "metadata": {},
   "outputs": [],
   "source": [
    "## inbuitl functions\n",
    "input()"
   ]
  },
  {
   "cell_type": "code",
   "execution_count": null,
   "metadata": {},
   "outputs": [],
   "source": [
    "myint = input('Enter an integer')\n",
    "print (type(myint))"
   ]
  },
  {
   "cell_type": "code",
   "execution_count": null,
   "metadata": {},
   "outputs": [],
   "source": [
    "## read two integers from user and print sum of two"
   ]
  },
  {
   "cell_type": "code",
   "execution_count": 2,
   "metadata": {},
   "outputs": [
    {
     "name": "stdout",
     "output_type": "stream",
     "text": [
      "enter first value3\n",
      "enter second value4\n",
      "7\n"
     ]
    }
   ],
   "source": [
    "val1 = int(input('enter first value'))\n",
    "val2 = int(input('enter second value'))\n",
    "#sum_ = int(val1) + int(val2)\n",
    "print (val1+val2)"
   ]
  },
  {
   "cell_type": "code",
   "execution_count": 3,
   "metadata": {},
   "outputs": [
    {
     "name": "stdout",
     "output_type": "stream",
     "text": [
      "enter first value5\n",
      "enter second value6\n",
      "11\n"
     ]
    }
   ],
   "source": [
    "val1 = input('enter first value')\n",
    "val2 = input('enter second value')\n",
    "sum_ = int(val1) + int(val2)\n",
    "print (sum_)"
   ]
  },
  {
   "cell_type": "code",
   "execution_count": null,
   "metadata": {},
   "outputs": [],
   "source": [
    "val1 = input('enter first value')"
   ]
  },
  {
   "cell_type": "code",
   "execution_count": 46,
   "metadata": {},
   "outputs": [
    {
     "name": "stdout",
     "output_type": "stream",
     "text": [
      "123456789\n",
      "1234\n",
      "5678\n",
      "98\n",
      "678\n",
      "987654321\n"
     ]
    }
   ],
   "source": [
    "val1 = '123456789'\n",
    "print (val1[0:])\n",
    "print (val1[0:4])\n",
    "print (val1[-5:-1:])\n",
    "print (val1[-1:-3:-1])\n",
    "print (val1[-4:-1:])\n",
    "print (val1[-1::-1])"
   ]
  },
  {
   "cell_type": "code",
   "execution_count": 53,
   "metadata": {},
   "outputs": [
    {
     "name": "stdout",
     "output_type": "stream",
     "text": [
      "enter first value: 1234\n",
      "4321\n"
     ]
    }
   ],
   "source": [
    "val1 = input('enter first value: ')\n",
    "#print (val1[0:4])\n",
    "print (val1[-1::-1])"
   ]
  },
  {
   "cell_type": "code",
   "execution_count": 13,
   "metadata": {},
   "outputs": [
    {
     "ename": "AttributeError",
     "evalue": "'str' object has no attribute 'formar'",
     "output_type": "error",
     "traceback": [
      "\u001b[1;31m---------------------------------------------------------------------------\u001b[0m",
      "\u001b[1;31mAttributeError\u001b[0m                            Traceback (most recent call last)",
      "\u001b[1;32m<ipython-input-13-411ef3bb4684>\u001b[0m in \u001b[0;36m<module>\u001b[1;34m\u001b[0m\n\u001b[0;32m      1\u001b[0m \u001b[0mx\u001b[0m \u001b[1;33m=\u001b[0m \u001b[1;36m1\u001b[0m\u001b[1;33m\u001b[0m\u001b[1;33m\u001b[0m\u001b[0m\n\u001b[0;32m      2\u001b[0m \u001b[1;32mwhile\u001b[0m \u001b[1;33m(\u001b[0m\u001b[0mx\u001b[0m\u001b[1;33m<\u001b[0m\u001b[1;36m5\u001b[0m\u001b[1;33m)\u001b[0m\u001b[1;33m:\u001b[0m\u001b[1;33m\u001b[0m\u001b[1;33m\u001b[0m\u001b[0m\n\u001b[1;32m----> 3\u001b[1;33m     \u001b[0mprint\u001b[0m \u001b[1;33m(\u001b[0m\u001b[1;34m'x is: {}'\u001b[0m\u001b[1;33m.\u001b[0m\u001b[0mformar\u001b[0m\u001b[1;33m(\u001b[0m\u001b[0mx\u001b[0m\u001b[1;33m)\u001b[0m\u001b[1;33m)\u001b[0m\u001b[1;33m\u001b[0m\u001b[1;33m\u001b[0m\u001b[0m\n\u001b[0m\u001b[0;32m      4\u001b[0m     \u001b[0mx\u001b[0m\u001b[1;33m=\u001b[0m \u001b[0mx\u001b[0m\u001b[1;33m+\u001b[0m\u001b[1;36m1\u001b[0m\u001b[1;33m\u001b[0m\u001b[1;33m\u001b[0m\u001b[0m\n",
      "\u001b[1;31mAttributeError\u001b[0m: 'str' object has no attribute 'formar'"
     ]
    }
   ],
   "source": [
    "x = 1\n",
    "while (x<5):\n",
    "    print ('x is: {}'.formar(x))\n",
    "    x= x+1"
   ]
  },
  {
   "cell_type": "code",
   "execution_count": 7,
   "metadata": {},
   "outputs": [
    {
     "name": "stdout",
     "output_type": "stream",
     "text": [
      "range(0, 5)\n"
     ]
    }
   ],
   "source": [
    "print (range (0,5))"
   ]
  },
  {
   "cell_type": "code",
   "execution_count": null,
   "metadata": {},
   "outputs": [],
   "source": []
  },
  {
   "cell_type": "code",
   "execution_count": null,
   "metadata": {},
   "outputs": [],
   "source": []
  },
  {
   "cell_type": "code",
   "execution_count": null,
   "metadata": {},
   "outputs": [],
   "source": []
  },
  {
   "cell_type": "code",
   "execution_count": null,
   "metadata": {},
   "outputs": [],
   "source": []
  },
  {
   "cell_type": "code",
   "execution_count": null,
   "metadata": {},
   "outputs": [],
   "source": []
  }
 ],
 "metadata": {
  "kernelspec": {
   "display_name": "Python 3",
   "language": "python",
   "name": "python3"
  },
  "language_info": {
   "codemirror_mode": {
    "name": "ipython",
    "version": 3
   },
   "file_extension": ".py",
   "mimetype": "text/x-python",
   "name": "python",
   "nbconvert_exporter": "python",
   "pygments_lexer": "ipython3",
   "version": "3.7.4"
  }
 },
 "nbformat": 4,
 "nbformat_minor": 2
}
