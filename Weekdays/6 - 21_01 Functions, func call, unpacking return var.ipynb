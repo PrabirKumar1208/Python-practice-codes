{
 "cells": [
  {
   "cell_type": "code",
   "execution_count": 1,
   "metadata": {},
   "outputs": [],
   "source": [
    "## Function\n",
    "\n",
    "### def <func_name>(<parameter>):\n",
    "### <function body>\n",
    "#    (returm) # opetional\n",
    "# Note: parameters are also opetional   \n",
    "# reduce redundency"
   ]
  },
  {
   "cell_type": "code",
   "execution_count": 6,
   "metadata": {},
   "outputs": [],
   "source": [
    "### WAF to read two numbers and display sum.\n",
    "\n",
    "#### function definition\n",
    "def addition():\n",
    "    n1 = int(input('enter first number'))\n",
    "    n2 = int(input('enter second number'))\n",
    "    print (\"summation is\", n1+n2)\n",
    "\n",
    "        "
   ]
  },
  {
   "cell_type": "code",
   "execution_count": 7,
   "metadata": {},
   "outputs": [
    {
     "name": "stdout",
     "output_type": "stream",
     "text": [
      "enter first number34\n",
      "enter second number3\n",
      "summation is 37\n"
     ]
    }
   ],
   "source": [
    "#### function call\n",
    "addition()"
   ]
  },
  {
   "cell_type": "code",
   "execution_count": 8,
   "metadata": {},
   "outputs": [],
   "source": [
    "def addition():\n",
    "    n1 = int(input('enter first number'))\n",
    "    n2 = int(input('enter second number'))\n",
    " #   print (\"summation is\", n1+n2)\n",
    "    return n1+n2    # returning single value\n",
    "#    return (n1+n2)\n"
   ]
  },
  {
   "cell_type": "code",
   "execution_count": 11,
   "metadata": {},
   "outputs": [
    {
     "name": "stdout",
     "output_type": "stream",
     "text": [
      "enter first number2\n",
      "enter second number3\n",
      "5\n"
     ]
    }
   ],
   "source": [
    "# sum_ = addition()\n",
    "print(addition())"
   ]
  },
  {
   "cell_type": "markdown",
   "metadata": {},
   "source": [
    "### WAF to input two int and display swap number\n",
    "\n",
    "def swapvar():\n",
    "    n1 = int(input('enter first number')\n",
    "    n2 = int(input('enter second number')\n",
    "    temp = n1\n",
    "    n1 = n2\n",
    "    n2 = temp\n",
    "    print(n1)\n",
    "    print(n2\n",
    "    \n",
    "    "
   ]
  },
  {
   "cell_type": "code",
   "execution_count": 13,
   "metadata": {},
   "outputs": [],
   "source": [
    "def swapvar():\n",
    "    n1 = int(input('enter first number'))\n",
    "    n2 = int(input('enter second number'))\n",
    "#     print(\"{} and {}, summation is {}\".format(n1,n2,(n1+n2)))\n",
    "    temp = n1\n",
    "    n1 = n2\n",
    "    n2 = temp\n",
    "#     print(\"{} and {}, summation is {}\".format(n1,n2,(n1+n2)))\n",
    "    return (n1,n2,n1+n2)"
   ]
  },
  {
   "cell_type": "code",
   "execution_count": 14,
   "metadata": {},
   "outputs": [
    {
     "name": "stdout",
     "output_type": "stream",
     "text": [
      "enter first number2\n",
      "enter second number3\n"
     ]
    },
    {
     "data": {
      "text/plain": [
       "(3, 2, 5)"
      ]
     },
     "execution_count": 14,
     "metadata": {},
     "output_type": "execute_result"
    }
   ],
   "source": [
    "swapvar()"
   ]
  },
  {
   "cell_type": "code",
   "execution_count": 16,
   "metadata": {},
   "outputs": [
    {
     "name": "stdout",
     "output_type": "stream",
     "text": [
      "enter first number2\n",
      "enter second number3\n",
      "3 2 5\n",
      "<class 'tuple'>\n"
     ]
    }
   ],
   "source": [
    "tup_var = swapvar()\n",
    "print(tup_var[0], tup_var[1], tup_var[2]) #accessing tuple value through indexing\n",
    "print(type(tup_var))"
   ]
  },
  {
   "cell_type": "code",
   "execution_count": 19,
   "metadata": {},
   "outputs": [
    {
     "name": "stdout",
     "output_type": "stream",
     "text": [
      "enter first number3\n",
      "enter second number4\n",
      "4 3 7\n",
      "4\n"
     ]
    },
    {
     "data": {
      "text/plain": [
       "3"
      ]
     },
     "execution_count": 19,
     "metadata": {},
     "output_type": "execute_result"
    }
   ],
   "source": [
    "a,b,s = swapvar() ## returning, unpacking value and assigining values\n",
    "print(a,b,s)\n",
    "print(a)\n",
    "b"
   ]
  },
  {
   "cell_type": "code",
   "execution_count": 20,
   "metadata": {},
   "outputs": [
    {
     "name": "stdout",
     "output_type": "stream",
     "text": [
      "enter first number2\n",
      "enter second number3\n"
     ]
    },
    {
     "data": {
      "text/plain": [
       "5"
      ]
     },
     "execution_count": 20,
     "metadata": {},
     "output_type": "execute_result"
    }
   ],
   "source": [
    "ind = swapvar()\n",
    "ind[2]"
   ]
  },
  {
   "cell_type": "code",
   "execution_count": 21,
   "metadata": {},
   "outputs": [
    {
     "name": "stdout",
     "output_type": "stream",
     "text": [
      "enter first number3\n",
      "enter second number4\n"
     ]
    },
    {
     "data": {
      "text/plain": [
       "3"
      ]
     },
     "execution_count": 21,
     "metadata": {},
     "output_type": "execute_result"
    }
   ],
   "source": [
    "###Swap\n",
    "n1 = int(input('enter first number'))\n",
    "n2 = int(input('enter second number'))\n",
    "n1,n2 = n2,n1\n",
    "n2"
   ]
  },
  {
   "cell_type": "code",
   "execution_count": 33,
   "metadata": {},
   "outputs": [],
   "source": [
    "### WAF to take two value and return sum\n",
    "\n",
    "# n1 = 5\n",
    "# n2 = 7\n",
    "\n",
    "def addition_(a,b):\n",
    "    s = a+b\n",
    "    return(s)\n",
    "\n"
   ]
  },
  {
   "cell_type": "code",
   "execution_count": 39,
   "metadata": {},
   "outputs": [
    {
     "name": "stdout",
     "output_type": "stream",
     "text": [
      "9\n",
      "9\n",
      "9\n",
      "9\n"
     ]
    }
   ],
   "source": [
    "print (addition_(4,5)) ## passing arguments\n",
    "print (addition_(a = 4,b = 5))\n",
    "print (addition_(4,b=5))\n",
    "print (addition_(b = 4,a = 5))\n",
    "# print (addition_(a=4,5)) £ this will throw error\n",
    "# print (addition_('hello',5))"
   ]
  },
  {
   "cell_type": "code",
   "execution_count": null,
   "metadata": {},
   "outputs": [],
   "source": [
    "# addition_()"
   ]
  },
  {
   "cell_type": "code",
   "execution_count": 35,
   "metadata": {},
   "outputs": [
    {
     "ename": "SyntaxError",
     "evalue": "positional argument follows keyword argument (<ipython-input-35-037257be5931>, line 1)",
     "output_type": "error",
     "traceback": [
      "\u001b[1;36m  File \u001b[1;32m\"<ipython-input-35-037257be5931>\"\u001b[1;36m, line \u001b[1;32m1\u001b[0m\n\u001b[1;33m    print (addition_(a=4,5))\u001b[0m\n\u001b[1;37m                        ^\u001b[0m\n\u001b[1;31mSyntaxError\u001b[0m\u001b[1;31m:\u001b[0m positional argument follows keyword argument\n"
     ]
    }
   ],
   "source": [
    "print (addition_(a=4,5)) # unnamed parameters should be written before named parameters"
   ]
  },
  {
   "cell_type": "code",
   "execution_count": 49,
   "metadata": {},
   "outputs": [],
   "source": [
    "\n",
    "def greet(name, greet='Hello '):\n",
    "    print(greet + name + '!')\n",
    "    "
   ]
  },
  {
   "cell_type": "code",
   "execution_count": 50,
   "metadata": {},
   "outputs": [
    {
     "name": "stdout",
     "output_type": "stream",
     "text": [
      "Hello rama!\n"
     ]
    }
   ],
   "source": [
    "greet('rama')"
   ]
  },
  {
   "cell_type": "code",
   "execution_count": 52,
   "metadata": {},
   "outputs": [
    {
     "name": "stdout",
     "output_type": "stream",
     "text": [
      "hi rama!\n"
     ]
    }
   ],
   "source": [
    "greet(greet='hi ', name='rama')"
   ]
  },
  {
   "cell_type": "code",
   "execution_count": null,
   "metadata": {},
   "outputs": [],
   "source": [
    "# £ WAF to add two number with default vlaues"
   ]
  },
  {
   "cell_type": "code",
   "execution_count": 56,
   "metadata": {},
   "outputs": [
    {
     "name": "stdout",
     "output_type": "stream",
     "text": [
      "0\n",
      "4\n",
      "9\n"
     ]
    }
   ],
   "source": [
    "def sum(n1=0,n2=0):\n",
    "    print(n1+n2)\n",
    "sum()\n",
    "sum(4)\n",
    "sum(4,5)\n"
   ]
  },
  {
   "cell_type": "code",
   "execution_count": 7,
   "metadata": {},
   "outputs": [
    {
     "name": "stdout",
     "output_type": "stream",
     "text": [
      "5\n"
     ]
    }
   ],
   "source": [
    "# WAF to add integers and display the sum\n",
    "\n",
    "def int1(a=0, b=0):\n",
    "    print(a+b)\n",
    "int1(2,3)\n"
   ]
  },
  {
   "cell_type": "code",
   "execution_count": 11,
   "metadata": {},
   "outputs": [],
   "source": [
    "#  NON kerworded arguments\n",
    "\n",
    "def int1(* args):   # args is not a key word but any itendifier (itterable)\n",
    "    for i in args:\n",
    "        print (i)\n",
    "    print(sum(args))"
   ]
  },
  {
   "cell_type": "code",
   "execution_count": 14,
   "metadata": {},
   "outputs": [
    {
     "name": "stdout",
     "output_type": "stream",
     "text": [
      "1\n",
      "1\n",
      "1\n",
      "2\n",
      "3\n",
      "1\n",
      "2\n",
      "3\n",
      "6\n",
      "1\n",
      "2\n",
      "3\n",
      "4\n",
      "10\n"
     ]
    }
   ],
   "source": [
    "int1(1)\n",
    "int1(1,2)\n",
    "int1(1,2,3)\n",
    "int1(1,2,3,4)"
   ]
  },
  {
   "cell_type": "code",
   "execution_count": 19,
   "metadata": {},
   "outputs": [],
   "source": [
    "#  kerworded arguments\n",
    "\n",
    "def myfunc(** args):   # args is not a key word but any itendifier (itterable)\n",
    "    print (args)\n",
    "    \n",
    "\n"
   ]
  },
  {
   "cell_type": "code",
   "execution_count": 20,
   "metadata": {},
   "outputs": [
    {
     "name": "stdout",
     "output_type": "stream",
     "text": [
      "{'a': 3, 'b': 4, 'c': 5, 'd': 6}\n"
     ]
    }
   ],
   "source": [
    "myfunc(a=3,b=4,c=5,d=6)\n"
   ]
  },
  {
   "cell_type": "markdown",
   "metadata": {},
   "source": [
    "#### WAF to find the factorial of a number (for, while and recursive function)\n",
    "#### WAF to design calculator program using function"
   ]
  },
  {
   "cell_type": "code",
   "execution_count": 13,
   "metadata": {},
   "outputs": [],
   "source": [
    "def factorial():\n",
    "    n1 = int(input('Enter the number (Integer)'))\n",
    "    fac = i = 1\n",
    "    while (i<=n1):\n",
    "        fac = fac * i\n",
    "        i += 1\n",
    "    print('Factorial of', n1, 'is', fac)\n",
    "    return"
   ]
  },
  {
   "cell_type": "code",
   "execution_count": 14,
   "metadata": {},
   "outputs": [
    {
     "name": "stdout",
     "output_type": "stream",
     "text": [
      "Enter the number (Integer)4\n",
      "Factorial of 4 is 24\n"
     ]
    }
   ],
   "source": [
    "factorial()\n"
   ]
  },
  {
   "cell_type": "code",
   "execution_count": null,
   "metadata": {},
   "outputs": [],
   "source": []
  }
 ],
 "metadata": {
  "kernelspec": {
   "display_name": "Python 3",
   "language": "python",
   "name": "python3"
  },
  "language_info": {
   "codemirror_mode": {
    "name": "ipython",
    "version": 3
   },
   "file_extension": ".py",
   "mimetype": "text/x-python",
   "name": "python",
   "nbconvert_exporter": "python",
   "pygments_lexer": "ipython3",
   "version": "3.7.4"
  }
 },
 "nbformat": 4,
 "nbformat_minor": 2
}
