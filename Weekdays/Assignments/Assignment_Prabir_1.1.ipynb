{
 "cells": [
  {
   "cell_type": "markdown",
   "metadata": {},
   "source": [
    "# Below are the required program\n",
    "1. Python program to read a list of words and return the length of the longest one.\n",
    "2. Count the number of vowels in a string.\n",
    "3. Program to reverse a given number. I have corrected this just check it once"
   ]
  },
  {
   "cell_type": "markdown",
   "metadata": {},
   "source": [
    "### 1. Python program to read a list of words and return the length of the longest one."
   ]
  },
  {
   "cell_type": "code",
   "execution_count": 1,
   "metadata": {},
   "outputs": [
    {
     "name": "stdout",
     "output_type": "stream",
     "text": [
      "Enter the first stringsecond string is greater\n",
      "24\n",
      "Enter the second stringboth the srtings are equal\n",
      "26\n",
      "second string is greater and length is 26\n"
     ]
    }
   ],
   "source": [
    "### 1. Python program to read a list of words and return the length of the longest one.\n",
    "\n",
    "str1 = input('Enter the first string')\n",
    "print(len(str1))\n",
    "str2 = input('Enter the second string')\n",
    "print(len(str2))\n",
    "if (len(str1) > len(str2)):\n",
    "    print('first string is greater','and length is',len(str1))\n",
    "elif (len(str1) < len(str2)):\n",
    "    print('second string is greater','and length is',len(str2))\n",
    "else:\n",
    "    print('both the srtings are equal')"
   ]
  },
  {
   "cell_type": "code",
   "execution_count": 5,
   "metadata": {},
   "outputs": [
    {
     "name": "stdout",
     "output_type": "stream",
     "text": [
      "Enter the stringasdjalkjdqiwodjqanaskl\n",
      "{'a': 4, ',': 0, 'e': 0, 'i': 1, 'o': 1, 'u': 0}\n"
     ]
    }
   ],
   "source": [
    "### 2. Count the number of vowels in a string.\n",
    "\n",
    "vowels = 'a,e,i,o,u'\n",
    "ip_str = str(input('Enter the string')) #'Hello, have you tried our tutorial section yet?'\n",
    "# make it suitable for caseless comparisions\n",
    "ip_str = ip_str.casefold()\n",
    "# make a dictionary with each vowel a key and value 0\n",
    "count = {}.fromkeys(vowels,0)\n",
    "# count the vowels\n",
    "for i in ip_str:\n",
    "   if i in count:\n",
    "       count[i] += 1\n",
    "print(count)"
   ]
  },
  {
   "cell_type": "code",
   "execution_count": 10,
   "metadata": {},
   "outputs": [
    {
     "name": "stdout",
     "output_type": "stream",
     "text": [
      "Please Enter any Number: 123\n",
      "\n",
      " Reverse of entered number is:  321\n"
     ]
    }
   ],
   "source": [
    "### 3. Program to reverse a given number. I have corrected this just check it once\n",
    "\n",
    "Number = int(input(\"Please Enter any Number: \"))\n",
    "Reverse = 0\n",
    "while(Number > 0):\n",
    "    Reminder = Number%10\n",
    "    Reverse = (Reverse*10) + Reminder\n",
    "    Number = Number//10\n",
    "\n",
    "print(\"\\n Reverse of entered number is: \", Reverse)"
   ]
  },
  {
   "cell_type": "code",
   "execution_count": null,
   "metadata": {},
   "outputs": [],
   "source": []
  }
 ],
 "metadata": {
  "kernelspec": {
   "display_name": "Python 3",
   "language": "python",
   "name": "python3"
  },
  "language_info": {
   "codemirror_mode": {
    "name": "ipython",
    "version": 3
   },
   "file_extension": ".py",
   "mimetype": "text/x-python",
   "name": "python",
   "nbconvert_exporter": "python",
   "pygments_lexer": "ipython3",
   "version": "3.7.4"
  }
 },
 "nbformat": 4,
 "nbformat_minor": 2
}
