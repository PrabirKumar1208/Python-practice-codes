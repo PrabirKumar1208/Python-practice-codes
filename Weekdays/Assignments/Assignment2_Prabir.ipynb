{
 "cells": [
  {
   "cell_type": "markdown",
   "metadata": {},
   "source": [
    "# Functions"
   ]
  },
  {
   "cell_type": "markdown",
   "metadata": {},
   "source": [
    "### 1. Define a Sum Function Which accepts variable number of integers as an arguments. "
   ]
  },
  {
   "cell_type": "code",
   "execution_count": 13,
   "metadata": {},
   "outputs": [
    {
     "ename": "SyntaxError",
     "evalue": "invalid syntax (<ipython-input-13-a8c5011253df>, line 12)",
     "output_type": "error",
     "traceback": [
      "\u001b[1;36m  File \u001b[1;32m\"<ipython-input-13-a8c5011253df>\"\u001b[1;36m, line \u001b[1;32m12\u001b[0m\n\u001b[1;33m    print(return)\u001b[0m\n\u001b[1;37m               ^\u001b[0m\n\u001b[1;31mSyntaxError\u001b[0m\u001b[1;31m:\u001b[0m invalid syntax\n"
     ]
    }
   ],
   "source": [
    "## sum function\n",
    "x = input('Enter the first argument')\n",
    "y = input('Enter the second argument')\n",
    "\n",
    "def sum_(x,y):\n",
    "    return x+y\n",
    "\n",
    "#     for each in args:\n",
    "#         total+=1\n",
    "#     print(total)\n",
    "    \n",
    "print(return)  \n"
   ]
  },
  {
   "cell_type": "code",
   "execution_count": 29,
   "metadata": {},
   "outputs": [
    {
     "ename": "IndentationError",
     "evalue": "expected an indented block (<ipython-input-29-ba1e6d090e30>, line 9)",
     "output_type": "error",
     "traceback": [
      "\u001b[1;36m  File \u001b[1;32m\"<ipython-input-29-ba1e6d090e30>\"\u001b[1;36m, line \u001b[1;32m9\u001b[0m\n\u001b[1;33m    result += each\u001b[0m\n\u001b[1;37m         ^\u001b[0m\n\u001b[1;31mIndentationError\u001b[0m\u001b[1;31m:\u001b[0m expected an indented block\n"
     ]
    }
   ],
   "source": [
    "# func\n",
    "args = input('enter the argument')\n",
    "\n",
    "def sum(*args):\n",
    "    result = 0\n",
    "\n",
    "    for each in args:\n",
    "        if type(each) in (int,float):\n",
    "        result += each\n",
    "\n",
    "    return result\n",
    "\n",
    "print(sum(args))\n",
    "# print(sum(10, 20, 30))\n",
    "# print(sum(10, 20, 30, 40))"
   ]
  },
  {
   "cell_type": "markdown",
   "metadata": {},
   "source": [
    "### 2. Create a list With  Square of all numbers from 1 to 10  using List Comprehension. "
   ]
  },
  {
   "cell_type": "code",
   "execution_count": 33,
   "metadata": {},
   "outputs": [
    {
     "name": "stdout",
     "output_type": "stream",
     "text": [
      "[1, 4, 9, 16, 25, 36, 49, 64, 81, 100]\n"
     ]
    }
   ],
   "source": [
    "isquare = [each**2 for each in list(range(1,11))]\n",
    "print(isquare)"
   ]
  },
  {
   "cell_type": "markdown",
   "metadata": {},
   "source": [
    "### 3. Write a lambda function which find square of a number "
   ]
  },
  {
   "cell_type": "code",
   "execution_count": 10,
   "metadata": {},
   "outputs": [
    {
     "name": "stdout",
     "output_type": "stream",
     "text": [
      "Enter the number: 55\n",
      "3025\n"
     ]
    }
   ],
   "source": [
    "data = int(input('Enter the number: '))\n",
    "\n",
    "la = lambda x:x**2\n",
    "print(la(data))\n"
   ]
  },
  {
   "cell_type": "markdown",
   "metadata": {},
   "source": [
    "### 4. Declare a List With Numbers From 1 to 100 using List Comprehension. \n",
    "Use the lambda and filter function  to filter all even numbers. \n",
    "( Syntax for filter Function :  \n",
    " filter(function, iterable)    \n",
    " iterable can be list ,tuples dict etc.. "
   ]
  },
  {
   "cell_type": "code",
   "execution_count": 33,
   "metadata": {},
   "outputs": [
    {
     "name": "stdout",
     "output_type": "stream",
     "text": [
      "[4, 16, 36, 64, 100, 144, 196, 256, 324, 400, 484, 576, 676, 784, 900, 1024, 1156, 1296, 1444, 1600, 1764, 1936, 2116, 2304, 2500, 2704, 2916, 3136, 3364, 3600, 3844, 4096, 4356, 4624, 4900, 5184, 5476, 5776, 6084, 6400, 6724, 7056, 7396, 7744, 8100, 8464, 8836, 9216, 9604, 10000]\n"
     ]
    }
   ],
   "source": [
    "squares = [i**2 for i in range(1,101)]\n",
    "# print(squares)\n",
    "sq_list = list(filter(lambda x:x%2==0, squares))\n",
    "print(sq_list)"
   ]
  },
  {
   "cell_type": "markdown",
   "metadata": {},
   "source": [
    "# File Handling"
   ]
  },
  {
   "cell_type": "markdown",
   "metadata": {},
   "source": [
    "### 1. Python program to read the content of the file"
   ]
  },
  {
   "cell_type": "code",
   "execution_count": 4,
   "metadata": {},
   "outputs": [],
   "source": [
    "file = open(file = 'Assignment2.txt', mode ='w')\n",
    "file.write(\"This is an assignment file of week 2\")\n",
    "file.close()"
   ]
  },
  {
   "cell_type": "code",
   "execution_count": 5,
   "metadata": {},
   "outputs": [
    {
     "name": "stdout",
     "output_type": "stream",
     "text": [
      "This is an assignment file of week 2\n"
     ]
    }
   ],
   "source": [
    "file = open(file = 'Assignment2.txt', mode ='r')\n",
    "print(file.read())\n",
    "file.close()"
   ]
  },
  {
   "cell_type": "markdown",
   "metadata": {},
   "source": [
    "### 2. Python program to count the number of Words in a Text file"
   ]
  },
  {
   "cell_type": "code",
   "execution_count": 6,
   "metadata": {},
   "outputs": [
    {
     "ename": "SyntaxError",
     "evalue": "invalid syntax (<ipython-input-6-a197703658ed>, line 7)",
     "output_type": "error",
     "traceback": [
      "\u001b[1;36m  File \u001b[1;32m\"<ipython-input-6-a197703658ed>\"\u001b[1;36m, line \u001b[1;32m7\u001b[0m\n\u001b[1;33m    print(\"Number of words = \" word_count)\u001b[0m\n\u001b[1;37m                                        ^\u001b[0m\n\u001b[1;31mSyntaxError\u001b[0m\u001b[1;31m:\u001b[0m invalid syntax\n"
     ]
    }
   ],
   "source": [
    "file = open(file = 'Assignment2.txt', mode ='r')\n",
    "filestr = print(file.read())\n",
    "print(filestr)\n",
    "file.close()\n",
    "# word_count = 0\n",
    "word_count = len(filestr.split())\n",
    "print(\"Number of words = \" word_count)\n"
   ]
  },
  {
   "cell_type": "code",
   "execution_count": 7,
   "metadata": {},
   "outputs": [
    {
     "name": "stdout",
     "output_type": "stream",
     "text": [
      "Number of words in text file : 8\n"
     ]
    }
   ],
   "source": [
    "# The default mode is 'rt' (open for reading text).\n",
    "\n",
    "file = open(file = 'Assignment2.txt', mode =\"rt\")\n",
    "data = file.read()\n",
    "words = data.split()\n",
    "print('Number of words in text file :', len(words))"
   ]
  },
  {
   "cell_type": "markdown",
   "metadata": {},
   "source": [
    "### 3. Python program to copy the content of one file into another file."
   ]
  },
  {
   "cell_type": "code",
   "execution_count": 7,
   "metadata": {},
   "outputs": [
    {
     "name": "stdout",
     "output_type": "stream",
     "text": [
      "Below is the content in the first file:\n",
      "\n",
      "This is an assignment file of week 2\n",
      "Thie is the first line.\n",
      "This is the second line.\n",
      "This is third line.\n",
      "\n",
      "\n",
      "\n",
      "\n",
      "Below is the content in the second file:\n",
      "\n",
      "This is an assignment file of week 2\n",
      "Thie is the first line.\n",
      "This is the second line.\n",
      "This is third line.\n"
     ]
    }
   ],
   "source": [
    "file = open(file = 'Assignment2.txt', mode ='w')\n",
    "file.write(\"This is an assignment file of week 2\")\n",
    "file.write(\"\\nThie is the first line.\\nThis is the second line.\\nThis is third line.\")\n",
    "file.close()\n",
    "print('Below is the content in the first file:\\n')\n",
    "file = open(file = 'Assignment2.txt', mode ='r')\n",
    "print(file.read())\n",
    "file.close()\n",
    "\n",
    "# copy 'Assignment2.txt' in 'Assignment2.1.txt'\n",
    "with open(\"Assignment2.txt\") as f1:\n",
    "    with open(\"Assignment2.1.txt\", \"w\") as f2:\n",
    "        for line in f1:\n",
    "            f2.write(line)\n",
    "print('\\n\\n\\n\\nBelow is the content in the second file:\\n')\n",
    "file = open(file = 'Assignment2.1.txt', mode ='r')\n",
    "print(file.read())\n",
    "file.close()\n"
   ]
  },
  {
   "cell_type": "markdown",
   "metadata": {},
   "source": [
    "### 4. Python program to read a file and capitalise the first letter of every word in the file"
   ]
  },
  {
   "cell_type": "code",
   "execution_count": 8,
   "metadata": {},
   "outputs": [
    {
     "name": "stdout",
     "output_type": "stream",
     "text": [
      "Enter the file name: Assignment2.1.txt\n",
      "This Is An Assignment File Of Week 2\n",
      "\n",
      "Thie Is The First Line.\n",
      "\n",
      "This Is The Second Line.\n",
      "\n",
      "This Is Third Line.\n"
     ]
    }
   ],
   "source": [
    "filename = input('Enter the file name: ')\n",
    "\n",
    "with open(filename, 'r') as file:\n",
    "    for eachline in file:\n",
    "        lines = eachline.title()\n",
    "        print(lines)\n",
    "    file.close()"
   ]
  },
  {
   "cell_type": "markdown",
   "metadata": {},
   "source": [
    "# Regular Expression\n"
   ]
  },
  {
   "cell_type": "markdown",
   "metadata": {},
   "source": [
    "### 1. Validate an email id using regular expression"
   ]
  },
  {
   "cell_type": "code",
   "execution_count": 9,
   "metadata": {},
   "outputs": [],
   "source": [
    "import re"
   ]
  },
  {
   "cell_type": "code",
   "execution_count": 14,
   "metadata": {},
   "outputs": [
    {
     "name": "stdout",
     "output_type": "stream",
     "text": [
      "enter the email id: papapapap_adjknasd@yahoo.org\n",
      "Your email ID is validated successfully\n"
     ]
    }
   ],
   "source": [
    "## Create a pattern for email id\n",
    "## pattern building\n",
    "\n",
    "email = input(\"enter the email id: \")\n",
    "\n",
    "pattern = \"^([A-Za-z0-9_\\.\\-]+)@([A-za-z-]+)\\.(com|edu|org)$\"\n",
    "if re.search(pattern,email):\n",
    "    print('Your email ID is validated successfully')\n",
    "else:\n",
    "    print('Invalid email ID')\n",
    "    "
   ]
  },
  {
   "cell_type": "markdown",
   "metadata": {},
   "source": [
    "### 2. Validate a mobile Phone Number suing Regular Expression "
   ]
  },
  {
   "cell_type": "code",
   "execution_count": 18,
   "metadata": {},
   "outputs": [
    {
     "name": "stdout",
     "output_type": "stream",
     "text": [
      "Enter the 10-digit phone number98282\n",
      "Invalid phone number\n"
     ]
    }
   ],
   "source": [
    "## Create a pattern for phone number\n",
    "## pattern building\n",
    "\n",
    "ph_no = input(\"Enter the 10-digit phone number\")\n",
    "\n",
    "pattern = \"^(\\d{10})$\"\n",
    "if re.search(pattern, ph_no):\n",
    "     print('Your phone number is validated successfully')\n",
    "else:\n",
    "    print('Invalid phone number')"
   ]
  },
  {
   "cell_type": "markdown",
   "metadata": {},
   "source": [
    "### 3. Validate a credit cad number using Regular Expression"
   ]
  },
  {
   "cell_type": "code",
   "execution_count": 21,
   "metadata": {},
   "outputs": [
    {
     "name": "stdout",
     "output_type": "stream",
     "text": [
      "Enter the 16-digit credit card number, 'Ex- abcd-abcd-abcd-abcd': 4563-3721-2887-0987\n",
      "Your credit card number is validated successfully\n"
     ]
    }
   ],
   "source": [
    "## Create a pattern for 16 digit credit acrd number\n",
    "## pattern building\n",
    "\n",
    "creditcard_no = input(\"Enter the 16-digit credit card number, 'Ex- abcd-abcd-abcd-abcd': \")\n",
    "\n",
    "pattern = \"^(\\d{4}-\\d{4}-\\d{4}-\\d{4})$\"\n",
    "if re.search(pattern, creditcard_no):\n",
    "     print('Your credit card number is validated successfully')\n",
    "else:\n",
    "    print('Invalid credit card number')"
   ]
  },
  {
   "cell_type": "markdown",
   "metadata": {},
   "source": [
    "# Numpy"
   ]
  },
  {
   "cell_type": "markdown",
   "metadata": {},
   "source": [
    "### 1.Write a Python program to print the NumPy version in your system."
   ]
  },
  {
   "cell_type": "code",
   "execution_count": 2,
   "metadata": {},
   "outputs": [
    {
     "name": "stdout",
     "output_type": "stream",
     "text": [
      "1.16.5\n"
     ]
    }
   ],
   "source": [
    "import numpy as np\n",
    "print(np.__version__)"
   ]
  },
  {
   "cell_type": "markdown",
   "metadata": {},
   "source": [
    "### 2. Write a Python program to convert a list of numeric value into a one-dimensional NumPy array. "
   ]
  },
  {
   "cell_type": "code",
   "execution_count": 3,
   "metadata": {},
   "outputs": [],
   "source": []
  },
  {
   "cell_type": "code",
   "execution_count": 6,
   "metadata": {},
   "outputs": [
    {
     "data": {
      "text/plain": [
       "array([[22, 22, 12, 21],\n",
       "       [10, 12, 22, 28],\n",
       "       [ 4,  8,  5, 14],\n",
       "       [13,  7, 10, 12],\n",
       "       [23, 16, 12, 14],\n",
       "       [14, 20, 25,  3]])"
      ]
     },
     "execution_count": 6,
     "metadata": {},
     "output_type": "execute_result"
    }
   ],
   "source": [
    "arr = np.random.randint(1,30,24).reshape(6,4)\n",
    "arr"
   ]
  },
  {
   "cell_type": "markdown",
   "metadata": {},
   "source": [
    "### 3. Write a Python program to create an array with values ranging from 12 to 38. "
   ]
  },
  {
   "cell_type": "code",
   "execution_count": 10,
   "metadata": {},
   "outputs": [
    {
     "data": {
      "text/plain": [
       "array([[32, 24, 30, 36],\n",
       "       [26, 21, 34, 24],\n",
       "       [21, 27, 21, 25],\n",
       "       [32, 16, 23, 24],\n",
       "       [15, 33, 24, 28],\n",
       "       [22, 19, 31, 36]])"
      ]
     },
     "execution_count": 10,
     "metadata": {},
     "output_type": "execute_result"
    }
   ],
   "source": [
    "arr= np.random.randint(12,38,24).reshape(6,4)\n",
    "arr"
   ]
  },
  {
   "cell_type": "markdown",
   "metadata": {},
   "source": [
    "#### 4. Write a Python program to convert a list and tuple into arrays. "
   ]
  },
  {
   "cell_type": "code",
   "execution_count": 13,
   "metadata": {},
   "outputs": [
    {
     "name": "stdout",
     "output_type": "stream",
     "text": [
      "converted array is:\n",
      "\n",
      "[ 1  2  3  4  5  6  7  8  9 10]\n"
     ]
    }
   ],
   "source": [
    "list_ = [1,2,3,4,5,6,7,8,9,10]\n",
    "print('converted array is:\\n')\n",
    "print(np.asarray(list_))"
   ]
  },
  {
   "cell_type": "code",
   "execution_count": 14,
   "metadata": {},
   "outputs": [
    {
     "name": "stdout",
     "output_type": "stream",
     "text": [
      "converted array is:\n",
      "\n",
      "[ 1  2  3  4  5  6  7  8  9 10]\n"
     ]
    }
   ],
   "source": [
    "tuple_ = (1,2,3,4,5,6,7,8,9,10)\n",
    "print('converted array is:\\n')\n",
    "print(np.asarray(tuple_))"
   ]
  },
  {
   "cell_type": "code",
   "execution_count": 15,
   "metadata": {},
   "outputs": [
    {
     "name": "stdout",
     "output_type": "stream",
     "text": [
      "converted array is:\n",
      "\n",
      "[[ 1  2  3  4  5]\n",
      " [ 6  7  8  9 10]]\n"
     ]
    }
   ],
   "source": [
    "tuple_ = ([1,2,3,4,5],[6,7,8,9,10])\n",
    "print('converted array is:\\n')\n",
    "print(np.asarray(tuple_))"
   ]
  },
  {
   "cell_type": "markdown",
   "metadata": {},
   "source": [
    "### 5. Write a Python program to find the number of elements of an array, length of one array element in bytes and total bytes consumed by the elements. "
   ]
  },
  {
   "cell_type": "code",
   "execution_count": 21,
   "metadata": {},
   "outputs": [
    {
     "name": "stdout",
     "output_type": "stream",
     "text": [
      "Size of the array:  10\n",
      "Length of one array element in bytes:  4\n",
      "Total bytes consumed by the elements of the array:  40\n"
     ]
    }
   ],
   "source": [
    "import numpy as np\n",
    "\n",
    "arr1  = np.array([1,2,3,4,5,6,7,8,9,10])\n",
    "\n",
    "print(\"No. if elements in array: \", arr1.size)\n",
    "print(\"Length of one array element in bytes: \", arr1.itemsize)\n",
    "print(\"Total bytes consumed by the elements of the array: \", arr1.nbytes)\n",
    "\n",
    "    "
   ]
  },
  {
   "cell_type": "markdown",
   "metadata": {},
   "source": [
    "### 6. Write a Python program compare two arrays using numpy. "
   ]
  },
  {
   "cell_type": "code",
   "execution_count": 28,
   "metadata": {},
   "outputs": [
    {
     "name": "stdout",
     "output_type": "stream",
     "text": [
      "First array:\n",
      " [[5 1 4 7 8 7]\n",
      " [9 4 3 2 9 2]]\n",
      "Second array:\n",
      " [[1 8 8 2 5 5]\n",
      " [1 3 8 1 5 9]]\n",
      "[ True  True False False  True False  True False  True  True  True  True]\n"
     ]
    }
   ],
   "source": [
    "arr1 = np.random.randint(1,14,12).reshape(2,6)\n",
    "arr2 = np.random.randint(1,10,12).reshape(2,6)\n",
    "print('First array:\\n',arr1)\n",
    "print('Second array:\\n',arr2)\n",
    "\n",
    "arr3 = np.in1d(arr1,arr2)\n",
    "print(arr3)\n",
    "\n",
    "# if arr1>arr2:\n",
    "#     print(arr1)\n",
    "# elif arr1<arr2:\n",
    "#     print(arr2)\n",
    "# else:\n",
    "#     print('Both are equal')\n",
    "\n",
    "    "
   ]
  },
  {
   "cell_type": "markdown",
   "metadata": {},
   "source": [
    "### 7. Write a Python program to get the number of nonzero elements in an array. "
   ]
  },
  {
   "cell_type": "code",
   "execution_count": 38,
   "metadata": {},
   "outputs": [
    {
     "name": "stdout",
     "output_type": "stream",
     "text": [
      "[[3 0]\n",
      " [1 6]]\n",
      "3\n"
     ]
    }
   ],
   "source": [
    "arr1 = np.random.randint(0,10,4).reshape(2,2)\n",
    "print(arr1)\n",
    "print(np.count_nonzero(arr1))"
   ]
  },
  {
   "cell_type": "markdown",
   "metadata": {},
   "source": [
    "### 8. Write a Python program to check whether the numpy array is empty or not. "
   ]
  },
  {
   "cell_type": "code",
   "execution_count": null,
   "metadata": {},
   "outputs": [],
   "source": []
  },
  {
   "cell_type": "code",
   "execution_count": 46,
   "metadata": {},
   "outputs": [
    {
     "name": "stdout",
     "output_type": "stream",
     "text": [
      "0 3\n"
     ]
    }
   ],
   "source": [
    "arr3 = np.array([])\n",
    "arr2 =np.array([1,2,3])\n",
    "print(arr3.size,arr2.size)\n",
    "# print(arr2.size)"
   ]
  },
  {
   "cell_type": "markdown",
   "metadata": {},
   "source": [
    "### 9. Write a Python program to get the powers of an array values element-wise. "
   ]
  },
  {
   "cell_type": "code",
   "execution_count": 55,
   "metadata": {},
   "outputs": [
    {
     "name": "stdout",
     "output_type": "stream",
     "text": [
      "[[ 7  1  4  1]\n",
      " [10 12 13  3]\n",
      " [ 6  8 13  7]\n",
      " [ 8 11  6 10]\n",
      " [ 9  8 10 13]\n",
      " [ 8  4 11  5]]\n",
      "\n",
      "\n",
      "Below i the calculated array:\n",
      "\n",
      "[[ 49   1  16   1]\n",
      " [100 144 169   9]\n",
      " [ 36  64 169  49]\n",
      " [ 64 121  36 100]\n",
      " [ 81  64 100 169]\n",
      " [ 64  16 121  25]]\n"
     ]
    }
   ],
   "source": [
    "arr1 = np.random.randint(1,16,24).reshape(6,4)\n",
    "print(arr1)\n",
    "print(\"\\n\\nBelow i the calculated array:\\n\")\n",
    "print(np.power(arr1,2))"
   ]
  },
  {
   "cell_type": "code",
   "execution_count": null,
   "metadata": {},
   "outputs": [],
   "source": []
  },
  {
   "cell_type": "code",
   "execution_count": null,
   "metadata": {},
   "outputs": [],
   "source": []
  },
  {
   "cell_type": "code",
   "execution_count": null,
   "metadata": {},
   "outputs": [],
   "source": []
  }
 ],
 "metadata": {
  "kernelspec": {
   "display_name": "Python 3",
   "language": "python",
   "name": "python3"
  },
  "language_info": {
   "codemirror_mode": {
    "name": "ipython",
    "version": 3
   },
   "file_extension": ".py",
   "mimetype": "text/x-python",
   "name": "python",
   "nbconvert_exporter": "python",
   "pygments_lexer": "ipython3",
   "version": "3.7.4"
  }
 },
 "nbformat": 4,
 "nbformat_minor": 2
}
