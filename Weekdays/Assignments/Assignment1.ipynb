{
 "cells": [
  {
   "cell_type": "markdown",
   "metadata": {},
   "source": [
    "# Python Basic Programs"
   ]
  },
  {
   "cell_type": "markdown",
   "metadata": {},
   "source": [
    "# 1. Print Hello world! "
   ]
  },
  {
   "cell_type": "code",
   "execution_count": 6,
   "metadata": {},
   "outputs": [
    {
     "name": "stdout",
     "output_type": "stream",
     "text": [
      "Hello world!\n"
     ]
    }
   ],
   "source": [
    "print('Hello world!')"
   ]
  },
  {
   "cell_type": "markdown",
   "metadata": {},
   "source": [
    "# 2. Declare the following Variables:      \n",
    "int,float,Boolean,strings And print its value "
   ]
  },
  {
   "cell_type": "code",
   "execution_count": 7,
   "metadata": {},
   "outputs": [
    {
     "name": "stdout",
     "output_type": "stream",
     "text": [
      "2\n",
      "<class 'int'>\n",
      "2.2\n",
      "<class 'float'>\n",
      "(True, False)\n",
      "<class 'bool'>\n",
      "Hello\n",
      "<class 'str'>\n"
     ]
    }
   ],
   "source": [
    "var1 = 2\n",
    "var2 = 2.2\n",
    "var3 = True, False\n",
    "var4 = 'Hello'\n",
    "print(var1)\n",
    "print(type(var1))\n",
    "print(var2)\n",
    "print(type(var2))\n",
    "print(var3)\n",
    "print(type (bool(var3)))\n",
    "print(var4)\n",
    "print(type(var4))"
   ]
  },
  {
   "cell_type": "markdown",
   "metadata": {},
   "source": [
    "# 3. Program to Calculate the Area of a Triangle "
   ]
  },
  {
   "cell_type": "code",
   "execution_count": 8,
   "metadata": {},
   "outputs": [
    {
     "name": "stdout",
     "output_type": "stream",
     "text": [
      "Enter the breath of the triangle3\n",
      "Enter the hight of the triangle4\n",
      "6.0\n"
     ]
    }
   ],
   "source": [
    "b1 = float(input('Enter the breath of the triangle'))\n",
    "h1 = float(input('Enter the hight of the triangle'))\n",
    "area = float((b1*h1)/2)\n",
    "print(area)"
   ]
  },
  {
   "cell_type": "markdown",
   "metadata": {},
   "source": [
    "# 4. Program to Swap Two Variables. "
   ]
  },
  {
   "cell_type": "code",
   "execution_count": 9,
   "metadata": {},
   "outputs": [
    {
     "name": "stdout",
     "output_type": "stream",
     "text": [
      "Enter the first Variable34\n",
      "Enter the second Variable32\n",
      "32.0\n",
      "34.0\n"
     ]
    }
   ],
   "source": [
    "var5 = float(input('Enter the first Variable'))\n",
    "var6 = float(input('Enter the second Variable'))\n",
    "var7 = float()\n",
    "var7 = var5\n",
    "var5 = var6\n",
    "var6 = var7\n",
    "#print(\"the swaped varibales are {var5} and {var7}\".format(var5,var7)) # Error\n",
    "print(var5)\n",
    "print(var7)\n"
   ]
  },
  {
   "cell_type": "markdown",
   "metadata": {},
   "source": [
    "# 5. Program to check if a Number is Positive, Negative or 0. "
   ]
  },
  {
   "cell_type": "code",
   "execution_count": 10,
   "metadata": {},
   "outputs": [
    {
     "name": "stdout",
     "output_type": "stream",
     "text": [
      "enter the variable34\n",
      "the variable is positive\n"
     ]
    }
   ],
   "source": [
    "x = float(input('enter the variable'))\n",
    "if x == 0:\n",
    "    print('the variable is zero')\n",
    "elif x>0:\n",
    "    print('the variable is positive')\n",
    "else:\n",
    "    print('the variable is negative')"
   ]
  },
  {
   "cell_type": "markdown",
   "metadata": {},
   "source": [
    "# 6. Program to check if a Number is odd or even. "
   ]
  },
  {
   "cell_type": "code",
   "execution_count": 11,
   "metadata": {},
   "outputs": [
    {
     "name": "stdout",
     "output_type": "stream",
     "text": [
      "Enter the number:34\n",
      "The nuber is even\n"
     ]
    }
   ],
   "source": [
    "x2 = float(input('Enter the number:'))\n",
    "if x2 == 0:\n",
    "    print('Zero is not allowed')\n",
    "elif x2%2 ==0:\n",
    "    print('The nuber is even')\n",
    "else:\n",
    "    print('The number is odd')"
   ]
  },
  {
   "cell_type": "markdown",
   "metadata": {},
   "source": [
    "## 7. Program to Print Odd Numbers Within a Given Range. "
   ]
  },
  {
   "cell_type": "code",
   "execution_count": 12,
   "metadata": {},
   "outputs": [
    {
     "name": "stdout",
     "output_type": "stream",
     "text": [
      "3\n",
      "5\n",
      "7\n",
      "9\n",
      "11\n",
      "13\n",
      "15\n"
     ]
    }
   ],
   "source": [
    "for x4 in range(2,16):\n",
    "    if (x4 % 2 != 0):\n",
    "        print(x4)"
   ]
  },
  {
   "cell_type": "markdown",
   "metadata": {},
   "source": [
    "# 8. Program to Find the Factorial of a Number. "
   ]
  },
  {
   "cell_type": "code",
   "execution_count": 13,
   "metadata": {},
   "outputs": [
    {
     "name": "stdout",
     "output_type": "stream",
     "text": [
      "Enter the number (Integer)34\n",
      "Factorial of 34 is 295232799039604140847618609643520000000\n"
     ]
    }
   ],
   "source": [
    "n1 = int(input('Enter the number (Integer)'))\n",
    "fac = 1\n",
    "i = 1\n",
    "while (i<=n1):\n",
    "    fac = fac * i\n",
    "    i += 1\n",
    "print('Factorial of', n1, 'is', fac)"
   ]
  },
  {
   "cell_type": "markdown",
   "metadata": {},
   "source": [
    "## 9. Program to Reverse a Given Number. "
   ]
  },
  {
   "cell_type": "code",
   "execution_count": 1,
   "metadata": {},
   "outputs": [
    {
     "name": "stdout",
     "output_type": "stream",
     "text": [
      "enter the number8273912\n",
      "2193728\n",
      "<class 'str'>\n"
     ]
    }
   ],
   "source": [
    "n2 = (input('enter the number'))\n",
    "print(n2[::-1])\n",
    "print(type(n2))"
   ]
  },
  {
   "cell_type": "markdown",
   "metadata": {},
   "source": [
    "# 10. Program to Find the Sum of Natural Numbers"
   ]
  },
  {
   "cell_type": "code",
   "execution_count": 2,
   "metadata": {},
   "outputs": [
    {
     "name": "stdout",
     "output_type": "stream",
     "text": [
      "Enter the first natural numner:34\n",
      "Enter the second natural numner:32\n",
      "addition is 66\n"
     ]
    }
   ],
   "source": [
    "n3 = int(input('Enter the first natural numner:'))\n",
    "n4 = int(input('Enter the second natural numner:'))\n",
    "sum1 = 0\n",
    "if (n3 <= 0) or (n4 <= 0):\n",
    "    print('one of the number is not natural')\n",
    "else:\n",
    "    sum1 = n3+n4\n",
    "    print('addition is', sum1)"
   ]
  },
  {
   "cell_type": "markdown",
   "metadata": {},
   "source": [
    "# Strings program"
   ]
  },
  {
   "cell_type": "markdown",
   "metadata": {},
   "source": [
    "# 1. reverse a string"
   ]
  },
  {
   "cell_type": "code",
   "execution_count": 3,
   "metadata": {},
   "outputs": [
    {
     "name": "stdout",
     "output_type": "stream",
     "text": [
      "Enter the srtingqweoii\n",
      "iioewq\n"
     ]
    }
   ],
   "source": [
    "str1 = input('Enter the srting')\n",
    "#print(reversed(str1))\n",
    "print(str1[::-1])"
   ]
  },
  {
   "cell_type": "markdown",
   "metadata": {},
   "source": [
    "# 2. string is palindrome or not"
   ]
  },
  {
   "cell_type": "code",
   "execution_count": 22,
   "metadata": {},
   "outputs": [
    {
     "name": "stdout",
     "output_type": "stream",
     "text": [
      "enter the string: Prabir\n",
      "string is not palindrome\n"
     ]
    }
   ],
   "source": [
    "str2 = input('enter the string: ')\n",
    "# i=0\n",
    "# j=-1\n",
    "# while (i==0 and j==-1):\n",
    "#     str2[i]=str[j]\n",
    "#     i+=1\n",
    "#     j-=1\n",
    "#     print('the string is palindrome ')\n",
    "# else:\n",
    "#     print('the string is not palindrome')\n",
    "if (str2==str2[::-1]):\n",
    "    print('string is palindrome')\n",
    "else:\n",
    "    print('string is not palindrome')"
   ]
  },
  {
   "cell_type": "code",
   "execution_count": 24,
   "metadata": {},
   "outputs": [
    {
     "name": "stdout",
     "output_type": "stream",
     "text": [
      "Enter a string: 3333\n",
      "3333 is palindrome\n"
     ]
    }
   ],
   "source": [
    "input_str = input(\"Enter a string: \")\n",
    "rev = reversed(input_str)\n",
    "if list(input_str) == list(rev):\n",
    "    print(input_str, \"is palindrome\")\n",
    "else:\n",
    "    print(input_str, \"is not palindrome\")"
   ]
  },
  {
   "cell_type": "markdown",
   "metadata": {},
   "source": [
    "## 3. replace all occurance of 'a'with '&'"
   ]
  },
  {
   "cell_type": "code",
   "execution_count": 4,
   "metadata": {},
   "outputs": [
    {
     "ename": "SyntaxError",
     "evalue": "unexpected EOF while parsing (<ipython-input-4-029920f59aff>, line 2)",
     "output_type": "error",
     "traceback": [
      "\u001b[1;36m  File \u001b[1;32m\"<ipython-input-4-029920f59aff>\"\u001b[1;36m, line \u001b[1;32m2\u001b[0m\n\u001b[1;33m    print(str1.replace(\"a\",\"&\")\u001b[0m\n\u001b[1;37m                               ^\u001b[0m\n\u001b[1;31mSyntaxError\u001b[0m\u001b[1;31m:\u001b[0m unexpected EOF while parsing\n"
     ]
    }
   ],
   "source": [
    "str1 = \"this is my home and i\"\n",
    "print(str1.replace(\"a\",\"&\")"
   ]
  },
  {
   "cell_type": "markdown",
   "metadata": {},
   "source": [
    "# 4. Count the number of Vowels in a string"
   ]
  },
  {
   "cell_type": "code",
   "execution_count": 35,
   "metadata": {},
   "outputs": [
    {
     "name": "stdout",
     "output_type": "stream",
     "text": [
      "The count of a is: 4\n",
      "The count of e is: 2\n",
      "The count of i is: 3\n",
      "The count of o is: 2\n",
      "The count of u is: 0\n"
     ]
    }
   ],
   "source": [
    "# define string\n",
    "string = \"My name is khan and iam now terriost\"\n",
    "# substring = \"a,e,i,o,u\"\n",
    "substring = \"a\"\n",
    "count = string.count(substring)\n",
    "print(\"The count of a is:\", count)\n",
    "substring = \"e\"\n",
    "count = string.count(substring)\n",
    "print(\"The count of e is:\", count)\n",
    "substring = \"i\"\n",
    "count = string.count(substring)\n",
    "print(\"The count of i is:\", count)\n",
    "substring = \"o\"\n",
    "count = string.count(substring)\n",
    "print(\"The count of o is:\", count)\n",
    "substring = \"u\"\n",
    "count = string.count(substring)\n",
    "print(\"The count of u is:\", count)\n"
   ]
  },
  {
   "cell_type": "markdown",
   "metadata": {},
   "source": [
    "# 5. Input two string and display a larger string\n"
   ]
  },
  {
   "cell_type": "code",
   "execution_count": 4,
   "metadata": {},
   "outputs": [
    {
     "name": "stdout",
     "output_type": "stream",
     "text": [
      "Enter the first stringHi, i am\n",
      "Enter the second stringHello, I am\n",
      "second string is greater\n"
     ]
    }
   ],
   "source": [
    "str1 = input('Enter the first string')\n",
    "str2 = input('Enter the second string')\n",
    "count1 = len(str1)\n",
    "count2 = len(str2)\n",
    "if count1 > count2:\n",
    "    print('first string is greater')\n",
    "elif count1 < count2:\n",
    "    print('second string is greater')\n",
    "else:\n",
    "    print('both the srtings are equal')"
   ]
  },
  {
   "cell_type": "code",
   "execution_count": 4,
   "metadata": {},
   "outputs": [
    {
     "name": "stdout",
     "output_type": "stream",
     "text": [
      "Enter the first stringaskdjkak sadjk\n",
      "14\n",
      "Enter the second stringasdjkashj sdaiduqwd askjdaskjdak\n",
      "32\n",
      "second string is greater and length is 32\n"
     ]
    }
   ],
   "source": [
    "str1 = input('Enter the first string')\n",
    "print(len(str1))\n",
    "str2 = input('Enter the second string')\n",
    "print(len(str2))\n",
    "if (len(str1) > len(str2)):\n",
    "    print('first string is greater','and length is',len(str1))\n",
    "elif (len(str1) < len(str2)):\n",
    "    print('second string is greater','and length is',len(str2))\n",
    "else:\n",
    "    print('both the srtings are equal')"
   ]
  },
  {
   "cell_type": "markdown",
   "metadata": {},
   "source": [
    "## 6. count the number is letter and digit in a string. "
   ]
  },
  {
   "cell_type": "code",
   "execution_count": 18,
   "metadata": {},
   "outputs": [
    {
     "name": "stdout",
     "output_type": "stream",
     "text": [
      "Enter the srting: sdkajsd213jk\n",
      "9 3\n"
     ]
    }
   ],
   "source": [
    "str1 = input('Enter the srting: ')\n",
    "alpha=0\n",
    "num=0\n",
    "for i in str1:\n",
    "    if i.isalpha():\n",
    "        alpha+=1\n",
    "    elif i.isdigit():\n",
    "        num+=1\n",
    "    else:\n",
    "        pass\n",
    "print(alpha, num)\n",
    "    "
   ]
  },
  {
   "cell_type": "markdown",
   "metadata": {},
   "source": [
    "# 7. Count the number of lower case in the string"
   ]
  },
  {
   "cell_type": "code",
   "execution_count": 21,
   "metadata": {},
   "outputs": [
    {
     "name": "stdout",
     "output_type": "stream",
     "text": [
      "enter the string: my ame is prabir Kumar\n",
      "17\n",
      "4\n"
     ]
    }
   ],
   "source": [
    "str2 = input('enter the string: ')\n",
    "lo=sp=0\n",
    "for i in str2:\n",
    "    if i.islower():\n",
    "        lo+=1\n",
    "    elif i.isspace():\n",
    "        sp+=1\n",
    "    else:\n",
    "        pass\n",
    "print(lo)\n",
    "print(sp)\n",
    "        "
   ]
  },
  {
   "cell_type": "markdown",
   "metadata": {},
   "source": [
    "## 8. check is a substring is given in a string or not"
   ]
  },
  {
   "cell_type": "code",
   "execution_count": null,
   "metadata": {},
   "outputs": [],
   "source": []
  },
  {
   "cell_type": "markdown",
   "metadata": {},
   "source": [
    "# 9. Use str slicing 'Google'"
   ]
  },
  {
   "cell_type": "code",
   "execution_count": 38,
   "metadata": {},
   "outputs": [
    {
     "name": "stdout",
     "output_type": "stream",
     "text": [
      "goo elg lgo ogl\n",
      "goo elg lgo ogl\n"
     ]
    }
   ],
   "source": [
    "# go = input('Inter the string: ')\n",
    "go = str('google')\n",
    "print(go[:3], go[-1:-4:-1], go[-2:-5:-1], go[2:5:])\n",
    "print(go[:3], go[:2:-1], go[4:1:-1], go[2:5:])"
   ]
  },
  {
   "cell_type": "markdown",
   "metadata": {},
   "source": [
    "## 10. Input a string 'hello' fetch 3rd var 'l' and replace with 'p'"
   ]
  },
  {
   "cell_type": "code",
   "execution_count": 2,
   "metadata": {},
   "outputs": [
    {
     "name": "stdout",
     "output_type": "stream",
     "text": [
      "l\n",
      "['h', 'e', 'p', 'l', 'o']\n"
     ]
    }
   ],
   "source": [
    "## pls check the output\n",
    "he = list('hello')\n",
    "print(he[2])\n",
    "he[2]='p'\n",
    "print(he)"
   ]
  },
  {
   "cell_type": "markdown",
   "metadata": {},
   "source": [
    "## Lists and Tuples"
   ]
  },
  {
   "cell_type": "markdown",
   "metadata": {},
   "source": [
    "#### 1. Python Program to Find the Largest Number in a List \n"
   ]
  },
  {
   "cell_type": "code",
   "execution_count": 9,
   "metadata": {},
   "outputs": [
    {
     "name": "stdout",
     "output_type": "stream",
     "text": [
      "Largest number in the list is:  776\n"
     ]
    }
   ],
   "source": [
    "\n",
    "a = [1,2,44,5,3,22,88,776,5,4]\n",
    "a.sort()\n",
    "print('Largest number in the list is: ',a[-1])"
   ]
  },
  {
   "cell_type": "markdown",
   "metadata": {},
   "source": [
    "#### 2. Python Program to Put Even and Odd elements in a List into Two Different Lists "
   ]
  },
  {
   "cell_type": "code",
   "execution_count": 16,
   "metadata": {},
   "outputs": [
    {
     "name": "stdout",
     "output_type": "stream",
     "text": [
      "[1, 2, 3, 4, 55, 66, 77, 88, 99, 101]\n",
      "[2, 4, 66, 88]\n",
      "[1, 3, 55, 77, 99, 101]\n"
     ]
    }
   ],
   "source": [
    "b = [1,2,3,4,55,66,77,88,99,101]\n",
    "ev = []\n",
    "od = []\n",
    "for i in b:\n",
    "    if i%2==0:\n",
    "        ev.append(i)\n",
    "    else:\n",
    "        od.append(i)\n",
    "print(b)        \n",
    "print(ev)\n",
    "print(od)"
   ]
  },
  {
   "cell_type": "markdown",
   "metadata": {},
   "source": [
    "### 3. Python Program to Read a List of Words and Return the Length of the Longest One "
   ]
  },
  {
   "cell_type": "code",
   "execution_count": 23,
   "metadata": {},
   "outputs": [
    {
     "ename": "AttributeError",
     "evalue": "'str' object has no attribute 'sort'",
     "output_type": "error",
     "traceback": [
      "\u001b[1;31m---------------------------------------------------------------------------\u001b[0m",
      "\u001b[1;31mAttributeError\u001b[0m                            Traceback (most recent call last)",
      "\u001b[1;32m<ipython-input-23-aec1ec14a5bd>\u001b[0m in \u001b[0;36m<module>\u001b[1;34m\u001b[0m\n\u001b[0;32m      2\u001b[0m \u001b[1;32mfor\u001b[0m \u001b[0mi\u001b[0m \u001b[1;32min\u001b[0m \u001b[0mlis\u001b[0m\u001b[1;33m:\u001b[0m\u001b[1;33m\u001b[0m\u001b[1;33m\u001b[0m\u001b[0m\n\u001b[0;32m      3\u001b[0m     \u001b[0mlis\u001b[0m\u001b[1;33m.\u001b[0m\u001b[0mcount\u001b[0m\u001b[1;33m(\u001b[0m\u001b[0mi\u001b[0m\u001b[1;33m)\u001b[0m\u001b[1;33m\u001b[0m\u001b[1;33m\u001b[0m\u001b[0m\n\u001b[1;32m----> 4\u001b[1;33m     \u001b[0mi\u001b[0m\u001b[1;33m.\u001b[0m\u001b[0msort\u001b[0m\u001b[1;33m\u001b[0m\u001b[1;33m\u001b[0m\u001b[0m\n\u001b[0m",
      "\u001b[1;31mAttributeError\u001b[0m: 'str' object has no attribute 'sort'"
     ]
    }
   ],
   "source": [
    "# lis = ['hello','thomas','how','are','you']\n",
    "# for i in lis:\n",
    "#     lis.count(i)\n",
    "def main():\n",
    "    "
   ]
  },
  {
   "cell_type": "markdown",
   "metadata": {},
   "source": [
    "## 4. Python Program to Create a List of Tuples with the First Element as the Number and Second Element as the Square of the Number "
   ]
  },
  {
   "cell_type": "code",
   "execution_count": 47,
   "metadata": {},
   "outputs": [
    {
     "data": {
      "text/plain": [
       "[(1, 1),\n",
       " (2, 4),\n",
       " (3, 9),\n",
       " (4, 16),\n",
       " (5, 25),\n",
       " (6, 36),\n",
       " (7, 49),\n",
       " (8, 64),\n",
       " (9, 81),\n",
       " (10, 100)]"
      ]
     },
     "execution_count": 47,
     "metadata": {},
     "output_type": "execute_result"
    }
   ],
   "source": [
    "#lis = tuple(input('enter the list if tuples:'))\n",
    "lis1 = tuple(range(1,11))\n",
    "\n",
    "op = [(i, i**2) for i in lis1]\n",
    "op\n",
    "                               "
   ]
  },
  {
   "cell_type": "markdown",
   "metadata": {},
   "source": [
    "## 5. Python Program to Remove the Duplicate Items from a List."
   ]
  },
  {
   "cell_type": "code",
   "execution_count": 62,
   "metadata": {},
   "outputs": [
    {
     "name": "stdout",
     "output_type": "stream",
     "text": [
      "[1, 2, 3, 4, 5, 22, 7, 8, 9, 6]\n"
     ]
    }
   ],
   "source": [
    "list1 = [1,2,3,4,5,5,5,5,1,1,22,7,8,9,9,9,3,4,5,6,7,8]\n",
    "list2 = []\n",
    "for i in list1:\n",
    "    if i not in list2:\n",
    "        list2.append(i)\n",
    "print(list2)\n"
   ]
  },
  {
   "cell_type": "markdown",
   "metadata": {},
   "source": [
    "# Dictionaries"
   ]
  },
  {
   "cell_type": "markdown",
   "metadata": {},
   "source": [
    "# 1. Python Program to Check if a Given Key Exists in a Dictionary or Not "
   ]
  },
  {
   "cell_type": "code",
   "execution_count": 7,
   "metadata": {},
   "outputs": [
    {
     "name": "stdout",
     "output_type": "stream",
     "text": [
      "Dictionary:  {'a': 1, 'b': 22, 'c': [1, 2, 3], 'd': ['hello']}\n",
      "Enter the key to be checked:y\n",
      "y is not oresent in the dictionary\n"
     ]
    }
   ],
   "source": [
    "dic = {'a':1,'b':22,'c':[1,2,3],'d':['hello']}\n",
    "print(\"Dictionary: \", dic)\n",
    "\n",
    "key1 = input(\"Enter the key to be checked:\")\n",
    "\n",
    "if key1 in dic.keys():\n",
    "    print(\"Key is present in the dictionary\")\n",
    "    print(\"Key = \", key1, \"and value = \", dic[key1])\n",
    "else:\n",
    "    print(key1, 'is not oresent in the dictionary')"
   ]
  },
  {
   "cell_type": "markdown",
   "metadata": {},
   "source": [
    "# 2. Python Program to Remove the Given Key from a Dictionary "
   ]
  },
  {
   "cell_type": "code",
   "execution_count": 20,
   "metadata": {},
   "outputs": [
    {
     "name": "stdout",
     "output_type": "stream",
     "text": [
      "{'a': 1, 'b': 22, 'c': [1, 2, 3], 'd': ['hello']}\n",
      "enter the key to be deleted:d\n",
      "updated dictionary is:  {'a': 1, 'b': 22, 'c': [1, 2, 3]}\n"
     ]
    }
   ],
   "source": [
    "dis1 = {'a':1,'b':22,'c':[1,2,3],'d':['hello']}\n",
    "print(dis1)\n",
    "key1 = input('enter the key to be deleted:')\n",
    "if key1 in dis1.keys():\n",
    "    dis1.pop(key1)\n",
    "    print('updated dictionary is: ', dis1)\n",
    "else:\n",
    "    print('given key is not present in', dis1)\n",
    "# print(dis1.pop(disc[0]))\n"
   ]
  },
  {
   "cell_type": "code",
   "execution_count": 21,
   "metadata": {},
   "outputs": [
    {
     "name": "stdout",
     "output_type": "stream",
     "text": [
      "Dictionary Items  :   {'name': 'John', 'age': 25, 'job': 'Developer'}\n",
      "Please enter the key that you want to Delete : pepe\n",
      "Given Key is Not in this Dictionary\n",
      "\n",
      "Updated Dictionary =  {'name': 'John', 'age': 25, 'job': 'Developer'}\n"
     ]
    }
   ],
   "source": [
    "myDict = {'name': 'John', 'age': 25, 'job': 'Developer'}\n",
    "print(\"Dictionary Items  :  \",  myDict)\n",
    "\n",
    "key = input(\"Please enter the key that you want to Delete : \")\n",
    "\n",
    "if key in myDict:\n",
    "    del myDict[key]\n",
    "else:\n",
    "    print(\"Given Key is Not in this Dictionary\")\n",
    "    \n",
    "print(\"\\nUpdated Dictionary = \", myDict)"
   ]
  },
  {
   "cell_type": "markdown",
   "metadata": {},
   "source": [
    "## 3.Python Program to Sum All the Items in a Dictionary "
   ]
  },
  {
   "cell_type": "code",
   "execution_count": 33,
   "metadata": {},
   "outputs": [
    {
     "name": "stdout",
     "output_type": "stream",
     "text": [
      "600\n"
     ]
    }
   ],
   "source": [
    "item = {'a': 100, 'b':200, 'c':300}\n",
    "value=0\n",
    "for i in item:\n",
    "    value+=item[i]\n",
    "print(value)"
   ]
  },
  {
   "cell_type": "code",
   "execution_count": 34,
   "metadata": {},
   "outputs": [
    {
     "name": "stdout",
     "output_type": "stream",
     "text": [
      "600\n"
     ]
    }
   ],
   "source": [
    "item = {'a': 100, 'b':200, 'c':300}\n",
    "print(sum(item.values()))"
   ]
  },
  {
   "cell_type": "markdown",
   "metadata": {},
   "source": [
    "## 4. Write a Python program to iterate over dictionaries using for loops "
   ]
  },
  {
   "cell_type": "code",
   "execution_count": 4,
   "metadata": {},
   "outputs": [
    {
     "name": "stdout",
     "output_type": "stream",
     "text": [
      "a is 100\n",
      "b is 200\n",
      "c is 300\n"
     ]
    }
   ],
   "source": [
    "d = {'a': 100, 'b':200, 'c':300}\n",
    "for d_key, d_value in d.items():\n",
    "    print(d_key,'is', d_value)"
   ]
  },
  {
   "cell_type": "markdown",
   "metadata": {},
   "source": [
    "### 5. Write a Python program to remove a key from a dictionary"
   ]
  },
  {
   "cell_type": "code",
   "execution_count": 3,
   "metadata": {},
   "outputs": [
    {
     "name": "stdout",
     "output_type": "stream",
     "text": [
      "{'a': 100, 'b': 200, 'c': 300}\n",
      "enter the key to be deleted: b\n",
      "the updated dictionary is {'b': 200, 'c': 300}\n"
     ]
    },
    {
     "ename": "RuntimeError",
     "evalue": "dictionary changed size during iteration",
     "output_type": "error",
     "traceback": [
      "\u001b[1;31m---------------------------------------------------------------------------\u001b[0m",
      "\u001b[1;31mRuntimeError\u001b[0m                              Traceback (most recent call last)",
      "\u001b[1;32m<ipython-input-3-8dcf980d4f4b>\u001b[0m in \u001b[0;36m<module>\u001b[1;34m\u001b[0m\n\u001b[0;32m      2\u001b[0m \u001b[0mprint\u001b[0m\u001b[1;33m(\u001b[0m\u001b[0md\u001b[0m\u001b[1;33m)\u001b[0m\u001b[1;33m\u001b[0m\u001b[1;33m\u001b[0m\u001b[0m\n\u001b[0;32m      3\u001b[0m \u001b[0mkey1\u001b[0m \u001b[1;33m=\u001b[0m \u001b[0minput\u001b[0m\u001b[1;33m(\u001b[0m\u001b[1;34m'enter the key to be deleted: '\u001b[0m\u001b[1;33m)\u001b[0m\u001b[1;33m\u001b[0m\u001b[1;33m\u001b[0m\u001b[0m\n\u001b[1;32m----> 4\u001b[1;33m \u001b[1;32mfor\u001b[0m \u001b[0mkey1\u001b[0m \u001b[1;32min\u001b[0m \u001b[0md\u001b[0m\u001b[1;33m.\u001b[0m\u001b[0mkeys\u001b[0m\u001b[1;33m(\u001b[0m\u001b[1;33m)\u001b[0m\u001b[1;33m:\u001b[0m\u001b[1;33m\u001b[0m\u001b[1;33m\u001b[0m\u001b[0m\n\u001b[0m\u001b[0;32m      5\u001b[0m     \u001b[0md\u001b[0m\u001b[1;33m.\u001b[0m\u001b[0mpop\u001b[0m\u001b[1;33m(\u001b[0m\u001b[0mkey1\u001b[0m\u001b[1;33m)\u001b[0m\u001b[1;33m\u001b[0m\u001b[1;33m\u001b[0m\u001b[0m\n\u001b[0;32m      6\u001b[0m     \u001b[0mprint\u001b[0m\u001b[1;33m(\u001b[0m\u001b[1;34m'the updated dictionary is'\u001b[0m\u001b[1;33m,\u001b[0m \u001b[0md\u001b[0m\u001b[1;33m)\u001b[0m\u001b[1;33m\u001b[0m\u001b[1;33m\u001b[0m\u001b[0m\n",
      "\u001b[1;31mRuntimeError\u001b[0m: dictionary changed size during iteration"
     ]
    }
   ],
   "source": [
    "d = {'a': 100, 'b':200, 'c':300}\n",
    "print(d)\n",
    "key1 = input('enter the key to be deleted: ')\n",
    "for key1 in d.keys():\n",
    "    d.pop(key1)\n",
    "    print('the updated dictionary is', d)\n",
    "else:\n",
    "    print('not present')"
   ]
  },
  {
   "cell_type": "markdown",
   "metadata": {},
   "source": [
    "## 6. Write a Python program to sort a dictionary by key"
   ]
  },
  {
   "cell_type": "code",
   "execution_count": 2,
   "metadata": {},
   "outputs": [],
   "source": [
    "dic = {'a':1,'b':22,'c':[1,2,3],'d':['hello']}\n"
   ]
  },
  {
   "cell_type": "code",
   "execution_count": null,
   "metadata": {},
   "outputs": [],
   "source": []
  },
  {
   "cell_type": "code",
   "execution_count": null,
   "metadata": {},
   "outputs": [],
   "source": []
  },
  {
   "cell_type": "code",
   "execution_count": null,
   "metadata": {},
   "outputs": [],
   "source": []
  }
 ],
 "metadata": {
  "kernelspec": {
   "display_name": "Python 3",
   "language": "python",
   "name": "python3"
  },
  "language_info": {
   "codemirror_mode": {
    "name": "ipython",
    "version": 3
   },
   "file_extension": ".py",
   "mimetype": "text/x-python",
   "name": "python",
   "nbconvert_exporter": "python",
   "pygments_lexer": "ipython3",
   "version": "3.7.4"
  }
 },
 "nbformat": 4,
 "nbformat_minor": 2
}
