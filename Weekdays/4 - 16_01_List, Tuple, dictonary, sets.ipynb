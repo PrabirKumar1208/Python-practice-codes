{
 "cells": [
  {
   "cell_type": "code",
   "execution_count": 1,
   "metadata": {},
   "outputs": [
    {
     "name": "stdout",
     "output_type": "stream",
     "text": [
      "Hello World\n"
     ]
    }
   ],
   "source": [
    "print (\"Hello World\")"
   ]
  },
  {
   "cell_type": "markdown",
   "metadata": {},
   "source": [
    "# Python collections \n",
    "- List\n",
    "- tuple\n",
    "- dictonary\n",
    "- sets"
   ]
  },
  {
   "cell_type": "markdown",
   "metadata": {},
   "source": [
    "## List\n",
    "* Ordered\n",
    "* indexed\n",
    "* Duplicate member allowed\n",
    "\n"
   ]
  },
  {
   "cell_type": "code",
   "execution_count": 4,
   "metadata": {},
   "outputs": [
    {
     "name": "stdout",
     "output_type": "stream",
     "text": [
      "[1, 2, 3, 4, 5, 6] <class 'list'>\n",
      "[1, 2, 3, 'hello', 4, 5, 1.5] <class 'list'>\n"
     ]
    }
   ],
   "source": [
    "### syntax [element seperated by comma]\n",
    "int_list = [1,2,3,4,5,6]\n",
    "mix_list = [1,2,3,'hello',4,5,1.5]\n",
    "print ( int_list, type(int_list))\n",
    "print (mix_list, type(mix_list))"
   ]
  },
  {
   "cell_type": "code",
   "execution_count": 7,
   "metadata": {},
   "outputs": [
    {
     "name": "stdout",
     "output_type": "stream",
     "text": [
      "2\n",
      "hello\n"
     ]
    }
   ],
   "source": [
    "### Accessing each element by indexing (Ordered)\n",
    "mix_list = [1,2,3,'hello',4,5,1.5]\n",
    "print (mix_list[1])\n",
    "print (mix_list[3])"
   ]
  },
  {
   "cell_type": "code",
   "execution_count": 11,
   "metadata": {},
   "outputs": [
    {
     "data": {
      "text/plain": [
       "20"
      ]
     },
     "execution_count": 11,
     "metadata": {},
     "output_type": "execute_result"
    }
   ],
   "source": [
    "l = [1,2,[3,4,5],6,7,[[20]]]\n",
    "l[5][0][0]"
   ]
  },
  {
   "cell_type": "code",
   "execution_count": 17,
   "metadata": {},
   "outputs": [
    {
     "data": {
      "text/plain": [
       "4"
      ]
     },
     "execution_count": 17,
     "metadata": {},
     "output_type": "execute_result"
    }
   ],
   "source": [
    "mix_list = [1,2,3,'hello',4,4,4,4,4,5,1.5]\n",
    "type(mix_list[3])\n",
    "mix_list[8]"
   ]
  },
  {
   "cell_type": "code",
   "execution_count": 22,
   "metadata": {},
   "outputs": [
    {
     "ename": "SyntaxError",
     "evalue": "invalid syntax (<ipython-input-22-ae1b5295c64c>, line 2)",
     "output_type": "error",
     "traceback": [
      "\u001b[1;36m  File \u001b[1;32m\"<ipython-input-22-ae1b5295c64c>\"\u001b[1;36m, line \u001b[1;32m2\u001b[0m\n\u001b[1;33m    print(list(1,2,3,4))\u001b[0m\n\u001b[1;37m        ^\u001b[0m\n\u001b[1;31mSyntaxError\u001b[0m\u001b[1;31m:\u001b[0m invalid syntax\n"
     ]
    }
   ],
   "source": [
    "print(list(range(1,10))\n",
    "print(list(1,2,3,4))"
   ]
  },
  {
   "cell_type": "markdown",
   "metadata": {},
   "source": [
    "## Negative Indexing"
   ]
  },
  {
   "cell_type": "code",
   "execution_count": 24,
   "metadata": {},
   "outputs": [
    {
     "name": "stdout",
     "output_type": "stream",
     "text": [
      "1.5\n",
      "hello\n"
     ]
    }
   ],
   "source": [
    "mix_list = [1,2,3,'hello',4,5,1.5]\n",
    "print (mix_list[-1])\n",
    "print (mix_list[-4])"
   ]
  },
  {
   "cell_type": "code",
   "execution_count": 29,
   "metadata": {},
   "outputs": [
    {
     "name": "stdout",
     "output_type": "stream",
     "text": [
      "['hello', 'world']\n",
      "[3, 'hello', 'world', 4, 5, 1.5]\n",
      "[1, 2, 3, 'hello', 'world', 4]\n",
      "[1.5, 5, 4, 'world', 'hello', 3, 2, 1]\n"
     ]
    }
   ],
   "source": [
    "### Slicing [start:end]\n",
    "mix_list = [1,2,3,'hello','world',4,5,1.5]\n",
    "print (mix_list[3:5])\n",
    "print (mix_list[2:])\n",
    "print (mix_list[:6])\n",
    "print (mix_list[::-1])"
   ]
  },
  {
   "cell_type": "code",
   "execution_count": 31,
   "metadata": {},
   "outputs": [
    {
     "name": "stdout",
     "output_type": "stream",
     "text": [
      "['hello', 'world']\n",
      "['hello', 'world', 4.7, 1.5]\n",
      "[1, 2, 'hello', 'world']\n"
     ]
    }
   ],
   "source": [
    "## Negative slicing \n",
    "mix_list = [1,2,'hello','world',4.7,1.5]\n",
    "print (mix_list[-4:-2])\n",
    "print (mix_list[-4:])\n",
    "print (mix_list[:-2])"
   ]
  },
  {
   "cell_type": "code",
   "execution_count": null,
   "metadata": {},
   "outputs": [],
   "source": [
    "## changing a member value in the list\n"
   ]
  },
  {
   "cell_type": "code",
   "execution_count": 37,
   "metadata": {},
   "outputs": [
    {
     "name": "stdout",
     "output_type": "stream",
     "text": [
      "[1, 2, 'hello', 'everyone', 4.7, 1.5]\n",
      "[1, 2, 'hello', 4, 4.7, 1.5]\n",
      "[1, 2, 'hello', [6, 7, 8, 9], 4.7, 1.5]\n",
      "[1, 2, 'hello', [1.2, 1.3, 1.4, 1.5], 4.7, 1.5]\n"
     ]
    }
   ],
   "source": [
    "mix_list = [1,2,'hello','world',4.7,1.5]\n",
    "mix_list[3]='everyone'\n",
    "print(mix_list)\n",
    "mix_list[3]=4\n",
    "print(mix_list)\n",
    "mix_list[3]=[6,7,8,9]\n",
    "print(mix_list)\n",
    "mix_list[3]=[1.2,1.3,1.4,1.5]\n",
    "print(mix_list)"
   ]
  },
  {
   "cell_type": "code",
   "execution_count": 39,
   "metadata": {},
   "outputs": [],
   "source": [
    "###\n",
    "mix_list = [1,2,'hello','world',4.7,1.5]"
   ]
  },
  {
   "cell_type": "code",
   "execution_count": 40,
   "metadata": {},
   "outputs": [
    {
     "name": "stdout",
     "output_type": "stream",
     "text": [
      "[1, 2, 'hello', 'world', 4.7, 1.5, 5]\n"
     ]
    }
   ],
   "source": [
    "mix_list.append(5)\n",
    "print(mix_list)"
   ]
  },
  {
   "cell_type": "code",
   "execution_count": 62,
   "metadata": {},
   "outputs": [
    {
     "name": "stdout",
     "output_type": "stream",
     "text": [
      "[1, 2, 'hello', 'world', 4.7, 1.5, 1, 2, 3]\n"
     ]
    }
   ],
   "source": [
    "mix_list = [1,2,'hello','world',4.7,1.5]\n",
    "mix_list.extend([1,2,3])\n",
    "print(mix_list)"
   ]
  },
  {
   "cell_type": "code",
   "execution_count": 63,
   "metadata": {},
   "outputs": [
    {
     "name": "stdout",
     "output_type": "stream",
     "text": [
      "[1, 2, 'hello', 50, 'world', 4.7, 1.5, 1, 2, 3]\n"
     ]
    }
   ],
   "source": [
    "mix_list.insert(3,50)\n",
    "print(mix_list)"
   ]
  },
  {
   "cell_type": "code",
   "execution_count": 64,
   "metadata": {},
   "outputs": [
    {
     "name": "stdout",
     "output_type": "stream",
     "text": [
      "[1, 2, 'hello', [45, 56], 50, 'world', 4.7, 1.5, 1, 2, 3]\n"
     ]
    }
   ],
   "source": [
    "mix_list.insert(3,[45,56])\n",
    "print(mix_list)"
   ]
  },
  {
   "cell_type": "code",
   "execution_count": 65,
   "metadata": {},
   "outputs": [
    {
     "name": "stdout",
     "output_type": "stream",
     "text": [
      "[1, 2, 'hello', [45, 56], 50, 'world', 4.7, 1.5, 1, 2]\n",
      "[1, 'hello', [45, 56], 50, 'world', 4.7, 1.5, 1, 2]\n"
     ]
    }
   ],
   "source": [
    "### remove a value from exinsting list\n",
    "mix_list.pop() #removing by index\n",
    "print(mix_list)\n",
    "mix_list.remove(2) # removing ny value\n",
    "print(mix_list)\n"
   ]
  },
  {
   "cell_type": "code",
   "execution_count": 70,
   "metadata": {},
   "outputs": [
    {
     "name": "stdout",
     "output_type": "stream",
     "text": [
      "[1, 'hello', 'world', 4.7, 1.5, 4, 5, 6, 7, 8, 8, 8, 8, 11, 1, 1]\n",
      "[1, 'hello', 'world', 4.7, 5, 6, 7, 8, 8, 8, 8, 11, 1, 1]\n"
     ]
    }
   ],
   "source": [
    "mix_list = [1,2,'hello','world',4.7,1.5,4,5,6,7,8,8,8,8,11,1,1]\n",
    "del mix_list[1] # removing by position\n",
    "print(mix_list)\n",
    "del mix_list[4:6] # removing by position\n",
    "print(mix_list)"
   ]
  },
  {
   "cell_type": "code",
   "execution_count": 71,
   "metadata": {},
   "outputs": [
    {
     "data": {
      "text/plain": [
       "3"
      ]
     },
     "execution_count": 71,
     "metadata": {},
     "output_type": "execute_result"
    }
   ],
   "source": [
    "mix_list.count(1)"
   ]
  },
  {
   "cell_type": "markdown",
   "metadata": {},
   "source": [
    "# Looping through the list"
   ]
  },
  {
   "cell_type": "code",
   "execution_count": 73,
   "metadata": {},
   "outputs": [
    {
     "name": "stdout",
     "output_type": "stream",
     "text": [
      "1\n",
      "hello\n",
      "world\n",
      "4.7\n",
      "5\n",
      "6\n",
      "7\n",
      "8\n",
      "8\n",
      "8\n",
      "8\n",
      "11\n",
      "1\n",
      "1\n"
     ]
    }
   ],
   "source": [
    "for ele in mix_list:\n",
    "    print(ele)"
   ]
  },
  {
   "cell_type": "code",
   "execution_count": 74,
   "metadata": {},
   "outputs": [],
   "source": [
    "#WAP list of integer and subtract the mean of list from every number"
   ]
  },
  {
   "cell_type": "code",
   "execution_count": 84,
   "metadata": {},
   "outputs": [
    {
     "name": "stdout",
     "output_type": "stream",
     "text": [
      "-4.5\n",
      "-3.5\n",
      "-2.5\n",
      "-1.5\n",
      "-0.5\n",
      "0.5\n",
      "1.5\n",
      "2.5\n",
      "3.5\n",
      "4.5\n"
     ]
    }
   ],
   "source": [
    "import numpy as np\n",
    "for each in range(1,11):\n",
    "    print(each - np.mean(range(1,11)))"
   ]
  },
  {
   "cell_type": "code",
   "execution_count": 1,
   "metadata": {},
   "outputs": [
    {
     "data": {
      "text/plain": [
       "[1, 2, 3, 4, 5, 6, 7, 8, 9, 10]"
      ]
     },
     "execution_count": 1,
     "metadata": {},
     "output_type": "execute_result"
    }
   ],
   "source": [
    "list(range(1,11))"
   ]
  },
  {
   "cell_type": "code",
   "execution_count": 7,
   "metadata": {},
   "outputs": [
    {
     "name": "stdout",
     "output_type": "stream",
     "text": [
      "True\n",
      "False\n",
      "True\n"
     ]
    }
   ],
   "source": [
    "### check if an element exists in the list\n",
    "mix_list=[1,2,3,44,4,4,4,45,5,6,7,8,9]\n",
    "print(7 in mix_list)\n",
    "print(7 not in mix_list)\n",
    "print(45 in mix_list)"
   ]
  },
  {
   "cell_type": "code",
   "execution_count": 8,
   "metadata": {},
   "outputs": [
    {
     "data": {
      "text/plain": [
       "[1, 2, 3, 4, 5, 6]"
      ]
     },
     "execution_count": 8,
     "metadata": {},
     "output_type": "execute_result"
    }
   ],
   "source": [
    "[1,2,3]+[4,5,6] # concate\n"
   ]
  },
  {
   "cell_type": "code",
   "execution_count": 11,
   "metadata": {},
   "outputs": [
    {
     "data": {
      "text/plain": [
       "[1, 2, 3, 1, 2, 3]"
      ]
     },
     "execution_count": 11,
     "metadata": {},
     "output_type": "execute_result"
    }
   ],
   "source": [
    "[1,2,3]*2"
   ]
  },
  {
   "cell_type": "code",
   "execution_count": null,
   "metadata": {},
   "outputs": [],
   "source": [
    "## WAP to generate a sq list from a list of int 1-10"
   ]
  },
  {
   "cell_type": "code",
   "execution_count": 3,
   "metadata": {},
   "outputs": [
    {
     "name": "stdout",
     "output_type": "stream",
     "text": [
      "[1]\n",
      "[1, 4]\n",
      "[1, 4, 9]\n",
      "[1, 4, 9, 16]\n",
      "[1, 4, 9, 16, 25]\n",
      "[1, 4, 9, 16, 25, 36]\n",
      "[1, 4, 9, 16, 25, 36, 49]\n",
      "[1, 4, 9, 16, 25, 36, 49, 64]\n",
      "[1, 4, 9, 16, 25, 36, 49, 64, 81]\n",
      "[1, 4, 9, 16, 25, 36, 49, 64, 81, 100]\n",
      "[1, 4, 9, 16, 25, 36, 49, 64, 81, 100]\n"
     ]
    }
   ],
   "source": [
    "square_list = []\n",
    "\n",
    "for each in range(1,11):\n",
    "    square_list.append(each**2)\n",
    "    print(square_list)\n",
    "print(square_list)"
   ]
  },
  {
   "cell_type": "markdown",
   "metadata": {},
   "source": [
    "#     ## Tuple"
   ]
  },
  {
   "cell_type": "markdown",
   "metadata": {},
   "source": [
    "###### \n",
    "- Ordered\n",
    "- indexed\n",
    "- duplicate members allowed\n",
    "- only read operations supported"
   ]
  },
  {
   "cell_type": "code",
   "execution_count": 6,
   "metadata": {},
   "outputs": [
    {
     "name": "stdout",
     "output_type": "stream",
     "text": [
      "(1, 2, 3, 4, 'hello', 'world', 1.2, 1.3, 1.4)\n",
      "<class 'tuple'>\n"
     ]
    }
   ],
   "source": [
    "## syntax ()\n",
    "my_tuple = (1,2,3,4,'hello','world',1.2,1.3,1.4)\n",
    "print(my_tuple)\n",
    "print(type(my_tuple))"
   ]
  },
  {
   "cell_type": "code",
   "execution_count": 7,
   "metadata": {},
   "outputs": [
    {
     "data": {
      "text/plain": [
       "(1, 2, 3, 4)"
      ]
     },
     "execution_count": 7,
     "metadata": {},
     "output_type": "execute_result"
    }
   ],
   "source": [
    "tuple([1,2,3,4])"
   ]
  },
  {
   "cell_type": "code",
   "execution_count": 17,
   "metadata": {},
   "outputs": [
    {
     "name": "stdout",
     "output_type": "stream",
     "text": [
      "hello\n",
      "(1, 2, 3, 4, 'hello', 'world', 1.2, 1.3, 1.4, (10, 20), [30, 40, 50])\n"
     ]
    }
   ],
   "source": [
    "my_tuple = (1,2,3,4,'hello','world',1.2,1.3,1.4,(10,20),[30,40,50])\n",
    "print(my_tuple[4])\n",
    "print(my_tuple)"
   ]
  },
  {
   "cell_type": "code",
   "execution_count": 24,
   "metadata": {},
   "outputs": [
    {
     "name": "stdout",
     "output_type": "stream",
     "text": [
      "10\n",
      "20\n",
      "20\n",
      "20\n",
      "50\n",
      "50\n"
     ]
    },
    {
     "data": {
      "text/plain": [
       "('hello', 'world')"
      ]
     },
     "execution_count": 24,
     "metadata": {},
     "output_type": "execute_result"
    }
   ],
   "source": [
    "print(my_tuple[9][0])\n",
    "print(my_tuple[9][1])\n",
    "print(my_tuple[-2][1])\n",
    "print(my_tuple[-2][-1])\n",
    "print(my_tuple[-1][2])\n",
    "print(my_tuple[-1][-1])\n",
    "# print((len my_tuple)-1)[-1]\n",
    "my_tuple[4:6]"
   ]
  },
  {
   "cell_type": "code",
   "execution_count": 25,
   "metadata": {},
   "outputs": [
    {
     "data": {
      "text/plain": [
       "1"
      ]
     },
     "execution_count": 25,
     "metadata": {},
     "output_type": "execute_result"
    }
   ],
   "source": [
    "my_tuple.count(1)"
   ]
  },
  {
   "cell_type": "code",
   "execution_count": 28,
   "metadata": {},
   "outputs": [
    {
     "name": "stdout",
     "output_type": "stream",
     "text": [
      "11\n"
     ]
    }
   ],
   "source": [
    "my_tuple = (1,2,3,4,'hello','world',1.2,1.3,1.4,(10,20),[30,40,50])\n",
    "print(len(my_tuple))"
   ]
  },
  {
   "cell_type": "code",
   "execution_count": null,
   "metadata": {},
   "outputs": [],
   "source": []
  }
 ],
 "metadata": {
  "kernelspec": {
   "display_name": "Python 3",
   "language": "python",
   "name": "python3"
  },
  "language_info": {
   "codemirror_mode": {
    "name": "ipython",
    "version": 3
   },
   "file_extension": ".py",
   "mimetype": "text/x-python",
   "name": "python",
   "nbconvert_exporter": "python",
   "pygments_lexer": "ipython3",
   "version": "3.7.4"
  }
 },
 "nbformat": 4,
 "nbformat_minor": 2
}
