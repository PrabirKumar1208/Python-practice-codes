{
 "cells": [
  {
   "cell_type": "code",
   "execution_count": 2,
   "metadata": {
    "colab": {},
    "colab_type": "code",
    "id": "Q3K-H174NUYS"
   },
   "outputs": [
    {
     "name": "stdout",
     "output_type": "stream",
     "text": [
      "Enter the first number: 33\n",
      "enter the secnd number: 3\n",
      "enter the threshold value: 1\n",
      "The number is greater than the threshold!\n"
     ]
    }
   ],
   "source": [
    "x1 = float(input('Enter the first number: '))\n",
    "x2 = float(input('enter the secnd number: '))\n",
    "t1 = float(input('enter the threshold value: '))\n",
    "num = x1+x2\n",
    "if num>t1:\n",
    "    print('The number is greater than the threshold!')\n",
    "else:\n",
    "    print(\"the number is smaller than the threshold\")"
   ]
  },
  {
   "cell_type": "code",
   "execution_count": 11,
   "metadata": {},
   "outputs": [
    {
     "name": "stdout",
     "output_type": "stream",
     "text": [
      "Enter the number: 33\n",
      "the number is odd\n"
     ]
    }
   ],
   "source": [
    "x1 = float(input('Enter the number: '))\n",
    "if x1%2 == 0:\n",
    "    print('the number is even')\n",
    "else:\n",
    "    print('the number is odd')"
   ]
  },
  {
   "cell_type": "code",
   "execution_count": 6,
   "metadata": {},
   "outputs": [
    {
     "name": "stdout",
     "output_type": "stream",
     "text": [
      "enter the score: 22\n",
      "student is failed\n"
     ]
    }
   ],
   "source": [
    "x1 = float(input('enter the score: '))\n",
    "if (x1>=90) & (x1<=100):\n",
    "    print('First class')\n",
    "elif (x1>=80) & (x1<=89):\n",
    "    print('second Class')\n",
    "elif (x1>=70) & (x1<=79):\n",
    "    print('third Class')\n",
    "elif (x1>=60) & (x1<=169):\n",
    "    print('Forth Class')\n",
    "elif (x1>=50) & (x1<=59):\n",
    "    print('Fifth Class')\n",
    "else:\n",
    "    print('student is failed')\n",
    "    \n",
    "    "
   ]
  },
  {
   "cell_type": "code",
   "execution_count": 25,
   "metadata": {},
   "outputs": [
    {
     "name": "stdout",
     "output_type": "stream",
     "text": [
      "enter the first number2\n",
      "enter the second number3\n",
      "enter the third number9\n",
      "the addition is less than threshold\n"
     ]
    }
   ],
   "source": [
    "num1 = float(input('enter the first number'))\n",
    "num2 = float(input('enter the second number'))\n",
    "num3 = float(input('enter the third number'))\n",
    "if (num1+num2)==num3:\n",
    "    print('addition equals threshold')\n",
    "elif (num1+num2)>num3:\n",
    "    print('the addition is greater than threshold')\n",
    "else:\n",
    "    print('the addition is less than threshold')"
   ]
  },
  {
   "cell_type": "code",
   "execution_count": 6,
   "metadata": {},
   "outputs": [
    {
     "ename": "IndentationError",
     "evalue": "unexpected indent (<ipython-input-6-b81a9044f301>, line 5)",
     "output_type": "error",
     "traceback": [
      "\u001b[1;36m  File \u001b[1;32m\"<ipython-input-6-b81a9044f301>\"\u001b[1;36m, line \u001b[1;32m5\u001b[0m\n\u001b[1;33m    print('addition of {num1} and {num2} is {num3}'.format(num1=num1, num2=num2, num3=num1+num2))\u001b[0m\n\u001b[1;37m    ^\u001b[0m\n\u001b[1;31mIndentationError\u001b[0m\u001b[1;31m:\u001b[0m unexpected indent\n"
     ]
    }
   ],
   "source": [
    "num1 = float(input('enter the first number'))\n",
    "num2 = float(input('enter the second number'))\n",
    "#num3 = float(input('enter the threshold number'))\n",
    "#if (num1+num2)==num3:\n",
    "    print('addition of {num1} and {num2} is {num3}'.format(num1=num1, num2=num2, num3=num1+num2))\n"
   ]
  },
  {
   "cell_type": "code",
   "execution_count": 3,
   "metadata": {},
   "outputs": [
    {
     "name": "stdout",
     "output_type": "stream",
     "text": [
      "enter the 1st num3\n",
      "enter the 2nd num3\n",
      "enter the operator-\n",
      "the addition of 3 and 3 is 0\n"
     ]
    }
   ],
   "source": [
    "x1 = int(input('enter the 1st num'))\n",
    "x2 = int(input('enter the 2nd num'))\n",
    "t1 = input('enter the operator')\n",
    "if t1=='+':\n",
    "    print('the addition of {x1} and {x2} is {n3}'.format(x1=x1,x2=x2,n3=x1+x2))\n",
    "elif t1=='-':\n",
    "    print('the addition of {x1} and {x2} is {n3}'.format(x1=x1,x2=x2,n3=x1-x2))\n",
    "elif t1=='*':\n",
    "    print('the addition of {x1} and {x2} is {n3}'.format(x1=x1,x2=x2,n3=x1*x2))\n",
    "elif t1=='/':\n",
    "    print('the addition of {x1} and {x2} is {n3}'.format(x1=x1,x2=x2,n3=x1/x2))\n",
    "elif t1=='%':\n",
    "    print('the addition of {x1} and {x2} is {n3}'.format(x1=x1,x2=x2,n3=x1%x2))\n",
    "else:\n",
    "    print('End of program')"
   ]
  },
  {
   "cell_type": "code",
   "execution_count": 4,
   "metadata": {},
   "outputs": [
    {
     "name": "stdout",
     "output_type": "stream",
     "text": [
      "enter the 1st num2\n",
      "enter the 2nd num2\n",
      "enter the operator=\n",
      "Wrong input\n"
     ]
    }
   ],
   "source": [
    "x1 = int(input('enter the 1st num'))\n",
    "x2 = int(input('enter the 2nd num'))\n",
    "t1 = input('enter the operator')\n",
    "if t1=='+':\n",
    "    print('the addition of {x1} and {x2} is {n3}'.format(x1=x1,x2=x2,n3=x1+x2))\n",
    "elif t1=='-':\n",
    "    print('the addition of {x1} and {x2} is {n3}'.format(x1=x1,x2=x2,n3=x1-x2))\n",
    "elif t1=='*':\n",
    "    print('the addition of {x1} and {x2} is {n3}'.format(x1=x1,x2=x2,n3=x1*x2))\n",
    "elif t1=='/':\n",
    "        print('the addition of {x1} and {x2} is {n3}'.format(x1=x1,x2=x2,n3=x1/x2))\n",
    "elif t1=='%':\n",
    "    print('the addition of {x1} and {x2} is {n3}'.format(x1=x1,x2=x2,n3=x1%x2))\n",
    "else:\n",
    "    print('Wrong input')"
   ]
  },
  {
   "cell_type": "markdown",
   "metadata": {},
   "source": [
    "# Loops"
   ]
  },
  {
   "cell_type": "code",
   "execution_count": 11,
   "metadata": {},
   "outputs": [
    {
     "name": "stdout",
     "output_type": "stream",
     "text": [
      "10\n",
      "9\n",
      "8\n",
      "7\n",
      "6\n",
      "5\n",
      "4\n",
      "3\n",
      "2\n",
      "1\n"
     ]
    }
   ],
   "source": [
    "x=10\n",
    "while (x>0):\n",
    "    print (x)\n",
    "    x-=1"
   ]
  },
  {
   "cell_type": "code",
   "execution_count": 15,
   "metadata": {},
   "outputs": [
    {
     "name": "stdout",
     "output_type": "stream",
     "text": [
      "1\n",
      "4\n",
      "9\n"
     ]
    }
   ],
   "source": [
    "for x in range(1,4):\n",
    "    print (x**2)"
   ]
  },
  {
   "cell_type": "code",
   "execution_count": null,
   "metadata": {},
   "outputs": [],
   "source": [
    "#Print i as long as i is less than N; where N is taken from user. Note: i =1 initialially"
   ]
  },
  {
   "cell_type": "code",
   "execution_count": null,
   "metadata": {},
   "outputs": [],
   "source": [
    "i=1\n",
    "x1 = int(input('enter the N'))\n",
    "while i<x1:\n",
    "    print(i)\n",
    "    i+=1\n"
   ]
  },
  {
   "cell_type": "code",
   "execution_count": null,
   "metadata": {},
   "outputs": [],
   "source": []
  },
  {
   "cell_type": "code",
   "execution_count": null,
   "metadata": {},
   "outputs": [],
   "source": [
    "i = 1\n",
    "x1 = int(input('enter the N'))\n",
    "while i<x1:\n",
    "    print(i)"
   ]
  },
  {
   "cell_type": "code",
   "execution_count": null,
   "metadata": {},
   "outputs": [],
   "source": []
  },
  {
   "cell_type": "code",
   "execution_count": null,
   "metadata": {},
   "outputs": [],
   "source": []
  },
  {
   "cell_type": "code",
   "execution_count": null,
   "metadata": {},
   "outputs": [],
   "source": []
  },
  {
   "cell_type": "code",
   "execution_count": null,
   "metadata": {},
   "outputs": [],
   "source": []
  },
  {
   "cell_type": "code",
   "execution_count": null,
   "metadata": {},
   "outputs": [],
   "source": []
  },
  {
   "cell_type": "code",
   "execution_count": null,
   "metadata": {},
   "outputs": [],
   "source": []
  },
  {
   "cell_type": "code",
   "execution_count": null,
   "metadata": {},
   "outputs": [],
   "source": []
  },
  {
   "cell_type": "code",
   "execution_count": null,
   "metadata": {},
   "outputs": [],
   "source": []
  }
 ],
 "metadata": {
  "colab": {
   "authorship_tag": "ABX9TyO8TCI6ArZeesdWEUOSeHnn",
   "name": "Untitled0.ipynb",
   "provenance": []
  },
  "kernelspec": {
   "display_name": "Python 3",
   "language": "python",
   "name": "python3"
  },
  "language_info": {
   "codemirror_mode": {
    "name": "ipython",
    "version": 3
   },
   "file_extension": ".py",
   "mimetype": "text/x-python",
   "name": "python",
   "nbconvert_exporter": "python",
   "pygments_lexer": "ipython3",
   "version": "3.7.4"
  }
 },
 "nbformat": 4,
 "nbformat_minor": 1
}
