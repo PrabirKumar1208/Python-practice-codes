{
 "cells": [
  {
   "cell_type": "code",
   "execution_count": 8,
   "metadata": {},
   "outputs": [
    {
     "name": "stdout",
     "output_type": "stream",
     "text": [
      "6\n",
      "for x = 1, y = 3\n",
      "for x = 2, y = 6\n",
      "for x = 3, y = 13\n",
      "for x = 4, y = 24\n",
      "for x = 5, y = 39\n"
     ]
    }
   ],
   "source": [
    "## y = ax^2+bx+c; a=2, b=4, c=5\n",
    "## WAF for the above expression \n",
    "\n",
    "def solve(a,b,c):\n",
    "    return lambda x: a*x**2 + b*x + c\n",
    "s=solve(2,-3,4)\n",
    "print(s(2))\n",
    "for each in range(1,6):\n",
    "    print('for x = {}, y = {}'.format(each, s(each)))"
   ]
  },
  {
   "cell_type": "code",
   "execution_count": 33,
   "metadata": {},
   "outputs": [
    {
     "name": "stdout",
     "output_type": "stream",
     "text": [
      "[1, 2, 3, 4, 5, 6, 7, 8, 9, 10, 11, 12, 13, 14, 15, 16, 17, 18, 19, 20]\n"
     ]
    },
    {
     "data": {
      "text/plain": [
       "[2, 4, 6, 8, 10, 12, 14, 16, 18, 20]"
      ]
     },
     "execution_count": 33,
     "metadata": {},
     "output_type": "execute_result"
    }
   ],
   "source": [
    "# filter\n",
    "\n",
    "data = list(range(1,21))\n",
    "print(data)\n",
    "list(filter(lambda x:x%2==0, data))\n",
    "\n"
   ]
  },
  {
   "cell_type": "code",
   "execution_count": 37,
   "metadata": {},
   "outputs": [
    {
     "name": "stdout",
     "output_type": "stream",
     "text": [
      "[1, 2, 3, 4, 5, 6, 7, 8, 9, 10, 11, 12, 13, 14, 15, 16, 17, 18, 19, 20, 21, 22, 23, 24, 25, 26, 27, 28, 29, 30, 31, 32, 33, 34, 35, 36, 37, 38, 39, 40, 41, 42, 43, 44, 45, 46, 47, 48, 49, 50, 51, 52, 53, 54, 55, 56, 57, 58, 59, 60, 61, 62, 63, 64, 65, 66, 67, 68, 69, 70, 71, 72, 73, 74, 75, 76, 77, 78, 79, 80, 81, 82, 83, 84, 85, 86, 87, 88, 89, 90, 91, 92, 93, 94, 95, 96, 97, 98, 99, 100, 101]\n"
     ]
    }
   ],
   "source": [
    "## prime number\n",
    "# data = list(range(1,102))\n",
    "# print(data)\n",
    "# list(filter(lambda x:))"
   ]
  },
  {
   "cell_type": "code",
   "execution_count": 8,
   "metadata": {},
   "outputs": [
    {
     "name": "stdout",
     "output_type": "stream",
     "text": [
      "Enter the number: 33\n",
      "33 is a prime number\n"
     ]
    }
   ],
   "source": [
    "num = int(input('Enter the number: '))\n",
    "if num > 1:\n",
    "    for i in (2,num):\n",
    "        if num%i==0:\n",
    "            print(num, ' is not a prime number')\n",
    "        else:\n",
    "            print(num, 'is a prime number')\n",
    "        break\n",
    "else:\n",
    "    print(num,'is not the correct input')\n",
    "            \n"
   ]
  },
  {
   "cell_type": "code",
   "execution_count": 7,
   "metadata": {},
   "outputs": [
    {
     "name": "stdout",
     "output_type": "stream",
     "text": [
      "Enter the lower limit: 1\n",
      "Enter the upper limit: 22\n",
      "2\n",
      "3\n",
      "5\n",
      "7\n",
      "11\n",
      "13\n",
      "17\n",
      "19\n"
     ]
    }
   ],
   "source": [
    "low = int(input('Enter the lower limit: '))\n",
    "hih = int(input('Enter the upper limit: '))\n",
    "for num in range(low,hih+1):\n",
    "    if num>1:\n",
    "        for i in range(2,num):\n",
    "            if num%i==0:\n",
    "                break\n",
    "        else:\n",
    "            print(num)"
   ]
  },
  {
   "cell_type": "code",
   "execution_count": 6,
   "metadata": {},
   "outputs": [
    {
     "name": "stdout",
     "output_type": "stream",
     "text": [
      "Prime numbers between 1-10: [3, 5, 7, 9, 11, 13]\n"
     ]
    }
   ],
   "source": [
    "def isPrime(x):\n",
    "    for n in range(2,x):\n",
    "        if x%n==0:\n",
    "            return False\n",
    "        else:\n",
    "            return True\n",
    "\n",
    "fltrObj=filter(isPrime, range(15))\n",
    "print ('Prime numbers between 1-10:', list(fltrObj))"
   ]
  },
  {
   "cell_type": "code",
   "execution_count": 5,
   "metadata": {},
   "outputs": [
    {
     "name": "stdout",
     "output_type": "stream",
     "text": [
      "[0, 2, 4, 6, 8]\n"
     ]
    }
   ],
   "source": [
    "fltrObj=filter(lambda x: x%2==0, range(10))\n",
    "print(list(fltrObj))"
   ]
  },
  {
   "cell_type": "code",
   "execution_count": null,
   "metadata": {},
   "outputs": [],
   "source": []
  },
  {
   "cell_type": "code",
   "execution_count": null,
   "metadata": {},
   "outputs": [],
   "source": []
  },
  {
   "cell_type": "code",
   "execution_count": 11,
   "metadata": {},
   "outputs": [
    {
     "name": "stdout",
     "output_type": "stream",
     "text": [
      "prime number between 1 to 33 [3, 5, 7, 9, 11]\n"
     ]
    }
   ],
   "source": [
    "def prime(num):\n",
    "    for i in range(2,num):\n",
    "        if num%i==0:\n",
    "            return False\n",
    "        else:\n",
    "            return True\n",
    "    \n",
    "countprime=filter(prime, range(12))\n",
    "print('prime number between 1 to',num, list(countprime))"
   ]
  },
  {
   "cell_type": "code",
   "execution_count": null,
   "metadata": {},
   "outputs": [],
   "source": [
    "\n"
   ]
  },
  {
   "cell_type": "code",
   "execution_count": null,
   "metadata": {},
   "outputs": [],
   "source": []
  },
  {
   "cell_type": "markdown",
   "metadata": {},
   "source": [
    "# lambda"
   ]
  },
  {
   "cell_type": "code",
   "execution_count": 3,
   "metadata": {},
   "outputs": [
    {
     "name": "stdout",
     "output_type": "stream",
     "text": [
      "5\n"
     ]
    }
   ],
   "source": [
    "a = lambda x:x+1\n",
    "print(a(4))"
   ]
  },
  {
   "cell_type": "code",
   "execution_count": 1,
   "metadata": {},
   "outputs": [
    {
     "name": "stdout",
     "output_type": "stream",
     "text": [
      "25\n"
     ]
    }
   ],
   "source": [
    "a = lambda x,y: (x**2)+(y**2)+(2*x*y)\n",
    "print(a(2,3))"
   ]
  },
  {
   "cell_type": "code",
   "execution_count": 2,
   "metadata": {},
   "outputs": [
    {
     "name": "stdout",
     "output_type": "stream",
     "text": [
      "['a', 'e', 'i']\n"
     ]
    }
   ],
   "source": [
    "alphabets = ['a','b','c','d','e','f','g','h','i','z']\n",
    "\n",
    "def definealpha(alphabets):\n",
    "    vowel = ['a','e','i','o','u']\n",
    "    if (alphabets in vowel):\n",
    "        return True\n",
    "    else:\n",
    "        return False\n",
    "s = filter(definealpha, alphabets)\n",
    "\n",
    "print(list(s))"
   ]
  },
  {
   "cell_type": "code",
   "execution_count": 13,
   "metadata": {},
   "outputs": [
    {
     "name": "stdout",
     "output_type": "stream",
     "text": [
      "['kamal', 'rohit'] not present\n",
      "['kamal', 'rohit'] not present\n",
      "['kamal', 'rohit'] are present\n",
      "['kamal', 'rohit'] are present\n",
      "['kamal', 'rohit'] not present\n",
      "['kamal', 'rohit'] not present\n",
      "['kamal', 'rohit'] not present\n",
      "[]\n"
     ]
    }
   ],
   "source": [
    "str_ = ['rahul','kishore','kamal','rohit','rahul','uday','shamkar']\n",
    "\n",
    "def name(str_):\n",
    "    boy = ['kamal','rohit']\n",
    "    if (str_ in boy):\n",
    "        print(boy,'are present')\n",
    "    else:\n",
    "        print(boy,'not present')\n",
    "filtername = filter(name,str_)\n",
    "print(list(filtername))"
   ]
  },
  {
   "cell_type": "code",
   "execution_count": 22,
   "metadata": {},
   "outputs": [
    {
     "name": "stdout",
     "output_type": "stream",
     "text": [
      "[1, 8, 27, 64, 125, 216, 343, 512, 729, 1000, 1331, 1728, 2197, 2744, 3375, 4096, 4913, 5832, 6859, 8000]\n"
     ]
    }
   ],
   "source": [
    "data = list(range(1,21))\n",
    "sqr = list(map(lambda i:i**3, data))\n",
    "print(list(sqr))"
   ]
  },
  {
   "cell_type": "code",
   "execution_count": 23,
   "metadata": {},
   "outputs": [],
   "source": [
    "from functools import reduce # reduce package"
   ]
  },
  {
   "cell_type": "code",
   "execution_count": 26,
   "metadata": {},
   "outputs": [
    {
     "name": "stdout",
     "output_type": "stream",
     "text": [
      "[1, 2, 3, 4, 5, 6, 7, 8, 9, 10, 11, 12, 13, 14, 15, 16, 17, 18, 19, 20]\n"
     ]
    }
   ],
   "source": [
    "data = list(range(1,21))\n",
    "reduce(lambda x,y:x+y, data)\n",
    "print (list(data))"
   ]
  },
  {
   "cell_type": "markdown",
   "metadata": {},
   "source": [
    "## Print the sum of the array's elements as a single integer."
   ]
  },
  {
   "cell_type": "raw",
   "metadata": {},
   "source": []
  },
  {
   "cell_type": "code",
   "execution_count": 49,
   "metadata": {},
   "outputs": [
    {
     "name": "stdout",
     "output_type": "stream",
     "text": [
      "60\n"
     ]
    }
   ],
   "source": [
    "arr = [1,2,3,4,50]\n",
    "Sum = sum(arr)\n",
    "print(Sum)\n",
    "\n",
    "# def arrsum(arr):\n",
    "#     result = 0\n",
    "#     for i in arrsum:\n",
    "#         result += i\n",
    "#     return result\n",
    "# arr = [1,2,3,4,5]\n",
    "#     print('Summation is {}'.format(result))\n"
   ]
  },
  {
   "cell_type": "code",
   "execution_count": 46,
   "metadata": {},
   "outputs": [
    {
     "name": "stdout",
     "output_type": "stream",
     "text": [
      "sum_1: 150\n"
     ]
    }
   ],
   "source": [
    "def sum_1(arr):\n",
    "    result = 0\n",
    "    for x in arr:\n",
    "        result += x\n",
    "    return result\n",
    "\n",
    "if __name__ == \"__main__\":\n",
    "    arr = [10, 20, 30, 40, 50]\n",
    "    print ('sum_1: {}'.format(sum_1(arr)))"
   ]
  },
  {
   "cell_type": "code",
   "execution_count": 56,
   "metadata": {},
   "outputs": [
    {
     "name": "stdout",
     "output_type": "stream",
     "text": [
      "enter the first number5\n",
      "enter the second number1000000001\n",
      "enter the third number1000000002\n",
      "enter the forth number1000000003\n",
      "enter the fifth number1000000004\n",
      "enter the sixth number1000000005\n",
      "sum is:  5000000020\n"
     ]
    }
   ],
   "source": [
    "a = int(input(\"enter the first number\"))\n",
    "b = int(input(\"enter the second number\"))\n",
    "c = int(input(\"enter the third number\"))\n",
    "d = int(input(\"enter the forth number\"))\n",
    "e = int(input(\"enter the fifth number\"))\n",
    "f = int(input(\"enter the sixth number\"))\n",
    "sum_ = int(a+b+c+d+e+f)\n",
    "\n",
    "print(\"sum is: \",sum_)"
   ]
  },
  {
   "cell_type": "code",
   "execution_count": 62,
   "metadata": {},
   "outputs": [],
   "source": [
    "import sys"
   ]
  },
  {
   "cell_type": "code",
   "execution_count": 70,
   "metadata": {},
   "outputs": [
    {
     "ename": "TypeError",
     "evalue": "int() takes at most 2 arguments (5 given)",
     "output_type": "error",
     "traceback": [
      "\u001b[1;31m---------------------------------------------------------------------------\u001b[0m",
      "\u001b[1;31mTypeError\u001b[0m                                 Traceback (most recent call last)",
      "\u001b[1;32m<ipython-input-70-1717263b191b>\u001b[0m in \u001b[0;36m<module>\u001b[1;34m\u001b[0m\n\u001b[1;32m----> 1\u001b[1;33m \u001b[0mraw_input\u001b[0m \u001b[1;33m=\u001b[0m \u001b[0mint\u001b[0m\u001b[1;33m(\u001b[0m\u001b[1;36m1\u001b[0m\u001b[1;33m,\u001b[0m\u001b[1;36m2\u001b[0m\u001b[1;33m,\u001b[0m\u001b[1;36m3\u001b[0m\u001b[1;33m,\u001b[0m\u001b[1;36m4\u001b[0m\u001b[1;33m,\u001b[0m\u001b[1;36m5\u001b[0m\u001b[1;33m)\u001b[0m\u001b[1;33m\u001b[0m\u001b[1;33m\u001b[0m\u001b[0m\n\u001b[0m\u001b[0;32m      2\u001b[0m \u001b[0mlst\u001b[0m \u001b[1;33m=\u001b[0m \u001b[0mmap\u001b[0m\u001b[1;33m(\u001b[0m\u001b[0mint\u001b[0m\u001b[1;33m,\u001b[0m\u001b[0mraw_input\u001b[0m\u001b[1;33m(\u001b[0m\u001b[1;33m)\u001b[0m\u001b[1;33m,\u001b[0m\u001b[0mstrip\u001b[0m\u001b[1;33m(\u001b[0m\u001b[1;33m)\u001b[0m\u001b[1;33m,\u001b[0m\u001b[0msplit\u001b[0m\u001b[1;33m(\u001b[0m\u001b[1;34m\" \"\u001b[0m\u001b[1;33m)\u001b[0m\u001b[1;33m)\u001b[0m\u001b[1;33m\u001b[0m\u001b[1;33m\u001b[0m\u001b[0m\n\u001b[0;32m      3\u001b[0m \u001b[0mx\u001b[0m \u001b[1;33m=\u001b[0m \u001b[0msum\u001b[0m\u001b[1;33m(\u001b[0m\u001b[0mlst\u001b[0m\u001b[1;33m)\u001b[0m\u001b[1;33m\u001b[0m\u001b[1;33m\u001b[0m\u001b[0m\n\u001b[0;32m      4\u001b[0m \u001b[0mprint\u001b[0m\u001b[1;33m(\u001b[0m\u001b[0mx\u001b[0m\u001b[1;33m-\u001b[0m\u001b[1;33m(\u001b[0m\u001b[0mmax\u001b[0m\u001b[1;33m(\u001b[0m\u001b[0mlst\u001b[0m\u001b[1;33m)\u001b[0m\u001b[1;33m)\u001b[0m\u001b[1;33m)\u001b[0m\u001b[1;33m,\u001b[0m \u001b[1;33m(\u001b[0m\u001b[0mx\u001b[0m\u001b[1;33m-\u001b[0m\u001b[1;33m(\u001b[0m\u001b[0mmin\u001b[0m\u001b[1;33m(\u001b[0m\u001b[0mlst\u001b[0m\u001b[1;33m)\u001b[0m\u001b[1;33m)\u001b[0m\u001b[1;33m)\u001b[0m\u001b[1;33m\u001b[0m\u001b[1;33m\u001b[0m\u001b[0m\n",
      "\u001b[1;31mTypeError\u001b[0m: int() takes at most 2 arguments (5 given)"
     ]
    }
   ],
   "source": [
    "raw_input = int(1,2,3,4,5)\n",
    "lst = map(int,raw_input(),strip(),split(\" \"))\n",
    "x = sum(lst)\n",
    "print(x-(max(lst))), (x-(min(lst)))"
   ]
  },
  {
   "cell_type": "code",
   "execution_count": 80,
   "metadata": {},
   "outputs": [],
   "source": [
    "file = open(file = 'flee.txt', mode='w')\n",
    "file.write(\"this is the first line\")\n",
    "file.close()"
   ]
  },
  {
   "cell_type": "code",
   "execution_count": 84,
   "metadata": {},
   "outputs": [],
   "source": [
    "file = open(file = 'flee.txt', mode='a')\n",
    "file.writelines(\"\\n this is the second line\")\n",
    "file.writelines(\"\\n this is the third line\")\n",
    "file.writelines(\"\\n this is the forthe line\")\n",
    "file.writelines(\"\\n this is the fifth line\")\n",
    "file.writelines(\"\\n this is the sixth line, this is the seventh line, this is the eighth line\")\n",
    "\n",
    "file.close()"
   ]
  },
  {
   "cell_type": "code",
   "execution_count": 89,
   "metadata": {},
   "outputs": [
    {
     "name": "stdout",
     "output_type": "stream",
     "text": [
      "this is the first line\n",
      " this is the second line\n",
      " this is the second line\n",
      " this is the second line\n",
      " this is the second line\n",
      " this is the second line\n",
      " this is the second line\n",
      " this is the third line\n",
      " this is the forthe line\n",
      " this is the fifth line\n",
      " this is the sixth line\n",
      " this is the seventh line\n",
      " this is the eighth line\n",
      " this is the second line\n",
      " this is the third line\n",
      " this is the forthe line\n",
      " this is the fifth line\n",
      " this is the sixth line, this is the seventh line, this is the eighth line\n"
     ]
    },
    {
     "ename": "NameError",
     "evalue": "name 'flie' is not defined",
     "output_type": "error",
     "traceback": [
      "\u001b[1;31m---------------------------------------------------------------------------\u001b[0m",
      "\u001b[1;31mNameError\u001b[0m                                 Traceback (most recent call last)",
      "\u001b[1;32m<ipython-input-89-d1688a5b620e>\u001b[0m in \u001b[0;36m<module>\u001b[1;34m\u001b[0m\n\u001b[0;32m      1\u001b[0m \u001b[0mfile\u001b[0m \u001b[1;33m=\u001b[0m \u001b[0mopen\u001b[0m\u001b[1;33m(\u001b[0m\u001b[0mfile\u001b[0m \u001b[1;33m=\u001b[0m \u001b[1;34m'flee.txt'\u001b[0m\u001b[1;33m,\u001b[0m \u001b[0mmode\u001b[0m\u001b[1;33m=\u001b[0m\u001b[1;34m'r'\u001b[0m\u001b[1;33m)\u001b[0m\u001b[1;33m\u001b[0m\u001b[1;33m\u001b[0m\u001b[0m\n\u001b[0;32m      2\u001b[0m \u001b[0mprint\u001b[0m\u001b[1;33m(\u001b[0m\u001b[0mfile\u001b[0m\u001b[1;33m.\u001b[0m\u001b[0mread\u001b[0m\u001b[1;33m(\u001b[0m\u001b[1;33m)\u001b[0m\u001b[1;33m)\u001b[0m\u001b[1;33m\u001b[0m\u001b[1;33m\u001b[0m\u001b[0m\n\u001b[1;32m----> 3\u001b[1;33m \u001b[0mflie\u001b[0m\u001b[1;33m.\u001b[0m\u001b[0mclose\u001b[0m\u001b[1;33m(\u001b[0m\u001b[1;33m)\u001b[0m\u001b[1;33m\u001b[0m\u001b[1;33m\u001b[0m\u001b[0m\n\u001b[0m",
      "\u001b[1;31mNameError\u001b[0m: name 'flie' is not defined"
     ]
    }
   ],
   "source": [
    "file = open(file = 'flee.txt', mode='r')\n",
    "print(file.read)\n",
    "flie.close()"
   ]
  },
  {
   "cell_type": "code",
   "execution_count": null,
   "metadata": {},
   "outputs": [],
   "source": []
  },
  {
   "cell_type": "code",
   "execution_count": null,
   "metadata": {},
   "outputs": [],
   "source": []
  }
 ],
 "metadata": {
  "kernelspec": {
   "display_name": "Python 3",
   "language": "python",
   "name": "python3"
  },
  "language_info": {
   "codemirror_mode": {
    "name": "ipython",
    "version": 3
   },
   "file_extension": ".py",
   "mimetype": "text/x-python",
   "name": "python",
   "nbconvert_exporter": "python",
   "pygments_lexer": "ipython3",
   "version": "3.7.4"
  }
 },
 "nbformat": 4,
 "nbformat_minor": 2
}
