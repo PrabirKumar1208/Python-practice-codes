{
 "cells": [
  {
   "cell_type": "markdown",
   "metadata": {},
   "source": [
    "## scope of the variable"
   ]
  },
  {
   "cell_type": "code",
   "execution_count": 1,
   "metadata": {},
   "outputs": [
    {
     "name": "stdout",
     "output_type": "stream",
     "text": [
      "Before function call var =  10\n",
      "inside function call var =  15\n",
      "After function call var =  10\n"
     ]
    }
   ],
   "source": [
    "### example OF LOCAL and global variable\n",
    "### function definition\n",
    "\n",
    "def update(var):\n",
    "    '''This fiunction takes an integer argumenta nd updates by 5'''\n",
    "    var = var + 5\n",
    "    print(\"inside function call var = \", var)\n",
    "var = 10\n",
    "print(\"Before function call var = \", var)\n",
    "update(var)\n",
    "print(\"After function call var = \", var)"
   ]
  },
  {
   "cell_type": "code",
   "execution_count": 3,
   "metadata": {},
   "outputs": [
    {
     "name": "stdout",
     "output_type": "stream",
     "text": [
      "Before function call var =  10\n",
      "After function call var =  15\n"
     ]
    }
   ],
   "source": [
    "def update(var):\n",
    "    '''This fiunction takes an integer argumenta nd updates by 5'''\n",
    "    var = var + 5\n",
    "  #  print(\"inside function call var = \", var)\n",
    "    return var\n",
    "var = 10 ## initialising with 10\n",
    "print(\"Before function call var = \", var)\n",
    "var = update(var)\n",
    "print(\"After function call var = \", var)"
   ]
  },
  {
   "cell_type": "code",
   "execution_count": 4,
   "metadata": {},
   "outputs": [],
   "source": [
    "### expamle of a nested function\n"
   ]
  },
  {
   "cell_type": "code",
   "execution_count": 16,
   "metadata": {},
   "outputs": [],
   "source": [
    "##\n",
    "\n",
    "def swap(n1,n2):\n",
    "    t = n1\n",
    "    n1 = n2\n",
    "    n2 = t\n",
    "    return(n1,n2)\n",
    "def addition_(x,y):\n",
    "    ## Call swap function\n",
    "    x,y = swap(n1=x,n2=y)\n",
    "    return(x,y,x+y)"
   ]
  },
  {
   "cell_type": "code",
   "execution_count": 17,
   "metadata": {},
   "outputs": [
    {
     "data": {
      "text/plain": [
       "(6, 7, 13)"
      ]
     },
     "execution_count": 17,
     "metadata": {},
     "output_type": "execute_result"
    }
   ],
   "source": [
    "addition_(7,6)"
   ]
  },
  {
   "cell_type": "code",
   "execution_count": 11,
   "metadata": {},
   "outputs": [],
   "source": [
    "# a,b,c = addition_(7,6)"
   ]
  },
  {
   "cell_type": "markdown",
   "metadata": {},
   "source": [
    "##    \n",
    "### WAF to find the factorial of a number (for, while and recursive function)\n",
    "### WAF to design calculator program using function"
   ]
  },
  {
   "cell_type": "code",
   "execution_count": 4,
   "metadata": {},
   "outputs": [],
   "source": [
    "# factorial of a number\n",
    "\n",
    "def factorial():\n",
    "    n1 = int(input('Enter the number (Integer)'))\n",
    "    fac = i = 1\n",
    "    while (i<=n1):\n",
    "        fac = fac * i\n",
    "        i += 1\n",
    "    print('Factorial of', n1, 'is', fac)\n",
    "    return"
   ]
  },
  {
   "cell_type": "code",
   "execution_count": 5,
   "metadata": {},
   "outputs": [
    {
     "name": "stdout",
     "output_type": "stream",
     "text": [
      "Enter the number (Integer)4\n",
      "Factorial of 4 is 24\n"
     ]
    }
   ],
   "source": [
    "factorial()"
   ]
  },
  {
   "cell_type": "code",
   "execution_count": 15,
   "metadata": {},
   "outputs": [
    {
     "ename": "SyntaxError",
     "evalue": "invalid syntax (<ipython-input-15-ce3b08231189>, line 7)",
     "output_type": "error",
     "traceback": [
      "\u001b[1;36m  File \u001b[1;32m\"<ipython-input-15-ce3b08231189>\"\u001b[1;36m, line \u001b[1;32m7\u001b[0m\n\u001b[1;33m    while i=n:\u001b[0m\n\u001b[1;37m           ^\u001b[0m\n\u001b[1;31mSyntaxError\u001b[0m\u001b[1;31m:\u001b[0m invalid syntax\n"
     ]
    }
   ],
   "source": [
    "def fact_(n):\n",
    "    if (n==1) | (n==0):\n",
    "        return 1\n",
    "    else:\n",
    "        fac = 1\n",
    "        i = 2\n",
    "        while i=n:\n",
    "                fac = fac*i\n",
    "                i+=1\n",
    "                print(fac,i)\n",
    "            return\n",
    "## function call\n",
    "fact_(4)"
   ]
  },
  {
   "cell_type": "markdown",
   "metadata": {},
   "source": [
    "# recursive function"
   ]
  },
  {
   "cell_type": "code",
   "execution_count": 10,
   "metadata": {},
   "outputs": [
    {
     "name": "stdout",
     "output_type": "stream",
     "text": [
      "24\n",
      "1\n",
      "1\n",
      "120\n",
      "720\n"
     ]
    }
   ],
   "source": [
    "## WAF to find factorial of a number\n",
    "\n",
    "def fact_(n):\n",
    "    if (n==1) | (n==0):\n",
    "        return 1\n",
    "    else:\n",
    "        return n*fact_(n-1) # recursive function call\n",
    "    \n",
    "## function call\n",
    "print(fact_(4))\n",
    "print(fact_(0))\n",
    "print(fact_(1))\n",
    "print(fact_(5))\n",
    "print(fact_(6))"
   ]
  },
  {
   "cell_type": "code",
   "execution_count": 8,
   "metadata": {},
   "outputs": [
    {
     "data": {
      "text/plain": [
       "120"
      ]
     },
     "execution_count": 8,
     "metadata": {},
     "output_type": "execute_result"
    }
   ],
   "source": [
    "## recursive function\n",
    "### Factorial\n",
    "\n",
    "def fact_(n):\n",
    "    if (n==1) | (n==0):\n",
    "        return 1\n",
    "    else:\n",
    "        fac = 1\n",
    "        i = 2\n",
    "        while i<=n:\n",
    "                fac = fac*i\n",
    "                i+=1\n",
    "        return fac\n",
    "\n",
    "    \n",
    "## function call\n",
    "fact_(5)"
   ]
  },
  {
   "cell_type": "code",
   "execution_count": null,
   "metadata": {},
   "outputs": [],
   "source": []
  },
  {
   "cell_type": "markdown",
   "metadata": {},
   "source": [
    "## WAF to design calculator program using function"
   ]
  },
  {
   "cell_type": "code",
   "execution_count": 9,
   "metadata": {},
   "outputs": [],
   "source": [
    "def calculator(n1,n2,op):\n",
    "    if op==\"+\":\n",
    "        return n1+n2\n",
    "    elif op=='-':\n",
    "        return n1-n2\n",
    "    elif op=='*':\n",
    "        return n1*n2\n",
    "    elif op=='/':\n",
    "        if n2!=0:\n",
    "            return n1/n2\n",
    "        else:\n",
    "            return -1\n",
    "    else:\n",
    "        return -1\n",
    "    \n",
    "    "
   ]
  },
  {
   "cell_type": "code",
   "execution_count": 13,
   "metadata": {},
   "outputs": [
    {
     "name": "stdout",
     "output_type": "stream",
     "text": [
      "Enter the first number70\n",
      "Enter the second number0\n",
      "Enter the operator/\n",
      "invalid input\n"
     ]
    }
   ],
   "source": [
    "##\n",
    "\n",
    "num1 = int(input('Enter the first number'))\n",
    "num2 = int(input('Enter the second number'))\n",
    "operator = input('Enter the operator')\n",
    "\n",
    "# call calculator functor\n",
    "result = 0\n",
    "result = calculator(num1,num2,operator)\n",
    "if result != -1:\n",
    "    print(\"Result = {}\".format(result))\n",
    "else:\n",
    "    print('invalid input')"
   ]
  },
  {
   "cell_type": "markdown",
   "metadata": {},
   "source": [
    "## Lamda function"
   ]
  },
  {
   "cell_type": "code",
   "execution_count": 27,
   "metadata": {},
   "outputs": [
    {
     "data": {
      "text/plain": [
       "<function __main__.<lambda>(n1, n2)>"
      ]
     },
     "execution_count": 27,
     "metadata": {},
     "output_type": "execute_result"
    }
   ],
   "source": [
    "## suntax:\n",
    "\n",
    "# lambda arguments:<output expression>\n",
    "# example\n",
    "\n",
    "# lambda n:n**2  #square number n\n",
    "# lambda n1,n2:n1*n2 # product of n1 and n2\n"
   ]
  },
  {
   "cell_type": "code",
   "execution_count": 32,
   "metadata": {},
   "outputs": [
    {
     "data": {
      "text/plain": [
       "6"
      ]
     },
     "execution_count": 32,
     "metadata": {},
     "output_type": "execute_result"
    }
   ],
   "source": [
    "s = lambda n1,n2:n1*n2 # product of n1 and n2\n",
    "s(2,3)"
   ]
  },
  {
   "cell_type": "code",
   "execution_count": 33,
   "metadata": {},
   "outputs": [],
   "source": [
    "## y = ax^2+bx+c; a=2, b=4, c=5\n",
    "## WAF for the above expression \n",
    "\n",
    "def solve(a,b,c):\n",
    "    return lambda x: a*(x**2) + b*x + c"
   ]
  },
  {
   "cell_type": "code",
   "execution_count": 38,
   "metadata": {},
   "outputs": [
    {
     "name": "stdout",
     "output_type": "stream",
     "text": [
      "21\n",
      "when x = 1, expression value is 11\n",
      "when x = 2, expression value is 21\n",
      "when x = 3, expression value is 35\n",
      "when x = 4, expression value is 53\n",
      "when x = 5, expression value is 75\n"
     ]
    }
   ],
   "source": [
    "s = solve(2,4,5)\n",
    "print(s(2))\n",
    "\n",
    "for x in range(1,6):\n",
    "    print(\"when x = {}, expression value is {}\".format(x, s(x)))"
   ]
  },
  {
   "cell_type": "code",
   "execution_count": 40,
   "metadata": {},
   "outputs": [
    {
     "name": "stdout",
     "output_type": "stream",
     "text": [
      "when x = 1, expression value is -4\n",
      "when x = 2, expression value is -2\n",
      "when x = 3, expression value is 4\n",
      "when x = 4, expression value is 14\n",
      "when x = 5, expression value is 28\n"
     ]
    }
   ],
   "source": [
    "s = solve(2,-4,-2)\n",
    "# print(s(2))\n",
    "\n",
    "for x in range(1,6):\n",
    "    print(\"when x = {}, expression value is {}\".format(x, s(x)))"
   ]
  },
  {
   "cell_type": "markdown",
   "metadata": {},
   "source": [
    "# filter, map, reduce"
   ]
  },
  {
   "cell_type": "code",
   "execution_count": 44,
   "metadata": {},
   "outputs": [
    {
     "name": "stdout",
     "output_type": "stream",
     "text": [
      "[1, 2, 3, 4, 5, 6, 7, 8, 9, 10, 11, 12, 13, 14, 15, 16, 17, 18, 19]\n"
     ]
    },
    {
     "data": {
      "text/plain": [
       "[2, 4, 6, 8, 10, 12, 14, 16, 18]"
      ]
     },
     "execution_count": 44,
     "metadata": {},
     "output_type": "execute_result"
    }
   ],
   "source": [
    "## filter(function, iterables)\n",
    "\n",
    "data = list(range(1,20))\n",
    "print(data)\n",
    "list(filter(lambda x:x%2==0,data))"
   ]
  },
  {
   "cell_type": "code",
   "execution_count": 16,
   "metadata": {},
   "outputs": [
    {
     "name": "stdout",
     "output_type": "stream",
     "text": [
      "[1, 2, 3, 4, 5, 6, 7, 8, 9, 10, 11, 12, 13, 14, 15, 16, 17, 18, 19, 20]\n",
      "[1, 3, 5, 7, 9, 11, 13, 15, 17, 19]\n"
     ]
    }
   ],
   "source": [
    "data = list(range(1,21))\n",
    "print(data)\n",
    "print(list(filter(lambda x:x%2!=0, data)))"
   ]
  },
  {
   "cell_type": "code",
   "execution_count": 20,
   "metadata": {},
   "outputs": [
    {
     "name": "stdout",
     "output_type": "stream",
     "text": [
      "prime number between 1 to  [3, 5, 7, 9]\n"
     ]
    }
   ],
   "source": [
    "def prime(num):\n",
    "    for i in range(2,num+1):\n",
    "        if num%i==0:\n",
    "            return False\n",
    "        else:\n",
    "            return True\n",
    "    \n",
    "countprime=filter(prime, range(11))\n",
    "print('prime number between 1 to ', list(countprime))"
   ]
  },
  {
   "cell_type": "code",
   "execution_count": null,
   "metadata": {},
   "outputs": [],
   "source": []
  },
  {
   "cell_type": "markdown",
   "metadata": {},
   "source": [
    "## map"
   ]
  },
  {
   "cell_type": "code",
   "execution_count": 80,
   "metadata": {},
   "outputs": [
    {
     "name": "stdout",
     "output_type": "stream",
     "text": [
      "[1, 4, 9, 16, 25, 36, 49, 64, 81, 100, 121, 144, 169, 196, 225, 256, 289, 324, 361, 400]\n"
     ]
    }
   ],
   "source": [
    "\n",
    "### map (fuunction, iterables) - transformation operation\n",
    "data = list(range(1,21))\n",
    "print(list(map(lambda x:x**2, data)))"
   ]
  },
  {
   "cell_type": "code",
   "execution_count": 64,
   "metadata": {},
   "outputs": [],
   "source": [
    "list_ = ['female','male','female','male','female','male','female','male','female','male','female','female','female','female']\n",
    "# male = 0\n",
    "# female = 1"
   ]
  },
  {
   "cell_type": "code",
   "execution_count": 65,
   "metadata": {},
   "outputs": [
    {
     "data": {
      "text/plain": [
       "0     1\n",
       "1     0\n",
       "2     1\n",
       "3     0\n",
       "4     1\n",
       "5     0\n",
       "6     1\n",
       "7     0\n",
       "8     1\n",
       "9     0\n",
       "10    1\n",
       "11    1\n",
       "12    1\n",
       "13    1\n",
       "dtype: int64"
      ]
     },
     "execution_count": 65,
     "metadata": {},
     "output_type": "execute_result"
    }
   ],
   "source": [
    "import pandas as pd\n",
    "pd.Series(list_).map({'male':0,'female':1})"
   ]
  },
  {
   "cell_type": "code",
   "execution_count": 66,
   "metadata": {},
   "outputs": [
    {
     "data": {
      "text/plain": [
       "[1, 0, 1, 0, 1, 0, 1, 0, 1, 0, 1, 1, 1, 1]"
      ]
     },
     "execution_count": 66,
     "metadata": {},
     "output_type": "execute_result"
    }
   ],
   "source": [
    "list(map(lambda x: 1 if x=='female' else 0, list_))"
   ]
  },
  {
   "cell_type": "code",
   "execution_count": 68,
   "metadata": {},
   "outputs": [
    {
     "name": "stdout",
     "output_type": "stream",
     "text": [
      "1\n",
      "0\n",
      "1\n",
      "0\n",
      "1\n",
      "0\n",
      "1\n",
      "0\n",
      "1\n",
      "0\n",
      "1\n",
      "1\n",
      "1\n",
      "1\n"
     ]
    }
   ],
   "source": [
    "list_ = ['female','male','female','male','female','male','female','male','female','male','female','female','female','female']\n",
    "# male = 0\n",
    "# female = 1\n",
    "\n",
    "for each in list_:\n",
    "    if each=='female':\n",
    "        print('1')\n",
    "    else:\n",
    "        print('0')"
   ]
  },
  {
   "cell_type": "code",
   "execution_count": 70,
   "metadata": {},
   "outputs": [
    {
     "ename": "NameError",
     "evalue": "name 'l_append' is not defined",
     "output_type": "error",
     "traceback": [
      "\u001b[1;31m---------------------------------------------------------------------------\u001b[0m",
      "\u001b[1;31mNameError\u001b[0m                                 Traceback (most recent call last)",
      "\u001b[1;32m<ipython-input-70-2832f59f18b8>\u001b[0m in \u001b[0;36m<module>\u001b[1;34m\u001b[0m\n\u001b[0;32m      8\u001b[0m         \u001b[0ml_\u001b[0m\u001b[1;33m.\u001b[0m\u001b[0mappend\u001b[0m\u001b[1;33m(\u001b[0m\u001b[1;36m1\u001b[0m\u001b[1;33m)\u001b[0m\u001b[1;33m\u001b[0m\u001b[1;33m\u001b[0m\u001b[0m\n\u001b[0;32m      9\u001b[0m     \u001b[1;32melse\u001b[0m\u001b[1;33m:\u001b[0m\u001b[1;33m\u001b[0m\u001b[1;33m\u001b[0m\u001b[0m\n\u001b[1;32m---> 10\u001b[1;33m         \u001b[0ml_append\u001b[0m\u001b[1;33m(\u001b[0m\u001b[1;36m0\u001b[0m\u001b[1;33m)\u001b[0m\u001b[1;33m\u001b[0m\u001b[1;33m\u001b[0m\u001b[0m\n\u001b[0m\u001b[0;32m     11\u001b[0m \u001b[0ml_\u001b[0m\u001b[1;33m\u001b[0m\u001b[1;33m\u001b[0m\u001b[0m\n",
      "\u001b[1;31mNameError\u001b[0m: name 'l_append' is not defined"
     ]
    }
   ],
   "source": [
    "list_ = ['female','male','female','male','female','male','female','male','female','male','female','female','female','female']\n",
    "# male = 0\n",
    "# female = 1\n",
    "\n",
    "l_ = []\n",
    "for each in list_:\n",
    "    if each=='female':\n",
    "        l_.append(1)\n",
    "    else:\n",
    "        l_append(0)\n",
    "l_"
   ]
  },
  {
   "cell_type": "code",
   "execution_count": 72,
   "metadata": {},
   "outputs": [],
   "source": [
    "## syntax: reduce(function,iterable)\n",
    "\n",
    "from functools import reduce # reduce package\n",
    "\n",
    "data =list(range(1,21)) ## list\n",
    "reduce(lambda x,y:x+y, data) ## two arguments required"
   ]
  },
  {
   "cell_type": "code",
   "execution_count": 78,
   "metadata": {},
   "outputs": [
    {
     "data": {
      "text/plain": [
       "[1, 2, 3, 4, 5, 6, 7, 8, 9, 10, 11, 12, 13, 14, 15, 16, 17, 18, 19, 20]"
      ]
     },
     "execution_count": 78,
     "metadata": {},
     "output_type": "execute_result"
    }
   ],
   "source": [
    "data"
   ]
  },
  {
   "cell_type": "code",
   "execution_count": 79,
   "metadata": {},
   "outputs": [],
   "source": [
    "# s = 0\n",
    "# for e in data:\n",
    "#     s = s+e\n",
    "# s"
   ]
  },
  {
   "cell_type": "code",
   "execution_count": null,
   "metadata": {},
   "outputs": [],
   "source": []
  },
  {
   "cell_type": "code",
   "execution_count": null,
   "metadata": {},
   "outputs": [],
   "source": []
  },
  {
   "cell_type": "code",
   "execution_count": null,
   "metadata": {},
   "outputs": [],
   "source": []
  },
  {
   "cell_type": "code",
   "execution_count": null,
   "metadata": {},
   "outputs": [],
   "source": []
  },
  {
   "cell_type": "code",
   "execution_count": null,
   "metadata": {},
   "outputs": [],
   "source": []
  },
  {
   "cell_type": "code",
   "execution_count": null,
   "metadata": {},
   "outputs": [],
   "source": []
  }
 ],
 "metadata": {
  "kernelspec": {
   "display_name": "Python 3",
   "language": "python",
   "name": "python3"
  },
  "language_info": {
   "codemirror_mode": {
    "name": "ipython",
    "version": 3
   },
   "file_extension": ".py",
   "mimetype": "text/x-python",
   "name": "python",
   "nbconvert_exporter": "python",
   "pygments_lexer": "ipython3",
   "version": "3.7.4"
  }
 },
 "nbformat": 4,
 "nbformat_minor": 2
}
