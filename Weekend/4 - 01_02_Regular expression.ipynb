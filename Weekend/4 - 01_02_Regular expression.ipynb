{
 "cells": [
  {
   "cell_type": "markdown",
   "metadata": {},
   "source": [
    "# Regular Expression"
   ]
  },
  {
   "cell_type": "code",
   "execution_count": 1,
   "metadata": {},
   "outputs": [],
   "source": [
    "import re"
   ]
  },
  {
   "cell_type": "code",
   "execution_count": 8,
   "metadata": {},
   "outputs": [],
   "source": [
    "s= \"This is LearnBay class8\""
   ]
  },
  {
   "cell_type": "code",
   "execution_count": 4,
   "metadata": {},
   "outputs": [
    {
     "name": "stdout",
     "output_type": "stream",
     "text": [
      "None\n"
     ]
    }
   ],
   "source": [
    "mObj = re.match(\"LearnBay\",s)  # match is search only at the begning\n",
    "print(mObj)\n",
    "if mObj:\n",
    "    print(mObj.group())\n",
    "#     print(mObj.groups(1))\n",
    "#     print(mObj.groups())"
   ]
  },
  {
   "cell_type": "code",
   "execution_count": 5,
   "metadata": {},
   "outputs": [
    {
     "name": "stdout",
     "output_type": "stream",
     "text": [
      "<re.Match object; span=(0, 7), match='This is'>\n",
      "This is\n"
     ]
    }
   ],
   "source": [
    "mObj = re.match(\"This is\",s)\n",
    "print(mObj)\n",
    "if mObj:\n",
    "    print(mObj.group())\n",
    "#     print(mObj.groups(1))\n",
    "#     print(mObj.groups())"
   ]
  },
  {
   "cell_type": "code",
   "execution_count": 12,
   "metadata": {},
   "outputs": [
    {
     "name": "stdout",
     "output_type": "stream",
     "text": [
      "<re.Match object; span=(0, 7), match='This is'>\n",
      "This is\n",
      "This\n",
      "is\n",
      "('This', 'is')\n",
      "(0, 7)\n"
     ]
    }
   ],
   "source": [
    "mObj = re.match(\"(This) (is)\",s)\n",
    "print(mObj)\n",
    "if mObj:\n",
    "    print(mObj.group())\n",
    "    print(mObj.group(1))\n",
    "    print(mObj.group(2))\n",
    "    print(mObj.groups())\n",
    "    print(mObj.span())"
   ]
  },
  {
   "cell_type": "markdown",
   "metadata": {},
   "source": [
    "## Search"
   ]
  },
  {
   "cell_type": "code",
   "execution_count": 15,
   "metadata": {},
   "outputs": [
    {
     "name": "stdout",
     "output_type": "stream",
     "text": [
      "<re.Match object; span=(8, 16), match='LearnBay'>\n",
      "LearnBay\n"
     ]
    }
   ],
   "source": [
    "sObj = re.search(\"LearnBay\",s)  # search will search any where in the file\n",
    "print(sObj)\n",
    "if sObj:\n",
    "    print(sObj.group())\n",
    "#     print(mObj.groups(1))\n",
    "#     print(mObj.groups())"
   ]
  },
  {
   "cell_type": "code",
   "execution_count": 18,
   "metadata": {},
   "outputs": [
    {
     "name": "stdout",
     "output_type": "stream",
     "text": [
      "None\n"
     ]
    }
   ],
   "source": [
    "sObj = re.search(\"Learnbay\",s)  # patterns are case sensitive \"None\"\n",
    "print(sObj)\n",
    "if sObj:\n",
    "    print(sObj.group())\n",
    "#     print(mObj.groups(1))\n",
    "#     print(mObj.groups())"
   ]
  },
  {
   "cell_type": "markdown",
   "metadata": {},
   "source": [
    "### Using flags"
   ]
  },
  {
   "cell_type": "code",
   "execution_count": 17,
   "metadata": {},
   "outputs": [],
   "source": [
    "s= \"This is LearnBay class8\""
   ]
  },
  {
   "cell_type": "code",
   "execution_count": 22,
   "metadata": {},
   "outputs": [
    {
     "name": "stdout",
     "output_type": "stream",
     "text": [
      "<re.Match object; span=(8, 16), match='LearnBay'>\n",
      "LearnBay\n"
     ]
    }
   ],
   "source": [
    "sObj = re.search(\"LeaRNbay\",s,re.I)  # patterns are case sensitive \"None\"\n",
    "print(sObj)\n",
    "if sObj:\n",
    "    print(sObj.group())\n",
    "#     print(mObj.groups(1))\n",
    "#     print(mObj.groups())"
   ]
  },
  {
   "cell_type": "code",
   "execution_count": 26,
   "metadata": {},
   "outputs": [],
   "source": [
    "s= \"This is LearpBay class8\""
   ]
  },
  {
   "cell_type": "code",
   "execution_count": 27,
   "metadata": {},
   "outputs": [
    {
     "name": "stdout",
     "output_type": "stream",
     "text": [
      "LearpBay\n"
     ]
    }
   ],
   "source": [
    "sObj = re.search(\"Lear.bay\",s,re.I|re.S)  # patterns are case sensitive \"None\"\n",
    "if sObj:\n",
    "    print(sObj.group())\n",
    "#     print(mObj.groups(1))\n",
    "#     print(mObj.groups())"
   ]
  },
  {
   "cell_type": "markdown",
   "metadata": {},
   "source": [
    "#### using \\n"
   ]
  },
  {
   "cell_type": "code",
   "execution_count": 28,
   "metadata": {},
   "outputs": [],
   "source": [
    "s= \"This is Lear\\nBay class8\""
   ]
  },
  {
   "cell_type": "code",
   "execution_count": 29,
   "metadata": {},
   "outputs": [
    {
     "name": "stdout",
     "output_type": "stream",
     "text": [
      "Lear\n",
      "Bay\n"
     ]
    }
   ],
   "source": [
    "sObj = re.search(\"Lear.bay\",s,re.I|re.S)  # patterns are case sensitive \"None\"\n",
    "if sObj:\n",
    "    print(sObj.group())"
   ]
  },
  {
   "cell_type": "markdown",
   "metadata": {},
   "source": [
    "##### Findall"
   ]
  },
  {
   "cell_type": "code",
   "execution_count": null,
   "metadata": {},
   "outputs": [],
   "source": [
    "s= \"This is LearnBay LEArnBay learnBay LearnBAY LearnBAy class8\""
   ]
  },
  {
   "cell_type": "code",
   "execution_count": 42,
   "metadata": {},
   "outputs": [
    {
     "ename": "TypeError",
     "evalue": "findall() missing 1 required positional argument: 'string'",
     "output_type": "error",
     "traceback": [
      "\u001b[1;31m---------------------------------------------------------------------------\u001b[0m",
      "\u001b[1;31mTypeError\u001b[0m                                 Traceback (most recent call last)",
      "\u001b[1;32m<ipython-input-42-46a6abfb19a8>\u001b[0m in \u001b[0;36m<module>\u001b[1;34m\u001b[0m\n\u001b[1;32m----> 1\u001b[1;33m \u001b[0mfndal\u001b[0m \u001b[1;33m=\u001b[0m \u001b[0mre\u001b[0m\u001b[1;33m.\u001b[0m\u001b[0mfindall\u001b[0m\u001b[1;33m(\u001b[0m\u001b[1;34m\"Learnbay\"\u001b[0m\u001b[1;33m)\u001b[0m\u001b[1;33m\u001b[0m\u001b[1;33m\u001b[0m\u001b[0m\n\u001b[0m\u001b[0;32m      2\u001b[0m \u001b[1;32mif\u001b[0m \u001b[0mfndal\u001b[0m\u001b[1;33m:\u001b[0m\u001b[1;33m\u001b[0m\u001b[1;33m\u001b[0m\u001b[0m\n\u001b[0;32m      3\u001b[0m     \u001b[0mprint\u001b[0m\u001b[1;33m(\u001b[0m\u001b[0mfndal\u001b[0m\u001b[1;33m)\u001b[0m\u001b[1;33m\u001b[0m\u001b[1;33m\u001b[0m\u001b[0m\n",
      "\u001b[1;31mTypeError\u001b[0m: findall() missing 1 required positional argument: 'string'"
     ]
    }
   ],
   "source": [
    "fndal = re.findall(\"Learnbay\")\n",
    "if fndal:\n",
    "    print(fndal)"
   ]
  },
  {
   "cell_type": "markdown",
   "metadata": {},
   "source": [
    "### substitute"
   ]
  },
  {
   "cell_type": "code",
   "execution_count": 39,
   "metadata": {},
   "outputs": [],
   "source": [
    "s= \"This is LearnBay LEArnBay learnBay LearnBAY LearnBAy class8\""
   ]
  },
  {
   "cell_type": "code",
   "execution_count": 40,
   "metadata": {},
   "outputs": [
    {
     "data": {
      "text/plain": [
       "'This is LB LB LB LB LB class8'"
      ]
     },
     "execution_count": 40,
     "metadata": {},
     "output_type": "execute_result"
    }
   ],
   "source": [
    "re.sub(\"learnbay\",\"LB\",s,flags=re.I)"
   ]
  },
  {
   "cell_type": "code",
   "execution_count": 41,
   "metadata": {},
   "outputs": [
    {
     "data": {
      "text/plain": [
       "'This is LB LB LB LearnBAY LearnBAy class8'"
      ]
     },
     "execution_count": 41,
     "metadata": {},
     "output_type": "execute_result"
    }
   ],
   "source": [
    "s= \"This is LearnBay LEArnBay learnBay LearnBAY LearnBAy class8\"\n",
    "re.sub(\"learnbay\",\"LB\",s,count=3,flags=re.I)"
   ]
  },
  {
   "cell_type": "markdown",
   "metadata": {},
   "source": [
    "## Using all other pattern description"
   ]
  },
  {
   "cell_type": "code",
   "execution_count": 49,
   "metadata": {},
   "outputs": [],
   "source": [
    "s  = \"123asdaljdKJKLKlk12j3123i1209KKK09*&&*@#&*^&\""
   ]
  },
  {
   "cell_type": "code",
   "execution_count": 50,
   "metadata": {},
   "outputs": [
    {
     "name": "stdout",
     "output_type": "stream",
     "text": [
      "a\n"
     ]
    }
   ],
   "source": [
    "sObj = re.search(\"[aA-zZ]\",s)\n",
    "if sObj:\n",
    "    print(sObj.group())"
   ]
  },
  {
   "cell_type": "code",
   "execution_count": 53,
   "metadata": {},
   "outputs": [
    {
     "name": "stdout",
     "output_type": "stream",
     "text": [
      "asdaljdKJKLKlk\n"
     ]
    }
   ],
   "source": [
    "sObj = re.search(\"[aA-zZ]+\",s)\n",
    "if sObj:\n",
    "    print(sObj.group())"
   ]
  },
  {
   "cell_type": "code",
   "execution_count": 77,
   "metadata": {},
   "outputs": [],
   "source": [
    "s  = \"asdaljdKJKLKlk1231231209KKK09*&&*@#&*^&JKHJKHjkhjhui6678676JKH988\""
   ]
  },
  {
   "cell_type": "code",
   "execution_count": 71,
   "metadata": {},
   "outputs": [
    {
     "name": "stdout",
     "output_type": "stream",
     "text": [
      "1\n"
     ]
    }
   ],
   "source": [
    "sObj = re.search(\"[0-9]\",s)\n",
    "if sObj:\n",
    "    print(sObj.group())"
   ]
  },
  {
   "cell_type": "code",
   "execution_count": 72,
   "metadata": {},
   "outputs": [
    {
     "name": "stdout",
     "output_type": "stream",
     "text": [
      "1231231209\n"
     ]
    }
   ],
   "source": [
    "sObj = re.search(\"[0-9]+\",s)\n",
    "if sObj:\n",
    "    print(sObj.group())"
   ]
  },
  {
   "cell_type": "code",
   "execution_count": 73,
   "metadata": {},
   "outputs": [
    {
     "name": "stdout",
     "output_type": "stream",
     "text": [
      "asdaljdKJKLKlk1231231209KKK09\n"
     ]
    }
   ],
   "source": [
    "sObj = re.search(\"\\w+\",s)\n",
    "if sObj:\n",
    "    print(sObj.group())"
   ]
  },
  {
   "cell_type": "code",
   "execution_count": 74,
   "metadata": {},
   "outputs": [
    {
     "name": "stdout",
     "output_type": "stream",
     "text": [
      "*&&*@#&*^&\n"
     ]
    }
   ],
   "source": [
    "sObj = re.search(\"\\W+\",s)\n",
    "if sObj:\n",
    "    print(sObj.group())"
   ]
  },
  {
   "cell_type": "code",
   "execution_count": 78,
   "metadata": {},
   "outputs": [
    {
     "data": {
      "text/plain": [
       "'asdaljdKJKLKlk1231231209KKK09*&&*@#&*^&JKHJKHjkhjhui6678676JKH988'"
      ]
     },
     "execution_count": 78,
     "metadata": {},
     "output_type": "execute_result"
    }
   ],
   "source": [
    "s"
   ]
  },
  {
   "cell_type": "code",
   "execution_count": 80,
   "metadata": {},
   "outputs": [
    {
     "name": "stdout",
     "output_type": "stream",
     "text": [
      "KKK09*&&*@#&*^&\n",
      "('KKK', '09', '*&&*@#&*^&')\n"
     ]
    }
   ],
   "source": [
    "sObj = re.search(\"([aA-zZ]+)(\\d+)(\\W+)\",s)\n",
    "if sObj:\n",
    "    print(sObj.group())\n",
    "    print(sObj.groups())"
   ]
  },
  {
   "cell_type": "code",
   "execution_count": 81,
   "metadata": {},
   "outputs": [
    {
     "name": "stdout",
     "output_type": "stream",
     "text": [
      "KKK09*&&*@#&*^&\n",
      "*&&*@#&*^&\n"
     ]
    }
   ],
   "source": [
    "sObj = re.search(\"([aA-zZ]+)(\\d+)(\\W+)\",s)\n",
    "if sObj:\n",
    "    print(sObj.group())\n",
    "    print(sObj.groups()[2])"
   ]
  },
  {
   "cell_type": "code",
   "execution_count": 84,
   "metadata": {},
   "outputs": [
    {
     "name": "stdout",
     "output_type": "stream",
     "text": [
      "asdaljdKJKLKlk1231231209\n",
      "('asdaljdKJKLKlk', '1231231209', None)\n"
     ]
    }
   ],
   "source": [
    "sObj = re.search(\"([aA-zZ]+)(\\d+)(\\W+)?\",s)\n",
    "if sObj:\n",
    "    print(sObj.group())\n",
    "    print(sObj.groups())"
   ]
  },
  {
   "cell_type": "code",
   "execution_count": 94,
   "metadata": {},
   "outputs": [
    {
     "name": "stdout",
     "output_type": "stream",
     "text": [
      "111\n"
     ]
    }
   ],
   "source": [
    "s = \"1112221\"\n",
    "sObj = re.search(\"1*\",s)\n",
    "if sObj:\n",
    "    print(sObj.group())\n",
    "#     print(sObj.groups())"
   ]
  },
  {
   "cell_type": "code",
   "execution_count": null,
   "metadata": {},
   "outputs": [],
   "source": []
  },
  {
   "cell_type": "code",
   "execution_count": 95,
   "metadata": {},
   "outputs": [],
   "source": [
    "s = \"1111111112222222224444444\""
   ]
  },
  {
   "cell_type": "code",
   "execution_count": 98,
   "metadata": {},
   "outputs": [
    {
     "name": "stdout",
     "output_type": "stream",
     "text": [
      "1111\n"
     ]
    }
   ],
   "source": [
    "sObj = re.search(\"1{4}\",s)\n",
    "if sObj:\n",
    "    print(sObj.group())"
   ]
  },
  {
   "cell_type": "code",
   "execution_count": 99,
   "metadata": {},
   "outputs": [
    {
     "name": "stdout",
     "output_type": "stream",
     "text": [
      "111111111\n"
     ]
    }
   ],
   "source": [
    "sObj = re.search(\"1{2,}\",s)\n",
    "if sObj:\n",
    "    print(sObj.group())"
   ]
  },
  {
   "cell_type": "code",
   "execution_count": 108,
   "metadata": {},
   "outputs": [
    {
     "name": "stdout",
     "output_type": "stream",
     "text": [
      "111\n"
     ]
    }
   ],
   "source": [
    "sObj = re.search(\"1{2,4}\",s)\n",
    "if sObj:\n",
    "    print(sObj.group())"
   ]
  },
  {
   "cell_type": "markdown",
   "metadata": {},
   "source": [
    "### back-referenecing"
   ]
  },
  {
   "cell_type": "code",
   "execution_count": 115,
   "metadata": {},
   "outputs": [],
   "source": [
    "s = \"111 111 111 111 222 222 111 222 444 444\""
   ]
  },
  {
   "cell_type": "code",
   "execution_count": 118,
   "metadata": {},
   "outputs": [
    {
     "name": "stdout",
     "output_type": "stream",
     "text": [
      "111 111 111 \n"
     ]
    }
   ],
   "source": [
    "sObj = re.search(\"(111 )(\\\\1)(\\\\2)\",s)\n",
    "if sObj:\n",
    "    print(sObj.group())"
   ]
  },
  {
   "cell_type": "code",
   "execution_count": null,
   "metadata": {},
   "outputs": [],
   "source": []
  },
  {
   "cell_type": "code",
   "execution_count": null,
   "metadata": {},
   "outputs": [],
   "source": [
    "^(1|2)[0-9][0-9][0-9]  # for 1900-2020"
   ]
  },
  {
   "cell_type": "code",
   "execution_count": null,
   "metadata": {},
   "outputs": [],
   "source": [
    "[aA-zZ]{8} # for searching exactly 8 word"
   ]
  },
  {
   "cell_type": "code",
   "execution_count": null,
   "metadata": {},
   "outputs": [],
   "source": []
  },
  {
   "cell_type": "code",
   "execution_count": null,
   "metadata": {},
   "outputs": [],
   "source": []
  },
  {
   "cell_type": "code",
   "execution_count": null,
   "metadata": {},
   "outputs": [],
   "source": []
  },
  {
   "cell_type": "code",
   "execution_count": null,
   "metadata": {},
   "outputs": [],
   "source": []
  },
  {
   "cell_type": "code",
   "execution_count": null,
   "metadata": {},
   "outputs": [],
   "source": []
  },
  {
   "cell_type": "code",
   "execution_count": null,
   "metadata": {},
   "outputs": [],
   "source": []
  },
  {
   "cell_type": "code",
   "execution_count": null,
   "metadata": {},
   "outputs": [],
   "source": []
  }
 ],
 "metadata": {
  "kernelspec": {
   "display_name": "Python 3",
   "language": "python",
   "name": "python3"
  },
  "language_info": {
   "codemirror_mode": {
    "name": "ipython",
    "version": 3
   },
   "file_extension": ".py",
   "mimetype": "text/x-python",
   "name": "python",
   "nbconvert_exporter": "python",
   "pygments_lexer": "ipython3",
   "version": "3.7.4"
  }
 },
 "nbformat": 4,
 "nbformat_minor": 2
}
