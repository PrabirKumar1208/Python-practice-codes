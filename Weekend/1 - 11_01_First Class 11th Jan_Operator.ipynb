{
 "cells": [
  {
   "cell_type": "code",
   "execution_count": null,
   "metadata": {},
   "outputs": [],
   "source": [
    "# script language is interpreter laguage, executed line by line, python, pearl,R, TCL\n",
    "# prog. language is compiler language, background file are created. C, C++, jAVA\n",
    "# Deep learning, new features are developed by big company.\n",
    "# learning tuning for M_L.\n",
    "# "
   ]
  },
  {
   "cell_type": "markdown",
   "metadata": {},
   "source": [
    "# Operators"
   ]
  },
  {
   "cell_type": "code",
   "execution_count": 6,
   "metadata": {},
   "outputs": [
    {
     "name": "stdout",
     "output_type": "stream",
     "text": [
      "13\n",
      "7\n",
      "30\n",
      "1000\n",
      "3.3333333333333335\n",
      "3\n",
      "1\n"
     ]
    }
   ],
   "source": [
    "a = 10\n",
    "b = 3\n",
    "print(a+b)\n",
    "print(a-b)\n",
    "print(a*b)\n",
    "print(a**b) # used for power\n",
    "print(a/b)\n",
    "print(a//b) #Floor division\n",
    "print(a%b) # modulo (%) operation finds the reminser after division of one numbey by another\n",
    "# var con not start with number\n",
    "# var can not have special char"
   ]
  },
  {
   "cell_type": "markdown",
   "metadata": {},
   "source": [
    "# Comparision operator\n",
    "## Boolean (0,1)"
   ]
  },
  {
   "cell_type": "code",
   "execution_count": 11,
   "metadata": {},
   "outputs": [
    {
     "name": "stdout",
     "output_type": "stream",
     "text": [
      "False\n",
      "True\n",
      "False\n",
      "140735841542608\n",
      "True\n",
      "False\n"
     ]
    }
   ],
   "source": [
    "a = 2\n",
    "b = 3\n",
    "print (a==b) # To compare value\n",
    "print (a!=b)\n",
    "print (a is b) # 'is' is the key word to compare memory location of a and b (important)\n",
    "# to get memory location of a variable in python\n",
    "print (id(b))\n",
    "print (a is not b) \n",
    "print (a>=b)"
   ]
  },
  {
   "cell_type": "code",
   "execution_count": 13,
   "metadata": {},
   "outputs": [
    {
     "name": "stdout",
     "output_type": "stream",
     "text": [
      "True\n",
      "True\n",
      "140735841542576\n",
      "140735841542576\n"
     ]
    }
   ],
   "source": [
    "# Assignment, below condition is not true for all the numbers, findout @ home\n",
    "a = 2\n",
    "b = 2\n",
    "print (a==b) # To compare value\n",
    "print (a is b)\n",
    "print (id(a))\n",
    "print (id(b))"
   ]
  },
  {
   "cell_type": "markdown",
   "metadata": {},
   "source": [
    "# Logical Operators"
   ]
  },
  {
   "cell_type": "code",
   "execution_count": 14,
   "metadata": {},
   "outputs": [],
   "source": [
    "# AND , it will keep looking untill one '0' value  and last true value will be the final output\n",
    "# OR, First non zero will be the output"
   ]
  },
  {
   "cell_type": "code",
   "execution_count": 15,
   "metadata": {},
   "outputs": [
    {
     "name": "stdout",
     "output_type": "stream",
     "text": [
      "20\n"
     ]
    }
   ],
   "source": [
    "a = 13\n",
    "b = 10\n",
    "c = 20\n",
    "print (a and b and c)"
   ]
  },
  {
   "cell_type": "code",
   "execution_count": 16,
   "metadata": {},
   "outputs": [
    {
     "name": "stdout",
     "output_type": "stream",
     "text": [
      "0\n"
     ]
    }
   ],
   "source": [
    "a = 13\n",
    "b = 0\n",
    "c = 20\n",
    "print (a and b and c)"
   ]
  },
  {
   "cell_type": "code",
   "execution_count": 17,
   "metadata": {},
   "outputs": [
    {
     "name": "stdout",
     "output_type": "stream",
     "text": [
      "13\n"
     ]
    }
   ],
   "source": [
    "a = 13\n",
    "b = 0\n",
    "c = 20\n",
    "print (a or b)"
   ]
  },
  {
   "cell_type": "code",
   "execution_count": 18,
   "metadata": {},
   "outputs": [
    {
     "name": "stdout",
     "output_type": "stream",
     "text": [
      "20\n"
     ]
    }
   ],
   "source": [
    "a = 0\n",
    "b = 0\n",
    "c = 20\n",
    "print (a or b or c)"
   ]
  },
  {
   "cell_type": "code",
   "execution_count": 19,
   "metadata": {},
   "outputs": [
    {
     "name": "stdout",
     "output_type": "stream",
     "text": [
      "100\n"
     ]
    }
   ],
   "source": [
    "a = 100\n",
    "b = 10\n",
    "c = 20\n",
    "print (a or b and c) # 'and' operator will have precedence"
   ]
  },
  {
   "cell_type": "markdown",
   "metadata": {},
   "source": [
    "£ Membership operator (in)\n"
   ]
  },
  {
   "cell_type": "code",
   "execution_count": 24,
   "metadata": {},
   "outputs": [
    {
     "name": "stdout",
     "output_type": "stream",
     "text": [
      "True\n",
      "True\n",
      "False\n",
      "False\n",
      "True\n"
     ]
    }
   ],
   "source": [
    "a = [1,2,3,4,5]\n",
    "b = [[1,2,3,4,5],6,7,8]\n",
    "print (2 in a)\n",
    "print (20 not in a)\n",
    "print (20 in a)\n",
    "print (a in a)\n",
    "print (a in b)"
   ]
  },
  {
   "cell_type": "markdown",
   "metadata": {},
   "source": [
    "# £ Getting input from users"
   ]
  },
  {
   "cell_type": "code",
   "execution_count": 34,
   "metadata": {},
   "outputs": [
    {
     "name": "stdout",
     "output_type": "stream",
     "text": [
      "please enter some number...4.5\n",
      "user input: 4.5\n",
      "user input: <class 'str'>\n",
      "user input: <class 'float'>\n"
     ]
    }
   ],
   "source": [
    "a = input(\"please enter some number...\")\n",
    "print(\"user input:\", a)\n",
    "print(\"user input:\", type(a))\n",
    "print(\"user input:\", type((eval)(a)))"
   ]
  },
  {
   "cell_type": "code",
   "execution_count": 35,
   "metadata": {},
   "outputs": [
    {
     "name": "stdout",
     "output_type": "stream",
     "text": [
      "please enter some number...1,2,3\n",
      "user input: 1,2,3\n",
      "user input: <class 'str'>\n",
      "user input: <class 'tuple'>\n"
     ]
    }
   ],
   "source": [
    "a = input(\"please enter some number...\")\n",
    "print(\"user input:\", a)\n",
    "print(\"user input:\", type(a))\n",
    "print(\"user input:\", type((eval)(a)))"
   ]
  },
  {
   "cell_type": "code",
   "execution_count": 36,
   "metadata": {},
   "outputs": [
    {
     "name": "stdout",
     "output_type": "stream",
     "text": [
      "please enter some number...[1,2,3]\n",
      "user input: [1,2,3]\n",
      "user input: <class 'str'>\n",
      "user input: <class 'list'>\n"
     ]
    }
   ],
   "source": [
    "a = input(\"please enter some number...\")\n",
    "print(\"user input:\", a)\n",
    "print(\"user input:\", type(a))\n",
    "print(\"user input:\", type((eval)(a)))"
   ]
  },
  {
   "cell_type": "markdown",
   "metadata": {},
   "source": [
    "# £ Comments adn Multiline comments"
   ]
  },
  {
   "cell_type": "code",
   "execution_count": 38,
   "metadata": {},
   "outputs": [
    {
     "data": {
      "text/plain": [
       "' this is multiline comment1\\nthis is multiline comment1\\n'"
      ]
     },
     "execution_count": 38,
     "metadata": {},
     "output_type": "execute_result"
    }
   ],
   "source": [
    "# This is a single line comment\n",
    "\"\"\" this is multiline comment1\n",
    "this is multiline comment1\n",
    "\"\"\""
   ]
  },
  {
   "cell_type": "code",
   "execution_count": null,
   "metadata": {},
   "outputs": [],
   "source": []
  },
  {
   "cell_type": "code",
   "execution_count": null,
   "metadata": {},
   "outputs": [],
   "source": []
  },
  {
   "cell_type": "code",
   "execution_count": null,
   "metadata": {},
   "outputs": [],
   "source": []
  },
  {
   "cell_type": "code",
   "execution_count": null,
   "metadata": {},
   "outputs": [],
   "source": []
  },
  {
   "cell_type": "code",
   "execution_count": null,
   "metadata": {},
   "outputs": [],
   "source": []
  },
  {
   "cell_type": "code",
   "execution_count": null,
   "metadata": {},
   "outputs": [],
   "source": []
  },
  {
   "cell_type": "code",
   "execution_count": null,
   "metadata": {},
   "outputs": [],
   "source": []
  }
 ],
 "metadata": {
  "kernelspec": {
   "display_name": "Python 3",
   "language": "python",
   "name": "python3"
  },
  "language_info": {
   "codemirror_mode": {
    "name": "ipython",
    "version": 3
   },
   "file_extension": ".py",
   "mimetype": "text/x-python",
   "name": "python",
   "nbconvert_exporter": "python",
   "pygments_lexer": "ipython3",
   "version": "3.7.4"
  }
 },
 "nbformat": 4,
 "nbformat_minor": 2
}
