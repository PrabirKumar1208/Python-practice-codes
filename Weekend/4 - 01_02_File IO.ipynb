{
 "cells": [
  {
   "cell_type": "code",
   "execution_count": 1,
   "metadata": {},
   "outputs": [],
   "source": [
    "# pyPDF for opening PDF file\n"
   ]
  },
  {
   "cell_type": "markdown",
   "metadata": {},
   "source": [
    "## File I/O\n",
    "- Definition\n",
    "- Opening file using various modes\n",
    "- Read/Write operations on file\n",
    "- Tell and Seek operations\n",
    "- Some OS related operations\n",
    "- Exercise"
   ]
  },
  {
   "cell_type": "markdown",
   "metadata": {},
   "source": [
    "### Syntax:\n",
    "- open(<filename>,<mode>,<encoding>)\n",
    "- filename - with or without path(if file present inthe root dir) \n",
    "-  more: \n",
    "    - 'r'       open for reading (default)\n",
    "    - 'w'       open for writing, truncating the file first\n",
    "    - 'x'       create a new file and open it for writing\n",
    "    - 'a'       open for writing, appending to the end of the file if it exists\n",
    "    - 'b'       binary mode\n",
    "    - 't'       text mode (default)\n",
    "    - '+'       open a disk file for updating (reading and writing)\n",
    "    - 'U'       universal newline mode (deprecated)\n",
    "    - rb, wb, ab,rb+,wb+,ab+ : all the above operation in byte(binary) format\n",
    "    \n",
    "    \n"
   ]
  },
  {
   "cell_type": "code",
   "execution_count": 13,
   "metadata": {},
   "outputs": [],
   "source": [
    "fh = open(\"text1.txt\")\n",
    "# fh = open(\"text1.txt\",\"r\")\n",
    "# fh = open(\"./text1.txt\")\n",
    "# fh = open(\"C:\\Users\\pkmb\\Downloads\\Anaconda\\Weekend/text1.txt\")\n",
    "# fh = open(\"c:\\\\text1.txt\")\n",
    "# fh = open(\"c:/text1.txt\")\n",
    "# fh = open(r\"c:\\text1.txt\")\n"
   ]
  },
  {
   "cell_type": "code",
   "execution_count": 14,
   "metadata": {},
   "outputs": [
    {
     "data": {
      "text/plain": [
       "<_io.TextIOWrapper name='text1.txt' mode='r' encoding='cp1252'>"
      ]
     },
     "execution_count": 14,
     "metadata": {},
     "output_type": "execute_result"
    }
   ],
   "source": [
    "fh"
   ]
  },
  {
   "cell_type": "code",
   "execution_count": 29,
   "metadata": {},
   "outputs": [
    {
     "name": "stdout",
     "output_type": "stream",
     "text": [
      " 2\n"
     ]
    }
   ],
   "source": [
    "# print(fh.read())  # full content will be read\n",
    "# print(fh.read(2)) # only 2 bytes will be read at once and then if again runthe code, it will start from the next char.\n",
    "# print(fh.read())\n",
    "# print(fh.read())\n",
    "# print(fh.read())\n",
    "# print(fh.read())"
   ]
  },
  {
   "cell_type": "code",
   "execution_count": 32,
   "metadata": {},
   "outputs": [
    {
     "name": "stdout",
     "output_type": "stream",
     "text": [
      "This is line 1.\n",
      "\n"
     ]
    }
   ],
   "source": [
    "fh = open(\"text1.txt\")\n",
    "print(fh.readline())  #it will read line by line"
   ]
  },
  {
   "cell_type": "code",
   "execution_count": 35,
   "metadata": {},
   "outputs": [
    {
     "name": "stdout",
     "output_type": "stream",
     "text": [
      "This is line 4.\n",
      "\n"
     ]
    }
   ],
   "source": [
    "print(fh.readline())"
   ]
  },
  {
   "cell_type": "code",
   "execution_count": 37,
   "metadata": {},
   "outputs": [
    {
     "name": "stdout",
     "output_type": "stream",
     "text": [
      "['This is line 1.\\n', 'This is line 2.\\n', 'This is line 3.\\n', 'This is line 4.\\n', 'This is line 5.\\n', 'This is line 5.\\n', 'This is line 6.\\n', 'This is line 7.\\n']\n"
     ]
    }
   ],
   "source": [
    "fh = open(\"text1.txt\") # it will read all the line\n",
    "print(fh.readlines())"
   ]
  },
  {
   "cell_type": "markdown",
   "metadata": {},
   "source": [
    "# Tell and Seek\n",
    "\n",
    "- Tell\n",
    "- Seek, this function will change the pointer position"
   ]
  },
  {
   "cell_type": "code",
   "execution_count": 51,
   "metadata": {},
   "outputs": [],
   "source": [
    "fh = open(\"text1.txt\")"
   ]
  },
  {
   "cell_type": "code",
   "execution_count": 52,
   "metadata": {},
   "outputs": [
    {
     "name": "stdout",
     "output_type": "stream",
     "text": [
      "0\n",
      "Th\n",
      "2\n",
      "is\n",
      "4\n"
     ]
    }
   ],
   "source": [
    "print(fh.tell())\n",
    "print(fh.read(2))\n",
    "print(fh.tell())\n",
    "print(fh.read(2))\n",
    "print(fh.tell())"
   ]
  },
  {
   "cell_type": "markdown",
   "metadata": {},
   "source": [
    "## Seek"
   ]
  },
  {
   "cell_type": "code",
   "execution_count": null,
   "metadata": {},
   "outputs": [],
   "source": [
    "seek(<ofoset>,<pointer_position>)\n",
    "offset: number of char to be skipped\n",
    "pointer positions:\n",
    "    0: Starting of the file (default)\n",
    "    1: current position \n",
    "    2: end of file"
   ]
  },
  {
   "cell_type": "code",
   "execution_count": 57,
   "metadata": {},
   "outputs": [],
   "source": [
    "fh = open(\"text1.txt\")"
   ]
  },
  {
   "cell_type": "code",
   "execution_count": 61,
   "metadata": {},
   "outputs": [
    {
     "name": "stdout",
     "output_type": "stream",
     "text": [
      "0\n",
      "This \n",
      " line 1\n"
     ]
    }
   ],
   "source": [
    "fh = open(\"text1.txt\")\n",
    "print(fh.tell())\n",
    "print(fh.read(5))\n",
    "fh.seek(7)\n",
    "print(fh.read(7))\n"
   ]
  },
  {
   "cell_type": "code",
   "execution_count": 62,
   "metadata": {},
   "outputs": [
    {
     "name": "stdout",
     "output_type": "stream",
     "text": [
      "0\n",
      "This \n",
      "is line\n"
     ]
    }
   ],
   "source": [
    "fh = open(\"text1.txt\")\n",
    "print(fh.tell())\n",
    "print(fh.read(5))\n",
    "fh.seek(0,1)\n",
    "print(fh.read(7))"
   ]
  },
  {
   "cell_type": "code",
   "execution_count": 66,
   "metadata": {},
   "outputs": [
    {
     "name": "stdout",
     "output_type": "stream",
     "text": [
      "0\n",
      "b'This is line 1.\\nThis is line 2.\\nThis is line 3.\\nThis is line 4.\\nThis is line 5.\\nThis is line 5.\\nThis is line 6.\\nThis is line 7.\\n'\n",
      "b''\n"
     ]
    }
   ],
   "source": [
    "fh = open(\"text1.txt\",\"rb\")  # if rb is required if offset is >0 and position is current(1)\n",
    "print(fh.tell())\n",
    "print(fh.read())\n",
    "fh.seek(3,1)\n",
    "print(fh.read(4))"
   ]
  },
  {
   "cell_type": "code",
   "execution_count": 65,
   "metadata": {},
   "outputs": [
    {
     "name": "stdout",
     "output_type": "stream",
     "text": [
      "0\n",
      "b'This '\n",
      "5\n",
      "b'e 7'\n"
     ]
    }
   ],
   "source": [
    "fh = open(\"text1.txt\",\"rb\") \n",
    "print(fh.tell())\n",
    "print(fh.read(5))\n",
    "print(fh.tell())\n",
    "fh.seek(-5,2)\n",
    "print(fh.read(3))"
   ]
  },
  {
   "cell_type": "markdown",
   "metadata": {},
   "source": [
    "## Write Operation"
   ]
  },
  {
   "cell_type": "code",
   "execution_count": 71,
   "metadata": {},
   "outputs": [],
   "source": [
    "fh = open(\"text2.txt\",\"w\")\n",
    "fh.write('This is write1\\n')\n",
    "fh.write('This is write2\\n')\n",
    "fh.write('This is write3')\n",
    "fh.close()"
   ]
  },
  {
   "cell_type": "markdown",
   "metadata": {},
   "source": [
    "### using with open"
   ]
  },
  {
   "cell_type": "code",
   "execution_count": 75,
   "metadata": {},
   "outputs": [
    {
     "name": "stdout",
     "output_type": "stream",
     "text": [
      "False\n",
      "True\n"
     ]
    }
   ],
   "source": [
    "with open('test3.txt','w') as fh:\n",
    "    fh.write('Thie is write1\\n')\n",
    "    fh.write('Thie is write2\\n')\n",
    "    fh.write('Thie is write3\\n')\n",
    "    print(fh.closed)  # tocheck file is closed or not\n",
    "print(fh.closed)\n",
    "    "
   ]
  },
  {
   "cell_type": "markdown",
   "metadata": {},
   "source": [
    "## Append"
   ]
  },
  {
   "cell_type": "code",
   "execution_count": 76,
   "metadata": {},
   "outputs": [],
   "source": [
    "fh = open(\"test3.txt\",\"a\")\n",
    "fh.write('This is Append1\\n')\n",
    "fh.write('This is Append2\\n')\n",
    "fh.write('This is Append3\\n')\n",
    "fh.close()"
   ]
  },
  {
   "cell_type": "markdown",
   "metadata": {},
   "source": [
    "### Excercise"
   ]
  },
  {
   "cell_type": "markdown",
   "metadata": {},
   "source": [
    "#### Opent the file and print only those lines which is non-empty and later print only thos lines which is ending with even numbers.\n"
   ]
  },
  {
   "cell_type": "code",
   "execution_count": 88,
   "metadata": {},
   "outputs": [
    {
     "data": {
      "text/plain": [
       "<_io.TextIOWrapper name='text4.txt' mode='r' encoding='cp1252'>"
      ]
     },
     "execution_count": 88,
     "metadata": {},
     "output_type": "execute_result"
    }
   ],
   "source": [
    "open(\"text4.txt\")"
   ]
  },
  {
   "cell_type": "code",
   "execution_count": 96,
   "metadata": {},
   "outputs": [
    {
     "name": "stdout",
     "output_type": "stream",
     "text": [
      "This is line 2\n",
      "\n",
      "This is line 4\n",
      "\n",
      "This is line 6\n",
      "\n",
      "This is line 8\n",
      "\n"
     ]
    }
   ],
   "source": [
    "fh = open(\"text4.txt\")\n",
    "for line in fh:\n",
    "    if line!=\"\\n\":\n",
    "        if int(line[-2])%2 == 0:\n",
    "            print(line)\n",
    "    "
   ]
  },
  {
   "cell_type": "markdown",
   "metadata": {},
   "source": [
    "# OS related functions"
   ]
  },
  {
   "cell_type": "code",
   "execution_count": 97,
   "metadata": {},
   "outputs": [],
   "source": [
    "import os"
   ]
  },
  {
   "cell_type": "code",
   "execution_count": 111,
   "metadata": {},
   "outputs": [
    {
     "data": {
      "text/plain": [
       "'C:\\\\Users\\\\pkmb\\\\Downloads\\\\Anaconda\\\\Weekend'"
      ]
     },
     "execution_count": 111,
     "metadata": {},
     "output_type": "execute_result"
    }
   ],
   "source": [
    "os.getcwd()"
   ]
  },
  {
   "cell_type": "code",
   "execution_count": 112,
   "metadata": {},
   "outputs": [],
   "source": [
    "os.mkdir(\"testfolder\")"
   ]
  },
  {
   "cell_type": "code",
   "execution_count": 113,
   "metadata": {},
   "outputs": [],
   "source": [
    "os.rename(\"testfolder\",\"testfolder2\")"
   ]
  },
  {
   "cell_type": "code",
   "execution_count": 110,
   "metadata": {},
   "outputs": [],
   "source": [
    "os.removedirs(\"testfolder2\")"
   ]
  },
  {
   "cell_type": "code",
   "execution_count": null,
   "metadata": {},
   "outputs": [],
   "source": []
  },
  {
   "cell_type": "markdown",
   "metadata": {},
   "source": [
    "# Regular Expression"
   ]
  },
  {
   "cell_type": "code",
   "execution_count": null,
   "metadata": {},
   "outputs": [],
   "source": []
  }
 ],
 "metadata": {
  "kernelspec": {
   "display_name": "Python 3",
   "language": "python",
   "name": "python3"
  },
  "language_info": {
   "codemirror_mode": {
    "name": "ipython",
    "version": 3
   },
   "file_extension": ".py",
   "mimetype": "text/x-python",
   "name": "python",
   "nbconvert_exporter": "python",
   "pygments_lexer": "ipython3",
   "version": "3.7.4"
  }
 },
 "nbformat": 4,
 "nbformat_minor": 2
}
